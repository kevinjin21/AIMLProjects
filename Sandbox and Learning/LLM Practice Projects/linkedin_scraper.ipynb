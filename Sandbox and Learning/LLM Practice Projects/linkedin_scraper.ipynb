{
 "cells": [
  {
   "cell_type": "markdown",
   "id": "fe8e1eee",
   "metadata": {},
   "source": [
    "# Linkedin Profile Scraper Project\n",
    "Return profile information via linkedin login. Combining the power of Selenium to parse webpages and LLM to understand the parsed context."
   ]
  },
  {
   "cell_type": "code",
   "execution_count": 1,
   "id": "db1f4351",
   "metadata": {},
   "outputs": [],
   "source": [
    "# env imports\n",
    "import warnings, os\n",
    "warnings.filterwarnings('ignore')\n",
    "from dotenv import load_dotenv\n",
    "load_dotenv()\n",
    "\n",
    "# webscraping imports\n",
    "from bs4 import BeautifulSoup\n",
    "from selenium import webdriver\n",
    "from selenium.webdriver.common.by import By\n",
    "import re\n",
    "import json\n",
    "\n",
    "# llm imports\n",
    "from langchain_ollama import ChatOllama\n",
    "from langchain_core.prompts import (\n",
    "    SystemMessagePromptTemplate,\n",
    "    HumanMessagePromptTemplate,\n",
    "    ChatPromptTemplate)\n",
    "from langchain_core.output_parsers import StrOutputParser\n",
    "\n",
    "base_url='http://localhost:11434'\n",
    "model='llama3.2'"
   ]
  },
  {
   "cell_type": "markdown",
   "id": "c4b26e25",
   "metadata": {},
   "source": [
    "### Testing Selenium connection and login credentials"
   ]
  },
  {
   "cell_type": "code",
   "execution_count": 7,
   "id": "70e7ea5d",
   "metadata": {},
   "outputs": [
    {
     "data": {
      "text/plain": [
       "'LinkedIn Login, Sign in | LinkedIn'"
      ]
     },
     "execution_count": 7,
     "metadata": {},
     "output_type": "execute_result"
    }
   ],
   "source": [
    "driver = webdriver.Chrome()\n",
    "driver.get('https://www.linkedin.com/login')\n",
    "driver.title"
   ]
  },
  {
   "cell_type": "code",
   "execution_count": null,
   "id": "c2abe4a8",
   "metadata": {},
   "outputs": [],
   "source": [
    "# find fields and send creds from .env\n",
    "email = driver.find_element(By.ID, 'username')\n",
    "email.send_keys(os.getenv('LINKEDIN_USER'))\n",
    "password = driver.find_element(By.ID, 'password')\n",
    "password.send_keys(os.getenv('LINKEDIN_PASS'))\n",
    "\n",
    "# make sure remember me is not selected\n",
    "checkbox = driver.find_element(By.NAME, \"remember-me\")\n",
    "if checkbox.is_selected():\n",
    "    checkbox.click()\n",
    "\n",
    "password.submit()"
   ]
  }
 ],
 "metadata": {
  "kernelspec": {
   "display_name": "langchain",
   "language": "python",
   "name": "python3"
  },
  "language_info": {
   "codemirror_mode": {
    "name": "ipython",
    "version": 3
   },
   "file_extension": ".py",
   "mimetype": "text/x-python",
   "name": "python",
   "nbconvert_exporter": "python",
   "pygments_lexer": "ipython3",
   "version": "3.12.4"
  }
 },
 "nbformat": 4,
 "nbformat_minor": 5
}
