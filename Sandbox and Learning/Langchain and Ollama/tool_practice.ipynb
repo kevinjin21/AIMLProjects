{
 "cells": [
  {
   "cell_type": "markdown",
   "id": "2ffc645a",
   "metadata": {},
   "source": [
    "# Tool or Function Calling\n",
    "To build agent workflows, llms need access to tools. Some llms are not able to handle tools - llama3.2 is able to handle these so we will use it for this demo.\\\n",
    "Example workflow: query -> llm identifies what tool and what inputs are needed -> feed into tool -> receive and parse output"
   ]
  },
  {
   "cell_type": "code",
   "execution_count": 2,
   "id": "49ff64f2",
   "metadata": {},
   "outputs": [
    {
     "data": {
      "text/plain": [
       "True"
      ]
     },
     "execution_count": 2,
     "metadata": {},
     "output_type": "execute_result"
    }
   ],
   "source": [
    "from dotenv import load_dotenv\n",
    "import os\n",
    "load_dotenv()"
   ]
  },
  {
   "cell_type": "code",
   "execution_count": 3,
   "id": "9916b58b",
   "metadata": {},
   "outputs": [],
   "source": [
    "from langchain_ollama import ChatOllama\n",
    "from langchain_core.output_parsers import StrOutputParser\n",
    "from langchain_core.runnables import RunnablePassthrough\n",
    "from langchain_core.prompts import ChatPromptTemplate\n",
    "\n",
    "llm = ChatOllama(model='llama3.2', base_url='http://localhost:11434')"
   ]
  },
  {
   "cell_type": "markdown",
   "id": "00f29178",
   "metadata": {},
   "source": [
    "### Tool Creation\n",
    "Langchain web search tools: https://python.langchain.com/docs/integrations/tools/ \\\n",
    "In this example, we'll use tavily to search: https://app.tavily.com/home. Can also make your own search, but will be much more intensive.\n",
    "\n",
    "Use the langchain tool decorator to turn any function into a tool. The function must have a description and Args for the llm to understand."
   ]
  },
  {
   "cell_type": "code",
   "execution_count": 4,
   "id": "edf436a1",
   "metadata": {},
   "outputs": [],
   "source": [
    "### Tool Creation\n",
    "\n",
    "# allows you to convert any python function to a tool\n",
    "from langchain_core.tools import tool\n",
    "\n",
    "@tool\n",
    "def add(a, b):\n",
    "    \"\"\"\n",
    "    Adds two integer numbers together\n",
    "\n",
    "    Args:\n",
    "    a: First Integer\n",
    "    b: Second Integer\n",
    "    \"\"\"\n",
    "    return a + b\n",
    "\n",
    "@tool\n",
    "def multiply(a, b):\n",
    "    \"\"\"\n",
    "    Multiply two integer numbers together\n",
    "\n",
    "    Args:\n",
    "    a: First Integer\n",
    "    b: Second Integer\n",
    "    \"\"\""
   ]
  },
  {
   "cell_type": "markdown",
   "id": "58c2a9f5",
   "metadata": {},
   "source": [
    "We can see that this causes the function 'add' to be of type StructuredTool. This can then be added to a chain as a Runnable and can be invoked."
   ]
  },
  {
   "cell_type": "code",
   "execution_count": 5,
   "id": "760065eb",
   "metadata": {},
   "outputs": [
    {
     "data": {
      "text/plain": [
       "StructuredTool(name='add', description='Adds two integer numbers together\\n\\nArgs:\\na: First Integer\\nb: Second Integer', args_schema=<class 'langchain_core.utils.pydantic.add'>, func=<function add at 0x00000222E5B480E0>)"
      ]
     },
     "execution_count": 5,
     "metadata": {},
     "output_type": "execute_result"
    }
   ],
   "source": [
    "add"
   ]
  },
  {
   "cell_type": "code",
   "execution_count": 7,
   "id": "38cc2029",
   "metadata": {},
   "outputs": [
    {
     "data": {
      "text/plain": [
       "('add',\n",
       " 'Adds two integer numbers together\\n\\nArgs:\\na: First Integer\\nb: Second Integer',\n",
       " {'a': {'title': 'A'}, 'b': {'title': 'B'}},\n",
       " {'description': 'Adds two integer numbers together\\n\\nArgs:\\na: First Integer\\nb: Second Integer',\n",
       "  'properties': {'a': {'title': 'A'}, 'b': {'title': 'B'}},\n",
       "  'required': ['a', 'b'],\n",
       "  'title': 'add',\n",
       "  'type': 'object'})"
      ]
     },
     "execution_count": 7,
     "metadata": {},
     "output_type": "execute_result"
    }
   ],
   "source": [
    "add.name, add.description, add.args, add.args_schema.model_json_schema()"
   ]
  },
  {
   "cell_type": "markdown",
   "id": "56c02e09",
   "metadata": {},
   "source": [
    "### Invoking tools in a chain\n",
    "Since tools are no longer plain functions, they must be invoked instead of called. This is to help prepare them for langchain implementation so the llm can properly call the tools."
   ]
  },
  {
   "cell_type": "code",
   "execution_count": 8,
   "id": "fb7cef6d",
   "metadata": {},
   "outputs": [
    {
     "data": {
      "text/plain": [
       "3"
      ]
     },
     "execution_count": 8,
     "metadata": {},
     "output_type": "execute_result"
    }
   ],
   "source": [
    "add.invoke({'a': 1, 'b': 2})"
   ]
  },
  {
   "cell_type": "markdown",
   "id": "6b9d5d7b",
   "metadata": {},
   "source": [
    "### Bind tools to an llm"
   ]
  },
  {
   "cell_type": "code",
   "execution_count": 10,
   "id": "d48b1bc7",
   "metadata": {},
   "outputs": [
    {
     "data": {
      "text/plain": [
       "RunnableBinding(bound=ChatOllama(model='llama3.2', base_url='http://localhost:11434'), kwargs={'tools': [{'type': 'function', 'function': {'name': 'add', 'description': 'Adds two integer numbers together\\n\\nArgs:\\na: First Integer\\nb: Second Integer', 'parameters': {'properties': {'a': {}, 'b': {}}, 'required': ['a', 'b'], 'type': 'object'}}}, {'type': 'function', 'function': {'name': 'multiply', 'description': 'Multiply two integer numbers together\\n\\nArgs:\\na: First Integer\\nb: Second Integer', 'parameters': {'properties': {'a': {}, 'b': {}}, 'required': ['a', 'b'], 'type': 'object'}}}]}, config={}, config_factories=[])"
      ]
     },
     "execution_count": 10,
     "metadata": {},
     "output_type": "execute_result"
    }
   ],
   "source": [
    "tools = [add, multiply]\n",
    "\n",
    "llm_with_tools = llm.bind_tools(tools)\n",
    "llm_with_tools"
   ]
  },
  {
   "cell_type": "markdown",
   "id": "98998343",
   "metadata": {},
   "source": [
    "Here the llm does not return the answer (content=''), but it instead shows what the name of the tool we should use is (see tool_calls) along with the arguments that it will take in. In this case, the ToolCall will have name='add' and arguments correctly passed."
   ]
  },
  {
   "cell_type": "code",
   "execution_count": 13,
   "id": "ee1ad565",
   "metadata": {},
   "outputs": [
    {
     "data": {
      "text/plain": [
       "[{'name': 'add',\n",
       "  'args': {'a': '1', 'b': '2'},\n",
       "  'id': 'e842fdc5-fdd0-4425-9985-45851a0aef34',\n",
       "  'type': 'tool_call'},\n",
       " {'name': 'multiply',\n",
       "  'args': {'a': '2', 'b': '14'},\n",
       "  'id': '569a813e-4dc9-420c-b8f4-a29f9a32f1d7',\n",
       "  'type': 'tool_call'}]"
      ]
     },
     "execution_count": 13,
     "metadata": {},
     "output_type": "execute_result"
    }
   ],
   "source": [
    "question = \"What is 1 plus 2? Also, what is 2 times 14?\"\n",
    "llm_with_tools.invoke(question).tool_calls"
   ]
  },
  {
   "cell_type": "markdown",
   "id": "ae924fd7",
   "metadata": {},
   "source": [
    "# Web Search Tools\n",
    "For this demo, we'll create a few tools that can perform internet searches. Searches will return articles or web text that can then be fed into an LLM as context. Then, we'll combine the tools and show how to use them with an LLM."
   ]
  },
  {
   "cell_type": "markdown",
   "id": "3e7b016d",
   "metadata": {},
   "source": [
    "## DuckDuckGoSearch\n",
    "https://python.langchain.com/docs/integrations/tools/ddg/"
   ]
  },
  {
   "cell_type": "code",
   "execution_count": 3,
   "id": "531cc43d",
   "metadata": {},
   "outputs": [
    {
     "data": {
      "text/plain": [
       "\"S&P 500 Today: Get all information on the S&P 500 Index including historical chart, news and constituents. ... Date Analyst stock Rating Price 4/17/2025 ... The S&P 500 fell 1.5% during the shortened trading week—markets are closed tomorrow in observation of Good Friday—while the Dow and Nasdaq Composite gave up 2.7% and 2.6%, respectively. S&P 500 ekes out gain; Dow and Nasdaq close lower The S&P 500 inched 0.1% higher on Thursday, snapping a two-day losing streak. The Dow and Nasdaq Composite lost 1.3% and 0.1%, respectively, in ... The S&P 500 rose nearly 0.1% and managed to eke out a gain of about 0.5% for the week. The tech-heavy Nasdaq Composite (^IXIC) rose 0.5% and also climbed in positive territory for the week. Get S&P 500 Index End of day (.SP500) real-time stock quotes, news, price and financial information from Reuters to inform your trading and investments ... Today's Range 5,275.70 5,275.70 ...\""
      ]
     },
     "execution_count": 3,
     "metadata": {},
     "output_type": "execute_result"
    }
   ],
   "source": [
    "from langchain_community.tools import DuckDuckGoSearchRun\n",
    "search = DuckDuckGoSearchRun()\n",
    "search.invoke(\"Summarize the S&P500 news for today, including the current date.\")"
   ]
  },
  {
   "cell_type": "markdown",
   "id": "ef8e7edd",
   "metadata": {},
   "source": [
    "## Tavily Search\n",
    "Tavily Sarch has its own package now in langchain-tavily instead of in community.tools. For this exercise we'll use the old one though. Note: 1000 searches per month are available on free plan of Tavily. \\\n",
    "https://python.langchain.com/docs/integrations/tools/tavily_search/ \\\n",
    "https://docs.tavily.com/documentation/api-reference/endpoint/search"
   ]
  },
  {
   "cell_type": "code",
   "execution_count": 13,
   "id": "5a65b4d3",
   "metadata": {},
   "outputs": [],
   "source": [
    "from langchain_community.tools import TavilySearchResults\n",
    "\n",
    "search = TavilySearchResults(\n",
    "    max_results=5,\n",
    "    search_depth='advanced',\n",
    "    include_answer=True,\n",
    "    include_raw_content=True\n",
    ")"
   ]
  },
  {
   "cell_type": "code",
   "execution_count": 15,
   "id": "6002c6c1",
   "metadata": {},
   "outputs": [
    {
     "data": {
      "text/plain": [
       "5"
      ]
     },
     "execution_count": 15,
     "metadata": {},
     "output_type": "execute_result"
    }
   ],
   "source": [
    "results = search.invoke(\"Summarize the S&P500 news for today, including the current date.\")\n",
    "len(results)"
   ]
  },
  {
   "cell_type": "markdown",
   "id": "5b156336",
   "metadata": {},
   "source": [
    "## Wikipedia Search\n",
    "Returns pages to be fed to llm as context based on question. \\\n",
    "https://python.langchain.com/docs/integrations/tools/wikipedia/"
   ]
  },
  {
   "cell_type": "code",
   "execution_count": 9,
   "id": "d99434bf",
   "metadata": {},
   "outputs": [],
   "source": [
    "from langchain_community.tools import WikipediaQueryRun\n",
    "from langchain_community.utilities import WikipediaAPIWrapper"
   ]
  },
  {
   "cell_type": "code",
   "execution_count": 10,
   "id": "640acb25",
   "metadata": {},
   "outputs": [],
   "source": [
    "wikipedia = WikipediaQueryRun(api_wrapper=WikipediaAPIWrapper())\n",
    "question = 'What is the capital of UAE?'\n",
    "response = wikipedia.invoke(question)"
   ]
  },
  {
   "cell_type": "code",
   "execution_count": 16,
   "id": "fd3f78b3",
   "metadata": {},
   "outputs": [
    {
     "name": "stdout",
     "output_type": "stream",
     "text": [
      "Page: United Arab Emirates\n",
      "Summary: The United Arab Emirates (UAE), or simply the Emirates, is a country in West Asia, in the Middle East, at the eastern end of the Arabian Peninsula. It is a federal elective monarchy made up of seven emirates, with Abu Dhabi serving as its capital. It shares land borders with Oman to the east and northeast, and with Saudi Arabia to the southwest; as well as maritime borders in the Persian Gulf with Qatar and Iran, and with Oman in the Gulf of Oman. As of 2024, the UAE has an estimated population of over 10 million, of which 11% are Emiratis; Dubai is its most populous city and is an international hub. Islam is the official religion and Arabic is the official language, while English is the most spoken language and the language of business.\n",
      "The United Arab Emirates oil and natural gas reserves are the world's seventh and seventh-largest, respectively. Zayed bin Sultan Al Nahyan, ruler of Abu Dhabi and the country's first president, oversaw the development of the Emirates by investing oil revenues into healthcare, education, and infrastructure. The country has the most diversified economy among the members of the Gulf Cooperation Council (GCC). In the 21st century, the UAE has become less reliant on oil and gas and is economically focusing on tourism and business. The UAE is considered a middle power. It is also a member of the United Nations, Arab League, Organisation of Islamic Cooperation, OPEC, Non-Aligned Movement, World Trade Organization, and BRICS.  The UAE is also a dialogue partner of the Shanghai Cooperation Organisation.\n",
      "Human rights organisations consider the UAE substandard on human rights, ranking only 6.06 in the human freedom index, citing reports of government critics being imprisoned and tortured, families harassed by the state security apparatus, and cases of forced disappearances. Individual rights such as the freedoms of assembly, association, expression, and the freedom of the press are severely repressed.\n",
      "\n",
      "Page: Taxation in the United Arab Emirates\n",
      "Summary: \n",
      "\n",
      "Page: Abu Dhabi\n",
      "Summary: Abu Dhabi is the capital city of the United Arab Emirates. The city is the seat of the Abu Dhabi Central Capital District, the capital city of the Emirate of Abu Dhabi, and the UAE's second-most populous city, after Dubai. The city is situated on a T-shaped island, extending into the Persian Gulf from the central-western coast of the UAE.\n",
      "Abu Dhabi is located on an island in the Persian Gulf, off the Central West Coast. Most of the city and the Emirate reside on the mainland connected to the rest of the country. As of 2023, Abu Dhabi's urban area had an estimated population of 2.5 million, out of 3.8 million in the emirate of Abu Dhabi. The Abu Dhabi Investment Authority is headquartered in the city, and was the world's 3rd largest sovereign wealth fund in 2022. Abu Dhabi itself has over a trillion US dollars worth of assets under management in a combination of various sovereign wealth funds headquartered there.\n",
      "Abu Dhabi houses local and federal government offices and is the home of the United Arab Emirates Government and the Supreme Council for Financial and Economic Affairs. The city is home to the UAE's president, a member of the Al Nahyan family. Abu Dhabi's rapid development and urbanisation, coupled with the massive oil and gas reserves and production and relatively high average income, have transformed it into a large, developed metropolis. It is the country's centre of politics and industry, and a major culture and commerce center. Abu Dhabi accounts for about two-thirds of the roughly $503 billion UAE economy.\n"
     ]
    }
   ],
   "source": [
    "print(response)"
   ]
  },
  {
   "cell_type": "markdown",
   "id": "489e0923",
   "metadata": {},
   "source": [
    "## PubMed\n",
    "More than 35M citations for biomed literature from scientific sources. May contain full text content from PubMed Central and other publisher websites.\n",
    "https://python.langchain.com/docs/integrations/tools/pubmed/"
   ]
  },
  {
   "cell_type": "code",
   "execution_count": 18,
   "id": "4e2d5bde",
   "metadata": {},
   "outputs": [
    {
     "name": "stdout",
     "output_type": "stream",
     "text": [
      "Too Many Requests, waiting for 0.20 seconds...\n",
      "Published: 2025-04-23\n",
      "Title: 4-fluorophenylacetamide acetyl coumarin induces pro-inflammatory M1 macrophage polarization and suppresses the immunosuppressive M2 phenotype through PI3k/AKT/NF-κB modulation.\n",
      "Copyright Information: © 2025. The Author(s), under exclusive licence to Springer Nature B.V.\n",
      "Summary::\n",
      "BACKGROUND: The tumor microenvironment plays a critical role in cancer progression, with tumor-associated macrophages regulating immune responses. These macrophages can adopt a pro-inflammatory M1 phenotype that suppresses tumor growth or an anti-inflammatory M2 phenotype that promotes progression. Reprogramming macrophages toward the M1 phenotype is a therapeutic strategy. Previous studies showed that 4-Fluorophenylacetamide-acetyl coumarin (4-FPAC), a synthetic coumarin derivative, exhibits cytostatic activity in A549 lung carcinoma cells by modulating reactive oxygen species (ROS), nitric oxide synthase, and signaling pathways, including PI3K/AKT/NF-κB. This study evaluates the impact of 4-FPAC on macrophage polarization.\n",
      "HYPOTHESIS: We hypothesized that 4-FPAC promotes M1 macrophage polarization while suppressing M2 markers through modulation of signaling pathways, thus serving as an immunomodulatory agent.\n",
      "RESULTS: Treatment with 4-FPAC induced M1 polarization in THP1-derived macrophages, evident from morphological elongation, elevated ROS and NO production, and increased IL-12 levels. IL-10 levels and M2 markers (CD163, STAT3, AKT1) were downregulated, while M1 markers (CD80, STAT1, AKT2) were upregulated. Gene expression and western blot analyses revealed activation of P38 and NF-κB pathways and reduced phosphorylated AKT1 levels. In silico docking showed strong interactions of 4-FPAC with regulatory proteins like P38, NF-κB, and AKT1, suggesting pathway modulation.\n",
      "CONCLUSION: 4-FPAC facilitates M1 macrophage polarization and inhibits M2 signaling, demonstrating its potential as an immunomodulatory agent. Coupled with its cytostatic effects on A549 cells\n"
     ]
    }
   ],
   "source": [
    "from langchain_community.tools.pubmed.tool import PubmedQueryRun\n",
    "tool = PubmedQueryRun()\n",
    "print(tool.invoke(\"What causes lung cancer?\"))"
   ]
  },
  {
   "cell_type": "markdown",
   "id": "aa6624d6",
   "metadata": {},
   "source": [
    "# Tool Calling with LLM \n",
    "Integrating the two previous sections, we'll use a search and send the result to LLM as context. Let's first set up all the different search tools:"
   ]
  },
  {
   "cell_type": "code",
   "execution_count": 4,
   "id": "78a8f177",
   "metadata": {},
   "outputs": [],
   "source": [
    "from langchain_community.tools import WikipediaQueryRun\n",
    "from langchain_community.tools import TavilySearchResults\n",
    "from langchain_community.tools.pubmed.tool import PubmedQueryRun\n",
    "from langchain_community.utilities import WikipediaAPIWrapper\n",
    "from langchain_core.tools import tool\n",
    "\n",
    "@tool\n",
    "def wikipedia_search(query):\n",
    "    \"\"\"\n",
    "    Search wikipedia for general information.\n",
    "\n",
    "    Args:\n",
    "    query: The search query\n",
    "    \"\"\"\n",
    "    wikipedia = WikipediaQueryRun(api_wrapper=WikipediaAPIWrapper())\n",
    "    return wikipedia.invoke(query)\n",
    "\n",
    "@tool\n",
    "def pubmed_search(query):\n",
    "    \"\"\"\n",
    "    Search pubmed for medical and life science queries.\n",
    "\n",
    "    Args:\n",
    "    query: The search query\n",
    "    \"\"\"\n",
    "    pubmed = PubmedQueryRun()\n",
    "    return pubmed.invoke(query)\n",
    "\n",
    "@tool\n",
    "def tavily_search(query):\n",
    "    \"\"\"\n",
    "    Search the web for realtime and latest news and information.\n",
    "    For example, news, stock market, weather updates, etc.\n",
    "\n",
    "    Args:\n",
    "    query: The search query\n",
    "    \"\"\"\n",
    "    search = TavilySearchResults(\n",
    "    max_results=5,\n",
    "    search_depth='advanced',\n",
    "    include_answer=True,\n",
    "    include_raw_content=True\n",
    "    )\n",
    "    return search.invoke(query)\n"
   ]
  },
  {
   "cell_type": "markdown",
   "id": "29afa992",
   "metadata": {},
   "source": [
    "### Combine tools for LLM to use"
   ]
  },
  {
   "cell_type": "code",
   "execution_count": 7,
   "id": "d963a00b",
   "metadata": {},
   "outputs": [
    {
     "data": {
      "text/plain": [
       "{'wikipedia_search': StructuredTool(name='wikipedia_search', description='Search wikipedia for general information.\\n\\nArgs:\\nquery: The search query', args_schema=<class 'langchain_core.utils.pydantic.wikipedia_search'>, func=<function wikipedia_search at 0x000001506F7A1D00>),\n",
       " 'pubmed_search': StructuredTool(name='pubmed_search', description='Search pubmed for medical and life science queries.\\n\\nArgs:\\nquery: The search query', args_schema=<class 'langchain_core.utils.pydantic.pubmed_search'>, func=<function pubmed_search at 0x000001506E28F560>),\n",
       " 'tavily_search': StructuredTool(name='tavily_search', description='Search the web for realtime and latest news and information.\\nFor example, news, stock market, weather updates, etc.\\n\\nArgs:\\nquery: The search query', args_schema=<class 'langchain_core.utils.pydantic.tavily_search'>, func=<function tavily_search at 0x000001506E28CD60>)}"
      ]
     },
     "execution_count": 7,
     "metadata": {},
     "output_type": "execute_result"
    }
   ],
   "source": [
    "tools = [wikipedia_search, pubmed_search, tavily_search]\n",
    "\n",
    "# struct format for tool list\n",
    "list_of_tools = { tool.name: tool for tool in tools }\n",
    "list_of_tools"
   ]
  },
  {
   "cell_type": "markdown",
   "id": "6a3097d1",
   "metadata": {},
   "source": [
    "### Bind to LLM"
   ]
  },
  {
   "cell_type": "code",
   "execution_count": 17,
   "id": "7f3e2359",
   "metadata": {},
   "outputs": [],
   "source": [
    "from langchain_ollama import ChatOllama\n",
    "from langchain_core.output_parsers import StrOutputParser\n",
    "from langchain_core.runnables import RunnablePassthrough\n",
    "from langchain_core.prompts import ChatPromptTemplate\n",
    "from langchain_core.messages import HumanMessage\n",
    "\n",
    "llm = ChatOllama(model='llama3.2', base_url='http://localhost:11434')"
   ]
  },
  {
   "cell_type": "code",
   "execution_count": 10,
   "id": "b5217822",
   "metadata": {},
   "outputs": [],
   "source": [
    "llm_with_tools = llm.bind_tools(tools)"
   ]
  },
  {
   "cell_type": "code",
   "execution_count": 11,
   "id": "ed14d53d",
   "metadata": {},
   "outputs": [],
   "source": [
    "query = \"What is the latest news?\"\n",
    "\n",
    "response = llm_with_tools.invoke(query)"
   ]
  },
  {
   "cell_type": "markdown",
   "id": "00722fad",
   "metadata": {},
   "source": [
    "There is no content here again, but it is calling the tavily_search function to search the web for latest news. Rerunning with a medical-related question shows that the tool would call pubmed_search instead, since we defined that tool to handle medical information."
   ]
  },
  {
   "cell_type": "code",
   "execution_count": 16,
   "id": "565f6d55",
   "metadata": {},
   "outputs": [
    {
     "name": "stdout",
     "output_type": "stream",
     "text": [
      "content='' additional_kwargs={} response_metadata={'model': 'llama3.2', 'created_at': '2025-04-23T20:47:35.6957206Z', 'done': True, 'done_reason': 'stop', 'total_duration': 8979738800, 'load_duration': 7055983200, 'prompt_eval_count': 297, 'prompt_eval_duration': 1562000000, 'eval_count': 20, 'eval_duration': 359000000, 'message': Message(role='assistant', content='', images=None, tool_calls=[ToolCall(function=Function(name='tavily_search', arguments={'query': 'latest news'}))])} id='run-7281916d-207f-4f9d-a599-fc8d1c6c39a0-0' tool_calls=[{'name': 'tavily_search', 'args': {'query': 'latest news'}, 'id': 'f6cbd162-712c-4cc9-bf35-b1de9ad868a6', 'type': 'tool_call'}] usage_metadata={'input_tokens': 297, 'output_tokens': 20, 'total_tokens': 317}\n",
      "\n",
      "\n",
      "[{'name': 'tavily_search', 'args': {'query': 'latest news'}, 'id': 'f6cbd162-712c-4cc9-bf35-b1de9ad868a6', 'type': 'tool_call'}]\n"
     ]
    }
   ],
   "source": [
    "print(response)\n",
    "print('\\n')\n",
    "print(response.tool_calls)"
   ]
  },
  {
   "cell_type": "markdown",
   "id": "e850d4e8",
   "metadata": {},
   "source": [
    "# Using an LLM to get the FINAL RESULT\n",
    "So far, we've been able to use an LLM to identify which tool to use and specify the input parameters. Now, we should use this determined input and tool to actually generate a response based on the user's query.\n",
    "\n",
    "Initial tool call (as done previously) to grab the input params and desired tool:"
   ]
  },
  {
   "cell_type": "code",
   "execution_count": 28,
   "id": "d24889b6",
   "metadata": {},
   "outputs": [
    {
     "data": {
      "text/plain": [
       "AIMessage(content='', additional_kwargs={}, response_metadata={'model': 'llama3.2', 'created_at': '2025-04-23T21:06:44.5920272Z', 'done': True, 'done_reason': 'stop', 'total_duration': 1435877400, 'load_duration': 16650700, 'prompt_eval_count': 301, 'prompt_eval_duration': 7000000, 'eval_count': 21, 'eval_duration': 1411000000, 'message': Message(role='assistant', content='', images=None, tool_calls=[ToolCall(function=Function(name='pubmed_search', arguments={'query': 'skin cancer new findings'}))])}, id='run-3653c871-8652-4858-8915-86e072e322c1-0', tool_calls=[{'name': 'pubmed_search', 'args': {'query': 'skin cancer new findings'}, 'id': '714923a5-175f-4160-8b17-07fda5254624', 'type': 'tool_call'}], usage_metadata={'input_tokens': 301, 'output_tokens': 21, 'total_tokens': 322})"
      ]
     },
     "execution_count": 28,
     "metadata": {},
     "output_type": "execute_result"
    }
   ],
   "source": [
    "query = \"What new findings have been published on skin cancer?\"\n",
    "\n",
    "messages = [HumanMessage(query)]\n",
    "\n",
    "ai_msg = llm_with_tools.invoke(messages)\n",
    "ai_msg"
   ]
  },
  {
   "cell_type": "markdown",
   "id": "01794ef0",
   "metadata": {},
   "source": [
    "Then, we should append this to messages to be fed back into an llm. We have identified human messages and ai messages, so the LLM will be able to distinguish between these."
   ]
  },
  {
   "cell_type": "code",
   "execution_count": 29,
   "id": "c5c53d0b",
   "metadata": {},
   "outputs": [
    {
     "data": {
      "text/plain": [
       "[HumanMessage(content='What new findings have been published on skin cancer?', additional_kwargs={}, response_metadata={}),\n",
       " AIMessage(content='', additional_kwargs={}, response_metadata={'model': 'llama3.2', 'created_at': '2025-04-23T21:06:44.5920272Z', 'done': True, 'done_reason': 'stop', 'total_duration': 1435877400, 'load_duration': 16650700, 'prompt_eval_count': 301, 'prompt_eval_duration': 7000000, 'eval_count': 21, 'eval_duration': 1411000000, 'message': Message(role='assistant', content='', images=None, tool_calls=[ToolCall(function=Function(name='pubmed_search', arguments={'query': 'skin cancer new findings'}))])}, id='run-3653c871-8652-4858-8915-86e072e322c1-0', tool_calls=[{'name': 'pubmed_search', 'args': {'query': 'skin cancer new findings'}, 'id': '714923a5-175f-4160-8b17-07fda5254624', 'type': 'tool_call'}], usage_metadata={'input_tokens': 301, 'output_tokens': 21, 'total_tokens': 322})]"
      ]
     },
     "execution_count": 29,
     "metadata": {},
     "output_type": "execute_result"
    }
   ],
   "source": [
    "messages.append(ai_msg)\n",
    "messages"
   ]
  },
  {
   "cell_type": "markdown",
   "id": "b6ebe4b5",
   "metadata": {},
   "source": [
    "Next, for each tool that will be used, we should append the tool message to messages as well. "
   ]
  },
  {
   "cell_type": "code",
   "execution_count": 30,
   "id": "af306032",
   "metadata": {},
   "outputs": [
    {
     "name": "stdout",
     "output_type": "stream",
     "text": [
      "Too Many Requests, waiting for 0.20 seconds...\n"
     ]
    }
   ],
   "source": [
    "for tool_call in ai_msg.tool_calls:\n",
    "    name = tool_call['name'].lower()\n",
    "    selected_tool = list_of_tools[name] # dict of tools and their related StructuredTool\n",
    "    tool_msg = selected_tool.invoke(tool_call)\n",
    "\n",
    "    messages.append(tool_msg)"
   ]
  },
  {
   "cell_type": "code",
   "execution_count": 31,
   "id": "c536e4c4",
   "metadata": {},
   "outputs": [
    {
     "data": {
      "text/plain": [
       "[HumanMessage(content='What new findings have been published on skin cancer?', additional_kwargs={}, response_metadata={}),\n",
       " AIMessage(content='', additional_kwargs={}, response_metadata={'model': 'llama3.2', 'created_at': '2025-04-23T21:06:44.5920272Z', 'done': True, 'done_reason': 'stop', 'total_duration': 1435877400, 'load_duration': 16650700, 'prompt_eval_count': 301, 'prompt_eval_duration': 7000000, 'eval_count': 21, 'eval_duration': 1411000000, 'message': Message(role='assistant', content='', images=None, tool_calls=[ToolCall(function=Function(name='pubmed_search', arguments={'query': 'skin cancer new findings'}))])}, id='run-3653c871-8652-4858-8915-86e072e322c1-0', tool_calls=[{'name': 'pubmed_search', 'args': {'query': 'skin cancer new findings'}, 'id': '714923a5-175f-4160-8b17-07fda5254624', 'type': 'tool_call'}], usage_metadata={'input_tokens': 301, 'output_tokens': 21, 'total_tokens': 322}),\n",
       " ToolMessage(content='Published: 2025-04-22\\nTitle: [Melanoma prevention - to screen or not to screen?].\\nCopyright Information: Thieme. All rights reserved.\\nSummary::\\nMelanoma is one of the most common cancers worldwide with a high mortality rate. However, the smaller the melanoma is when it is first diagnosed, the better the prognosis. Since skin melanomas can be detected relatively easy with the naked eye, systematic skin cancer screening could theoretically reduce melanoma mortality by diagnosing it as early as possible. Evaluations of skin cancer early detection programs show an increase in the incidence of detection of the skin cancer and especially thins melanomas, but so far, no evidence of a decrease in mortality. Current data on patient-related factors show that fewer men and people with lower socioeconomic status participate in skin cancer screening and knowledge about skin cancer-associated factors is low.Based on the current study situation, it is therefore not possible to recommend or advise against skin cancer screening for the asymptomatic population. Screening is recommended for all people at increased risk: fair skin type according to Fitzpatrick I-II, under immunosuppression, more than 50 melanocytic nevi and history of dysplastic and/or large nevi, family history of melanoma, frequent severe sunburns in childhood. In addition, targeted educational campaigns among risk groups (men, people with low levels of education) are needed.New imaging techniques such as 3D whole-body photography with additional computer-based, AI-assisted risk assessment of digital dermoscopic images, when integrated into clinical decision-making processes (as \"augmented intelligence\" - AI), clearly have the potential to improve skin cancer screening, particularly in high-risk and melanoma patients. In combination with human expertise, they can potentially offer a more effective and comprehensive approach to detecting and monitoring skin cancer. Randomized controlled studies must show to what exten', name='pubmed_search', tool_call_id='714923a5-175f-4160-8b17-07fda5254624')]"
      ]
     },
     "execution_count": 31,
     "metadata": {},
     "output_type": "execute_result"
    }
   ],
   "source": [
    "messages"
   ]
  },
  {
   "cell_type": "markdown",
   "id": "1848ae8c",
   "metadata": {},
   "source": [
    "Note: looking at above output, we see that:\n",
    "- First, the llm chose pubmed_search as the tool and 'skin cancer new findings' as the query. This was extracted from our original query of 'What new findings have been published on skin cancer'. \n",
    "- Then, the chosen tool is called, which brings back some context on recent articles related to skin cancer. \n",
    "- Finally, the original query is evaluated using this context and a response is generated.\n",
    "### Finally, calling the entire llm with tools, we can get some news related to our query:"
   ]
  },
  {
   "cell_type": "code",
   "execution_count": 32,
   "id": "d91af139",
   "metadata": {},
   "outputs": [
    {
     "name": "stdout",
     "output_type": "stream",
     "text": [
      "Based on the latest research published in various medical journals, here are some new findings on skin cancer:\n",
      "\n",
      "1. **Early detection through 3D whole-body photography**: A new study has shown that 3D whole-body photography, combined with computer-based AI-assisted risk assessment of digital dermoscopic images, can significantly improve skin cancer screening, particularly in high-risk patients.\n",
      "2. **Targeted educational campaigns**: Researchers recommend targeted educational campaigns among risk groups, including men and people with lower socioeconomic status, to increase knowledge about skin cancer-associated factors and encourage participation in skin cancer screening programs.\n",
      "3. **Increased detection of thin melanomas**: Systematic skin cancer screening has been shown to detect more melanomas, particularly thinner ones, which have a better prognosis when diagnosed early.\n",
      "4. **No evidence of decreased mortality**: Despite increased detection of melanomas through screening, there is currently no evidence that systematic skin cancer screening has reduced mortality rates from this type of cancer.\n",
      "\n",
      "Overall, while systematic skin cancer screening can help detect melanomas earlier, more research is needed to determine its effectiveness in reducing mortality rates. Targeted educational campaigns and the integration of new imaging techniques, such as 3D whole-body photography and AI-assisted risk assessment, may offer promising approaches to improving skin cancer screening and outcomes.\n"
     ]
    }
   ],
   "source": [
    "response = llm_with_tools.invoke(messages)\n",
    "print(response.content)"
   ]
  }
 ],
 "metadata": {
  "kernelspec": {
   "display_name": "langchain",
   "language": "python",
   "name": "python3"
  },
  "language_info": {
   "codemirror_mode": {
    "name": "ipython",
    "version": 3
   },
   "file_extension": ".py",
   "mimetype": "text/x-python",
   "name": "python",
   "nbconvert_exporter": "python",
   "pygments_lexer": "ipython3",
   "version": "3.12.4"
  }
 },
 "nbformat": 4,
 "nbformat_minor": 5
}
