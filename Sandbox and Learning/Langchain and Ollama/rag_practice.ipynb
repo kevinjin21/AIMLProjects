{
 "cells": [
  {
   "cell_type": "markdown",
   "id": "526e6626",
   "metadata": {},
   "source": [
    "# PDF Document Loading and Starting RAG\n",
    "Use pdf loading library to feed pdfs into llm. Tutorial uses PyMuPdf. It is **already available within langchain_community.**\n",
    "\n",
    "PyMuPdf vs. Pypdf: pymu is faster at just extracting text from pdfs; sometimes it handles graphics and formatting better too. However, potentially less secure and has reliability issues. pypdf is slower but may be considered more stable and ready for enterprise use. Often has issues with formatting. \n",
    "\n",
    "Other loaders + langchain docs: https://python.langchain.com/docs/integrations/document_loaders/\n",
    "\n",
    "We will also use *tiktoken*, which helps tokenize the text. It is included in the openai library installation in requirements.txt."
   ]
  },
  {
   "cell_type": "code",
   "execution_count": 30,
   "id": "b10eb148",
   "metadata": {},
   "outputs": [],
   "source": [
    "from langchain_community.document_loaders import PyMuPDFLoader\n",
    "from dotenv import load_dotenv\n",
    "load_dotenv('.env')\n",
    "import os, glob"
   ]
  },
  {
   "cell_type": "markdown",
   "id": "1fb90b2f",
   "metadata": {},
   "source": [
    "using finance pdfs for this exercise from: https://github.com/pistolla/gnidart/tree/master\n",
    "tutorial uses health supplement pdfs instead"
   ]
  },
  {
   "cell_type": "code",
   "execution_count": 7,
   "id": "ebce2631",
   "metadata": {},
   "outputs": [
    {
     "data": {
      "text/plain": [
       "215"
      ]
     },
     "execution_count": 7,
     "metadata": {},
     "output_type": "execute_result"
    }
   ],
   "source": [
    "loader = PyMuPDFLoader(\"finance_pdfs/Market Wizards - Interviews With Top Traders 2012.pdf\")\n",
    "docs = loader.load()\n",
    "len(docs) # number of pages"
   ]
  },
  {
   "cell_type": "code",
   "execution_count": 9,
   "id": "6ee1dba0",
   "metadata": {},
   "outputs": [
    {
     "data": {
      "text/plain": [
       "{'producer': 'Acrobat Distiller 7.0 (Windows)',\n",
       " 'creator': 'Acrobat PDFMaker 7.0 for Word',\n",
       " 'creationdate': '2005-03-29T21:52:01+02:00',\n",
       " 'source': 'finance_pdfs/Market Wizards - Interviews With Top Traders 2012.pdf',\n",
       " 'file_path': 'finance_pdfs/Market Wizards - Interviews With Top Traders 2012.pdf',\n",
       " 'total_pages': 215,\n",
       " 'format': 'PDF 1.3',\n",
       " 'title': 'THE MARKET WIZARDS',\n",
       " 'author': 'AnToni',\n",
       " 'subject': '',\n",
       " 'keywords': '',\n",
       " 'moddate': '2013-09-13T01:07:18+01:00',\n",
       " 'trapped': '',\n",
       " 'modDate': \"D:20130913010718+01'00'\",\n",
       " 'creationDate': \"D:20050329215201+02'00'\",\n",
       " 'page': 0}"
      ]
     },
     "execution_count": 9,
     "metadata": {},
     "output_type": "execute_result"
    }
   ],
   "source": [
    "docs[0].metadata"
   ]
  },
  {
   "cell_type": "code",
   "execution_count": 18,
   "id": "e9f8625f",
   "metadata": {},
   "outputs": [
    {
     "name": "stdout",
     "output_type": "stream",
     "text": [
      "THE MARKET WIZARDS \n",
      " \n",
      "CONVERSATIONS WITH \n",
      "AMERICA'S TOP TRADERS \n",
      "JACK  D. SCHWAGER\n"
     ]
    }
   ],
   "source": [
    "print(docs[0].page_content)"
   ]
  },
  {
   "cell_type": "markdown",
   "id": "f3cea389",
   "metadata": {},
   "source": [
    "-- read all pdfs, tutorial goes through this way - debatably more convoluted for no reason\\\n",
    "pdfs = []\n",
    "for root, dir, files in os.walk(\"finance_pdfs\"):\n",
    "    for file in files:\n",
    "        if file.endswith('.pdf'):\n",
    "            pdfs.append(os.path.join(root, file))"
   ]
  },
  {
   "cell_type": "code",
   "execution_count": null,
   "id": "afbbb4c0",
   "metadata": {},
   "outputs": [
    {
     "data": {
      "text/plain": [
       "1225"
      ]
     },
     "execution_count": 31,
     "metadata": {},
     "output_type": "execute_result"
    }
   ],
   "source": [
    "# load all pdfs\n",
    "files = glob.glob('finance_pdfs/*.pdf')\n",
    "\n",
    "docs = []\n",
    "for file in files:\n",
    "    loader = PyMuPDFLoader(file)\n",
    "    temp = loader.load()\n",
    "    docs.extend(temp) # loads all pages into array of docs (across all pdfs)\n",
    "\n",
    "len(docs)"
   ]
  },
  {
   "cell_type": "code",
   "execution_count": 33,
   "id": "1548737c",
   "metadata": {},
   "outputs": [],
   "source": [
    "# function to format text into a single string; each page separated by 2 newlines\n",
    "def format_text(files):\n",
    "    docs = []\n",
    "    for file in files:\n",
    "        loader = PyMuPDFLoader(file)\n",
    "        temp = loader.load()\n",
    "        docs.extend(temp) # loads all pages into array of docs (across all pdfs)\n",
    "        \n",
    "    return \"\\n\\n\".join([x.page_content for x in docs])"
   ]
  },
  {
   "cell_type": "code",
   "execution_count": null,
   "id": "baa20abb",
   "metadata": {},
   "outputs": [],
   "source": [
    "files = glob.glob('finance_pdfs/*.pdf')\n",
    "context = format_text(files)"
   ]
  },
  {
   "cell_type": "code",
   "execution_count": 36,
   "id": "369be6f3",
   "metadata": {},
   "outputs": [
    {
     "name": "stdout",
     "output_type": "stream",
     "text": [
      "THE MARKET WIZARDS \n",
      " \n",
      "CONVERSATIONS WITH \n",
      "AMERICA'S TOP TRADERS \n",
      "JACK  D. SCHWAGER\n",
      "\n",
      "2\n",
      "HarperBusiness \n",
      " \n",
      " \n",
      " \n",
      "You've got to learn how to fall, before you learn to fly. \n",
      "—Paul Simon \n",
      " \n",
      "One man's ceiling is another man's floor. \n",
      "—Paul Simon \n",
      " \n",
      "If I wanted to become a tramp, I would seek information and advice from the most successful tramp \n",
      "I could find. If I wanted to become a failure, I would seek advice from men who had never \n",
      "succeeded. If I wanted to succeed in all things, I would look around me for those who are \n",
      "succeeding and do as they have done. \n",
      "—Joseph Marshall Wade \n",
      "(as quoted in a Treasury of Wall Street Wisdom \n",
      "edited by Harry D. Schultz and Samson Coslow)\n",
      "\n",
      "3\n",
      "Contents \n",
      " \n",
      "Preface...................................................................................................................................................4 \n",
      "Acknowledgments ................................................................................................................................5 \n",
      "Prolo\n"
     ]
    }
   ],
   "source": [
    "print(context[:1000])"
   ]
  },
  {
   "cell_type": "markdown",
   "id": "19d9f0bc",
   "metadata": {},
   "source": [
    "## Chunking\n",
    "LLMs will not have a big enough context window to handle something of this size. "
   ]
  }
 ],
 "metadata": {
  "kernelspec": {
   "display_name": "langchain",
   "language": "python",
   "name": "python3"
  },
  "language_info": {
   "codemirror_mode": {
    "name": "ipython",
    "version": 3
   },
   "file_extension": ".py",
   "mimetype": "text/x-python",
   "name": "python",
   "nbconvert_exporter": "python",
   "pygments_lexer": "ipython3",
   "version": "3.12.4"
  }
 },
 "nbformat": 4,
 "nbformat_minor": 5
}
