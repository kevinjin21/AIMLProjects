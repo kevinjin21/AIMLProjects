{
 "cells": [
  {
   "cell_type": "markdown",
   "id": "66b9935d",
   "metadata": {},
   "source": [
    "# Agents\n",
    "### Example project: Your Personal Finance Expert\n",
    "We'll finally combine llm tool-calling into a finance expert agent. It will be able to decide between tools (searching online vs. local documents). We'll also include memory for the agent so that it can retain conversation history."
   ]
  },
  {
   "cell_type": "code",
   "execution_count": 32,
   "id": "453230be",
   "metadata": {},
   "outputs": [],
   "source": [
    "# general imports\n",
    "from dotenv import load_dotenv\n",
    "import os\n",
    "os.environ['KMP_DUPLICATE_LIB_OK'] = 'True' # in case of vector store duplicate issues\n",
    "load_dotenv()\n",
    "\n",
    "# tools\n",
    "from langchain_community.tools import TavilySearchResults\n",
    "from langchain_community.tools.pubmed.tool import PubmedQueryRun\n",
    "from langchain_core.tools import tool\n",
    "\n",
    "# langchain helpers\n",
    "from langchain_ollama import ChatOllama, OllamaEmbeddings\n",
    "from langchain_core.output_parsers import StrOutputParser\n",
    "from langchain_core.runnables import RunnablePassthrough\n",
    "from langchain_core.prompts import ChatPromptTemplate\n",
    "from langchain import hub # for community prompts\n",
    "\n",
    "# vectorstore (RAG)\n",
    "from langchain_community.vectorstores import FAISS\n",
    "from langchain_community.docstore.in_memory import InMemoryDocstore\n",
    "\n",
    "# agent imports\n",
    "from langchain.agents import create_tool_calling_agent, AgentExecutor\n",
    "\n",
    "# llm\n",
    "base_url='http://localhost:11434'\n",
    "llm = ChatOllama(model='llama3.2', base_url=base_url)\n",
    "embeddings = OllamaEmbeddings(base_url=base_url, model='nomic-embed-text')"
   ]
  },
  {
   "cell_type": "markdown",
   "id": "47623db8",
   "metadata": {},
   "source": [
    "## Define Tools\n",
    "### 1. Tavily (web search) tool"
   ]
  },
  {
   "cell_type": "code",
   "execution_count": 22,
   "id": "1c20ba67",
   "metadata": {},
   "outputs": [],
   "source": [
    "@tool\n",
    "def tavily_search(query: str) -> str:\n",
    "    \"\"\"\n",
    "    Search the web for realtime and latest news and information.\n",
    "    For example, news, stock market, weather updates, etc.\n",
    "\n",
    "    Args:\n",
    "    query: The search query\n",
    "    \"\"\"\n",
    "    search = TavilySearchResults(\n",
    "    max_results=5,\n",
    "    search_depth='advanced',\n",
    "    include_answer=True,\n",
    "    include_raw_content=True\n",
    "    )\n",
    "    return search.invoke(query)"
   ]
  },
  {
   "cell_type": "markdown",
   "id": "dd218998",
   "metadata": {},
   "source": [
    "### 2. Finance Pdfs Retriever (RAG finance pdfs) tool\n",
    "Documents are already embedded and stored in vector database. Just need to load the vector store to retrieve these. Remember to use the **same embedding model for storage and retrieval**, otherwise results will NOT be accurate!"
   ]
  },
  {
   "cell_type": "code",
   "execution_count": 26,
   "id": "556b74b9",
   "metadata": {},
   "outputs": [],
   "source": [
    "db_path = 'finance_books_vectorstore'\n",
    "vector_store = FAISS.load_local(db_path, embeddings, allow_dangerous_deserialization=True)\n",
    "\n",
    "retriever = vector_store.as_retriever(search_type='similarity', \n",
    "                                      search_kwargs={'k': 3})"
   ]
  },
  {
   "cell_type": "code",
   "execution_count": 27,
   "id": "642eff6b",
   "metadata": {},
   "outputs": [],
   "source": [
    "# create function and wrap as tool; remember to provide a description\n",
    "@tool\n",
    "def finance_pdf_search(query: str) -> str:\n",
    "    \"\"\"\n",
    "    Search for information about financial advice. \n",
    "    Use this tool for any questions about investment strategies, how to start investing, or financial advice.\n",
    "\n",
    "    Args:\n",
    "    query: The search query\n",
    "    \"\"\"\n",
    "    return retriever.invoke(query)"
   ]
  },
  {
   "cell_type": "markdown",
   "id": "2f2eb468",
   "metadata": {},
   "source": [
    "## Agent Creation\n",
    "Agent should: \n",
    "- Take input and decide what tool to use\n",
    "- Agent will not execute the tool. This should be done by the AgentExecutor.\n",
    "\n",
    "Use example prompt (very basic): https://smith.langchain.com/hub/hwchase17/openai-functions-agent \\\n",
    "Example more advanced prompt (text to SQL): https://smith.langchain.com/hub/miracle/anthropic_sql_query_agent"
   ]
  },
  {
   "cell_type": "code",
   "execution_count": 34,
   "id": "8297fdc0",
   "metadata": {},
   "outputs": [
    {
     "data": {
      "text/plain": [
       "[SystemMessagePromptTemplate(prompt=PromptTemplate(input_variables=[], input_types={}, partial_variables={}, template='You are a helpful assistant'), additional_kwargs={}),\n",
       " MessagesPlaceholder(variable_name='chat_history', optional=True),\n",
       " HumanMessagePromptTemplate(prompt=PromptTemplate(input_variables=['input'], input_types={}, partial_variables={}, template='{input}'), additional_kwargs={}),\n",
       " MessagesPlaceholder(variable_name='agent_scratchpad')]"
      ]
     },
     "execution_count": 34,
     "metadata": {},
     "output_type": "execute_result"
    }
   ],
   "source": [
    "# getting the agent prompt from langchain hub. Good starting point, but can be fine-tuned.\n",
    "prompt = hub.pull(\"hwchase17/openai-functions-agent\")\n",
    "prompt.messages"
   ]
  },
  {
   "cell_type": "markdown",
   "id": "be7875b3",
   "metadata": {},
   "source": [
    "Create agent; remember agent does NOT call the tools."
   ]
  },
  {
   "cell_type": "code",
   "execution_count": 35,
   "id": "f9317c30",
   "metadata": {},
   "outputs": [],
   "source": [
    "tools = [tavily_search, finance_pdf_search]\n",
    "agent = create_tool_calling_agent(llm, tools, prompt)"
   ]
  },
  {
   "cell_type": "markdown",
   "id": "893e4608",
   "metadata": {},
   "source": [
    "Create agent executor to actually call the tools and return the information back to the agent."
   ]
  },
  {
   "cell_type": "code",
   "execution_count": 37,
   "id": "e85a2dbd",
   "metadata": {},
   "outputs": [],
   "source": [
    "agent_executor = AgentExecutor(agent=agent, tools=tools, verbose=True)"
   ]
  },
  {
   "cell_type": "code",
   "execution_count": 38,
   "id": "7f6e283e",
   "metadata": {},
   "outputs": [
    {
     "name": "stdout",
     "output_type": "stream",
     "text": [
      "\n",
      "\n",
      "\u001b[1m> Entering new AgentExecutor chain...\u001b[0m\n",
      "\u001b[32;1m\u001b[1;3m\n",
      "Invoking: `finance_pdf_search` with `{'query': 'beginner investment advice'}`\n",
      "\n",
      "\n",
      "\u001b[0m\u001b[33;1m\u001b[1;3m[Document(id='2a6c9e84-b107-4167-bdc3-409d3cd624dc', metadata={'producer': 'Acrobat Distiller 5.0 (Windows)', 'creator': 'QuarkXPress.: AdobePS 8.7.3 (301)', 'creationdate': '2005-08-01T23:34:28+08:00', 'source': 'finance_pdfs\\\\The Intelligent Investor - A Book of Practical Counsel 2003.pdf', 'file_path': 'finance_pdfs\\\\The Intelligent Investor - A Book of Practical Counsel 2003.pdf', 'total_pages': 643, 'format': 'PDF 1.6', 'title': 'The Intelligent Investor', 'author': 'Benjamin Graham, Jason Zweig and Warren E. Buffett', 'subject': '', 'keywords': '', 'moddate': '2008-01-05T15:44:22+00:00', 'trapped': '', 'modDate': 'D:20080105154422Z', 'creationDate': \"D:20050801233428+08'00'\", 'page': 291}, page_content='277\\n6 If you have less than $100,000 to invest, you may not be able to find a\\nfinancial adviser who will take your account. In that case, buy a diversified\\nbasket of low-cost index funds, follow the behavioral advice throughout this\\nbook, and your portfolio should eventually grow to the level at which you can\\nafford an adviser.'), Document(id='21cb8b23-8430-4457-9322-24e08ca9b900', metadata={'producer': 'Acrobat Distiller 5.0 (Windows)', 'creator': 'QuarkXPress.: AdobePS 8.7.3 (301)', 'creationdate': '2005-08-01T23:34:28+08:00', 'source': 'finance_pdfs\\\\The Intelligent Investor - A Book of Practical Counsel 2003.pdf', 'file_path': 'finance_pdfs\\\\The Intelligent Investor - A Book of Practical Counsel 2003.pdf', 'total_pages': 643, 'format': 'PDF 1.6', 'title': 'The Intelligent Investor', 'author': 'Benjamin Graham, Jason Zweig and Warren E. Buffett', 'subject': '', 'keywords': '', 'moddate': '2008-01-05T15:44:22+00:00', 'trapped': '', 'modDate': 'D:20080105154422Z', 'creationDate': \"D:20050801233428+08'00'\", 'page': 134}, page_content='important to them than their salaries. This attitude is all to the\\ngood. There is a great advantage for the young capitalist to begin\\nhis financial education and experience early. If he is going to oper-\\nate as an aggressive investor he is certain to make some mistakes\\nand to take some losses. Youth can stand these disappointments\\nand profit by them. We urge the beginner in security buying not to\\nwaste his efforts and his money in trying to beat the market. Let\\nhim study security values and initially test out his judgment on\\nprice versus value with the smallest possible sums.\\nThus we return to the statement, made at the outset, that the\\n120\\nThe Intelligent Investor'), Document(id='65726aab-a028-4c73-840f-08c3d8dafd2b', metadata={'producer': 'Acrobat Distiller 5.0 (Windows)', 'creator': 'QuarkXPress.: AdobePS 8.7.3 (301)', 'creationdate': '2005-08-01T23:34:28+08:00', 'source': 'finance_pdfs\\\\The Intelligent Investor - A Book of Practical Counsel 2003.pdf', 'file_path': 'finance_pdfs\\\\The Intelligent Investor - A Book of Practical Counsel 2003.pdf', 'total_pages': 643, 'format': 'PDF 1.6', 'title': 'The Intelligent Investor', 'author': 'Benjamin Graham, Jason Zweig and Warren E. Buffett', 'subject': '', 'keywords': '', 'moddate': '2008-01-05T15:44:22+00:00', 'trapped': '', 'modDate': 'D:20080105154422Z', 'creationDate': \"D:20050801233428+08'00'\", 'page': 272}, page_content='periodical; and (5) an investment counselor.* The miscellaneous\\ncharacter of this list suggests that no logical or systematic approach\\nin this matter has crystallized, as yet, in the minds of investors.\\nCertain common-sense considerations relate to the criterion of\\nnormal or standard results mentioned above. Our basic thesis is\\nthis: If the investor is to rely chiefly on the advice of others in han-\\ndling his funds, then either he must limit himself and his advisers\\nstrictly to standard, conservative, and even unimaginative forms of\\ninvestment, or he must have an unusually intimate and favorable\\nknowledge of the person who is going to direct his funds into other\\nchannels. But if the ordinary business or professional relationship\\nexists between the investor and his advisers, he can be receptive to\\nless conventional suggestions only to the extent that he himself has\\ngrown in knowledge and experience and has therefore become\\ncompetent to pass independent judgment on the recommendations')]\u001b[0m\u001b[32;1m\u001b[1;3mFor a beginner starting to invest, here are some key pieces of advice:\n",
      "\n",
      "1. **Start with a solid understanding**: Invest time in learning about personal finance, investing, and the stock market. This will help you make informed decisions.\n",
      "2. **Diversify your portfolio**: Spread your investments across different asset classes, such as stocks, bonds, and real estate, to minimize risk.\n",
      "3. **Keep costs low**: Look for low-cost index funds or ETFs, which can provide broad diversification at a lower cost than actively managed funds.\n",
      "4. **Be patient and disciplined**: Investing is a long-term game. Avoid making emotional decisions based on short-term market fluctuations.\n",
      "5. **Educate yourself**: Continuously learn about investing and personal finance to improve your skills and knowledge.\n",
      "6. **Consider seeking professional advice**: If you're new to investing, consider consulting with a financial advisor or using online resources to get personalized advice.\n",
      "\n",
      "Remember, investing is a journey, and it's essential to be patient, disciplined, and informed to achieve your long-term financial goals.\u001b[0m\n",
      "\n",
      "\u001b[1m> Finished chain.\u001b[0m\n"
     ]
    }
   ],
   "source": [
    "question = \"What advice do you have for a beginner first starting to invest?\"\n",
    "response = agent_executor.invoke({'input': question})\n"
   ]
  },
  {
   "cell_type": "markdown",
   "id": "0b0cf6df",
   "metadata": {},
   "source": [
    "### This is the response from the agent!\n",
    "Yellow refers to the documents returned as context, while green refers to the llm's inferences and output."
   ]
  },
  {
   "cell_type": "code",
   "execution_count": 39,
   "id": "833aa81e",
   "metadata": {},
   "outputs": [
    {
     "name": "stdout",
     "output_type": "stream",
     "text": [
      "For a beginner starting to invest, here are some key pieces of advice:\n",
      "\n",
      "1. **Start with a solid understanding**: Invest time in learning about personal finance, investing, and the stock market. This will help you make informed decisions.\n",
      "2. **Diversify your portfolio**: Spread your investments across different asset classes, such as stocks, bonds, and real estate, to minimize risk.\n",
      "3. **Keep costs low**: Look for low-cost index funds or ETFs, which can provide broad diversification at a lower cost than actively managed funds.\n",
      "4. **Be patient and disciplined**: Investing is a long-term game. Avoid making emotional decisions based on short-term market fluctuations.\n",
      "5. **Educate yourself**: Continuously learn about investing and personal finance to improve your skills and knowledge.\n",
      "6. **Consider seeking professional advice**: If you're new to investing, consider consulting with a financial advisor or using online resources to get personalized advice.\n",
      "\n",
      "Remember, investing is a journey, and it's essential to be patient, disciplined, and informed to achieve your long-term financial goals.\n"
     ]
    }
   ],
   "source": [
    "print(response['output'])"
   ]
  },
  {
   "cell_type": "markdown",
   "id": "5c770a5c",
   "metadata": {},
   "source": [
    "### Alternate query, this time not related to finance:"
   ]
  },
  {
   "cell_type": "code",
   "execution_count": 41,
   "id": "f7551c60",
   "metadata": {},
   "outputs": [],
   "source": [
    "agent_executor = AgentExecutor(agent=agent, tools=tools, verbose=False)"
   ]
  },
  {
   "cell_type": "markdown",
   "id": "a4a6a9fd",
   "metadata": {},
   "source": [
    "Note: Set verbose to false to avoid having the giant chunk of text, if desired. Verbose can be used to debug and evaluate if returns are as desired."
   ]
  },
  {
   "cell_type": "code",
   "execution_count": 42,
   "id": "31f66669",
   "metadata": {},
   "outputs": [],
   "source": [
    "question = \"Current weather in Portland, Oregon\"\n",
    "response = agent_executor.invoke({'input': question})"
   ]
  },
  {
   "cell_type": "code",
   "execution_count": 43,
   "id": "d7df4d61",
   "metadata": {},
   "outputs": [
    {
     "name": "stdout",
     "output_type": "stream",
     "text": [
      "The current weather in Portland, Oregon is mostly sunny with a temperature of 21.1°C (70°F). There is a gentle breeze coming from the northwest at 5.1 mph (8.3 km/h) and a pressure of 1017.0 mb. The humidity is relatively low at 28%, and there is no precipitation expected today. It feels like it's currently 21.1°C (70°F), which is the same as the temperature, due to the sunny conditions.\n"
     ]
    }
   ],
   "source": [
    "print(response['output'])"
   ]
  },
  {
   "cell_type": "markdown",
   "id": "b4ba603f",
   "metadata": {},
   "source": [
    "Final note: These agent calls can be traced through LangSmith for further details! \n",
    "\n",
    "Future work: Create chatbot interface for agent. Save conversation history."
   ]
  }
 ],
 "metadata": {
  "language_info": {
   "name": "python"
  }
 },
 "nbformat": 4,
 "nbformat_minor": 5
}
