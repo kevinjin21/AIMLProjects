{
 "cells": [
  {
   "cell_type": "markdown",
   "id": "21d5d0a5",
   "metadata": {},
   "source": [
    "# Disney Recommendation Mini-Project\n",
    "For this project, we will be exploring a dataset containing Disney+ titles and relevant details. The goal of this mini-project is to build a simple recommendation model to give related/recommended titles based on an input of movie titles.\n",
    "\n",
    "The dataset we will be exploring can be found here:\n",
    "https://www.kaggle.com/datasets/shivamb/disney-movies-and-tv-shows"
   ]
  },
  {
   "cell_type": "markdown",
   "id": "fe0af0ca",
   "metadata": {},
   "source": [
    "### Import and explore data"
   ]
  },
  {
   "cell_type": "code",
   "execution_count": 1,
   "id": "055f88b6",
   "metadata": {},
   "outputs": [],
   "source": [
    "# dependencies \n",
    "import numpy as np\n",
    "import pandas as pd\n",
    "import seaborn as sns\n",
    "import matplotlib.pyplot as plt\n",
    "%matplotlib inline\n",
    "\n",
    "import warnings\n",
    "warnings.filterwarnings(\"ignore\")"
   ]
  },
  {
   "cell_type": "code",
   "execution_count": 2,
   "id": "505276bf",
   "metadata": {},
   "outputs": [
    {
     "data": {
      "text/html": [
       "<div>\n",
       "<style scoped>\n",
       "    .dataframe tbody tr th:only-of-type {\n",
       "        vertical-align: middle;\n",
       "    }\n",
       "\n",
       "    .dataframe tbody tr th {\n",
       "        vertical-align: top;\n",
       "    }\n",
       "\n",
       "    .dataframe thead th {\n",
       "        text-align: right;\n",
       "    }\n",
       "</style>\n",
       "<table border=\"1\" class=\"dataframe\">\n",
       "  <thead>\n",
       "    <tr style=\"text-align: right;\">\n",
       "      <th></th>\n",
       "      <th>show_id</th>\n",
       "      <th>type</th>\n",
       "      <th>title</th>\n",
       "      <th>director</th>\n",
       "      <th>cast</th>\n",
       "      <th>country</th>\n",
       "      <th>date_added</th>\n",
       "      <th>release_year</th>\n",
       "      <th>rating</th>\n",
       "      <th>duration</th>\n",
       "      <th>listed_in</th>\n",
       "      <th>description</th>\n",
       "    </tr>\n",
       "  </thead>\n",
       "  <tbody>\n",
       "    <tr>\n",
       "      <th>0</th>\n",
       "      <td>s1</td>\n",
       "      <td>Movie</td>\n",
       "      <td>Duck the Halls: A Mickey Mouse Christmas Special</td>\n",
       "      <td>Alonso Ramirez Ramos, Dave Wasson</td>\n",
       "      <td>Chris Diamantopoulos, Tony Anselmo, Tress MacN...</td>\n",
       "      <td>NaN</td>\n",
       "      <td>11/26/2021</td>\n",
       "      <td>2016</td>\n",
       "      <td>TV-G</td>\n",
       "      <td>23 min</td>\n",
       "      <td>Animation, Family</td>\n",
       "      <td>Join Mickey and the gang as they duck the halls!</td>\n",
       "    </tr>\n",
       "    <tr>\n",
       "      <th>1</th>\n",
       "      <td>s2</td>\n",
       "      <td>Movie</td>\n",
       "      <td>Ernest Saves Christmas</td>\n",
       "      <td>John Cherry</td>\n",
       "      <td>Jim Varney, Noelle Parker, Douglas Seale</td>\n",
       "      <td>NaN</td>\n",
       "      <td>11/26/2021</td>\n",
       "      <td>1988</td>\n",
       "      <td>PG</td>\n",
       "      <td>91 min</td>\n",
       "      <td>Comedy</td>\n",
       "      <td>Santa Claus passes his magic bag to a new St. ...</td>\n",
       "    </tr>\n",
       "    <tr>\n",
       "      <th>2</th>\n",
       "      <td>s3</td>\n",
       "      <td>Movie</td>\n",
       "      <td>Ice Age: A Mammoth Christmas</td>\n",
       "      <td>Karen Disher</td>\n",
       "      <td>Raymond Albert Romano, John Leguizamo, Denis L...</td>\n",
       "      <td>United States</td>\n",
       "      <td>11/26/2021</td>\n",
       "      <td>2011</td>\n",
       "      <td>TV-G</td>\n",
       "      <td>23 min</td>\n",
       "      <td>Animation, Comedy, Family</td>\n",
       "      <td>Sid the Sloth is on Santa's naughty list.</td>\n",
       "    </tr>\n",
       "    <tr>\n",
       "      <th>3</th>\n",
       "      <td>s4</td>\n",
       "      <td>Movie</td>\n",
       "      <td>The Queen Family Singalong</td>\n",
       "      <td>Hamish Hamilton</td>\n",
       "      <td>Darren Criss, Adam Lambert, Derek Hough, Alexa...</td>\n",
       "      <td>NaN</td>\n",
       "      <td>11/26/2021</td>\n",
       "      <td>2021</td>\n",
       "      <td>TV-PG</td>\n",
       "      <td>41 min</td>\n",
       "      <td>Musical</td>\n",
       "      <td>This is real life, not just fantasy!</td>\n",
       "    </tr>\n",
       "    <tr>\n",
       "      <th>4</th>\n",
       "      <td>s5</td>\n",
       "      <td>TV Show</td>\n",
       "      <td>The Beatles: Get Back</td>\n",
       "      <td>NaN</td>\n",
       "      <td>John Lennon, Paul McCartney, George Harrison, ...</td>\n",
       "      <td>NaN</td>\n",
       "      <td>11/25/2021</td>\n",
       "      <td>2021</td>\n",
       "      <td>NaN</td>\n",
       "      <td>1 Season</td>\n",
       "      <td>Docuseries, Historical, Music</td>\n",
       "      <td>A three-part documentary from Peter Jackson ca...</td>\n",
       "    </tr>\n",
       "    <tr>\n",
       "      <th>5</th>\n",
       "      <td>s6</td>\n",
       "      <td>Movie</td>\n",
       "      <td>Becoming Cousteau</td>\n",
       "      <td>Liz Garbus</td>\n",
       "      <td>Jacques Yves Cousteau, Vincent Cassel</td>\n",
       "      <td>United States</td>\n",
       "      <td>11/24/2021</td>\n",
       "      <td>2021</td>\n",
       "      <td>PG-13</td>\n",
       "      <td>94 min</td>\n",
       "      <td>Biographical, Documentary</td>\n",
       "      <td>An inside look at the legendary life of advent...</td>\n",
       "    </tr>\n",
       "    <tr>\n",
       "      <th>6</th>\n",
       "      <td>s7</td>\n",
       "      <td>TV Show</td>\n",
       "      <td>Hawkeye</td>\n",
       "      <td>NaN</td>\n",
       "      <td>Jeremy Renner, Hailee Steinfeld, Vera Farmiga,...</td>\n",
       "      <td>NaN</td>\n",
       "      <td>11/24/2021</td>\n",
       "      <td>2021</td>\n",
       "      <td>TV-14</td>\n",
       "      <td>1 Season</td>\n",
       "      <td>Action-Adventure, Superhero</td>\n",
       "      <td>Clint Barton/Hawkeye must team up with skilled...</td>\n",
       "    </tr>\n",
       "    <tr>\n",
       "      <th>7</th>\n",
       "      <td>s8</td>\n",
       "      <td>TV Show</td>\n",
       "      <td>Port Protection Alaska</td>\n",
       "      <td>NaN</td>\n",
       "      <td>Gary Muehlberger, Mary Miller, Curly Leach, Sa...</td>\n",
       "      <td>United States</td>\n",
       "      <td>11/24/2021</td>\n",
       "      <td>2015</td>\n",
       "      <td>TV-14</td>\n",
       "      <td>2 Seasons</td>\n",
       "      <td>Docuseries, Reality, Survival</td>\n",
       "      <td>Residents of Port Protection must combat volat...</td>\n",
       "    </tr>\n",
       "    <tr>\n",
       "      <th>8</th>\n",
       "      <td>s9</td>\n",
       "      <td>TV Show</td>\n",
       "      <td>Secrets of the Zoo: Tampa</td>\n",
       "      <td>NaN</td>\n",
       "      <td>Dr. Ray Ball, Dr. Lauren Smith, Chris Massaro,...</td>\n",
       "      <td>United States</td>\n",
       "      <td>11/24/2021</td>\n",
       "      <td>2019</td>\n",
       "      <td>TV-PG</td>\n",
       "      <td>2 Seasons</td>\n",
       "      <td>Animals &amp; Nature, Docuseries, Family</td>\n",
       "      <td>A day in the life at ZooTampa is anything but ...</td>\n",
       "    </tr>\n",
       "    <tr>\n",
       "      <th>9</th>\n",
       "      <td>s10</td>\n",
       "      <td>Movie</td>\n",
       "      <td>A Muppets Christmas: Letters To Santa</td>\n",
       "      <td>Kirk R. Thatcher</td>\n",
       "      <td>Steve Whitmire, Dave Goelz, Bill Barretta, Eri...</td>\n",
       "      <td>United States</td>\n",
       "      <td>11/19/2021</td>\n",
       "      <td>2008</td>\n",
       "      <td>G</td>\n",
       "      <td>45 min</td>\n",
       "      <td>Comedy, Family, Musical</td>\n",
       "      <td>Celebrate the holiday season with all your fav...</td>\n",
       "    </tr>\n",
       "  </tbody>\n",
       "</table>\n",
       "</div>"
      ],
      "text/plain": [
       "  show_id     type                                             title  \\\n",
       "0      s1    Movie  Duck the Halls: A Mickey Mouse Christmas Special   \n",
       "1      s2    Movie                            Ernest Saves Christmas   \n",
       "2      s3    Movie                      Ice Age: A Mammoth Christmas   \n",
       "3      s4    Movie                        The Queen Family Singalong   \n",
       "4      s5  TV Show                             The Beatles: Get Back   \n",
       "5      s6    Movie                                 Becoming Cousteau   \n",
       "6      s7  TV Show                                           Hawkeye   \n",
       "7      s8  TV Show                            Port Protection Alaska   \n",
       "8      s9  TV Show                         Secrets of the Zoo: Tampa   \n",
       "9     s10    Movie             A Muppets Christmas: Letters To Santa   \n",
       "\n",
       "                            director  \\\n",
       "0  Alonso Ramirez Ramos, Dave Wasson   \n",
       "1                        John Cherry   \n",
       "2                       Karen Disher   \n",
       "3                    Hamish Hamilton   \n",
       "4                                NaN   \n",
       "5                         Liz Garbus   \n",
       "6                                NaN   \n",
       "7                                NaN   \n",
       "8                                NaN   \n",
       "9                   Kirk R. Thatcher   \n",
       "\n",
       "                                                cast        country  \\\n",
       "0  Chris Diamantopoulos, Tony Anselmo, Tress MacN...            NaN   \n",
       "1           Jim Varney, Noelle Parker, Douglas Seale            NaN   \n",
       "2  Raymond Albert Romano, John Leguizamo, Denis L...  United States   \n",
       "3  Darren Criss, Adam Lambert, Derek Hough, Alexa...            NaN   \n",
       "4  John Lennon, Paul McCartney, George Harrison, ...            NaN   \n",
       "5              Jacques Yves Cousteau, Vincent Cassel  United States   \n",
       "6  Jeremy Renner, Hailee Steinfeld, Vera Farmiga,...            NaN   \n",
       "7  Gary Muehlberger, Mary Miller, Curly Leach, Sa...  United States   \n",
       "8  Dr. Ray Ball, Dr. Lauren Smith, Chris Massaro,...  United States   \n",
       "9  Steve Whitmire, Dave Goelz, Bill Barretta, Eri...  United States   \n",
       "\n",
       "   date_added  release_year rating   duration  \\\n",
       "0  11/26/2021          2016   TV-G     23 min   \n",
       "1  11/26/2021          1988     PG     91 min   \n",
       "2  11/26/2021          2011   TV-G     23 min   \n",
       "3  11/26/2021          2021  TV-PG     41 min   \n",
       "4  11/25/2021          2021    NaN   1 Season   \n",
       "5  11/24/2021          2021  PG-13     94 min   \n",
       "6  11/24/2021          2021  TV-14   1 Season   \n",
       "7  11/24/2021          2015  TV-14  2 Seasons   \n",
       "8  11/24/2021          2019  TV-PG  2 Seasons   \n",
       "9  11/19/2021          2008      G     45 min   \n",
       "\n",
       "                              listed_in  \\\n",
       "0                     Animation, Family   \n",
       "1                                Comedy   \n",
       "2             Animation, Comedy, Family   \n",
       "3                               Musical   \n",
       "4         Docuseries, Historical, Music   \n",
       "5             Biographical, Documentary   \n",
       "6           Action-Adventure, Superhero   \n",
       "7         Docuseries, Reality, Survival   \n",
       "8  Animals & Nature, Docuseries, Family   \n",
       "9               Comedy, Family, Musical   \n",
       "\n",
       "                                         description  \n",
       "0   Join Mickey and the gang as they duck the halls!  \n",
       "1  Santa Claus passes his magic bag to a new St. ...  \n",
       "2          Sid the Sloth is on Santa's naughty list.  \n",
       "3               This is real life, not just fantasy!  \n",
       "4  A three-part documentary from Peter Jackson ca...  \n",
       "5  An inside look at the legendary life of advent...  \n",
       "6  Clint Barton/Hawkeye must team up with skilled...  \n",
       "7  Residents of Port Protection must combat volat...  \n",
       "8  A day in the life at ZooTampa is anything but ...  \n",
       "9  Celebrate the holiday season with all your fav...  "
      ]
     },
     "execution_count": 2,
     "metadata": {},
     "output_type": "execute_result"
    }
   ],
   "source": [
    "df = pd.read_csv(\"disney_plus_titles.csv\")\n",
    "df.head(10)"
   ]
  },
  {
   "cell_type": "code",
   "execution_count": 3,
   "id": "677d33ac",
   "metadata": {},
   "outputs": [
    {
     "name": "stdout",
     "output_type": "stream",
     "text": [
      "<class 'pandas.core.frame.DataFrame'>\n",
      "RangeIndex: 1450 entries, 0 to 1449\n",
      "Data columns (total 12 columns):\n",
      " #   Column        Non-Null Count  Dtype \n",
      "---  ------        --------------  ----- \n",
      " 0   show_id       1450 non-null   object\n",
      " 1   type          1450 non-null   object\n",
      " 2   title         1450 non-null   object\n",
      " 3   director      977 non-null    object\n",
      " 4   cast          1260 non-null   object\n",
      " 5   country       1231 non-null   object\n",
      " 6   date_added    1447 non-null   object\n",
      " 7   release_year  1450 non-null   int64 \n",
      " 8   rating        1447 non-null   object\n",
      " 9   duration      1450 non-null   object\n",
      " 10  listed_in     1450 non-null   object\n",
      " 11  description   1450 non-null   object\n",
      "dtypes: int64(1), object(11)\n",
      "memory usage: 136.1+ KB\n"
     ]
    }
   ],
   "source": [
    "df.info()"
   ]
  },
  {
   "cell_type": "markdown",
   "id": "46f7d420",
   "metadata": {},
   "source": [
    "We can see all the attributes displayed for each movie. We can also see that there are significant missing values in 'director', 'cast', and 'country', as well as a few missing from 'date_added' and 'rating'. To confirm:"
   ]
  },
  {
   "cell_type": "code",
   "execution_count": 4,
   "id": "19d8d245",
   "metadata": {},
   "outputs": [
    {
     "data": {
      "text/plain": [
       "show_id           0\n",
       "type              0\n",
       "title             0\n",
       "director        473\n",
       "cast            190\n",
       "country         219\n",
       "date_added        3\n",
       "release_year      0\n",
       "rating            3\n",
       "duration          0\n",
       "listed_in         0\n",
       "description       0\n",
       "dtype: int64"
      ]
     },
     "execution_count": 4,
     "metadata": {},
     "output_type": "execute_result"
    }
   ],
   "source": [
    "df.isna().sum()"
   ]
  },
  {
   "cell_type": "markdown",
   "id": "95404fbe",
   "metadata": {},
   "source": [
    "The information here could be useful, so it's better not to drop it unless there's no valid replacement. For unknown country values, we'll just use a blank string ('') as a placeholder. For the rating and date added, we can just use the most common value (the mode) of the data as a replacement. Finally, cast and director can't be filled in with a blank or random value, so we'll drop the missing ones from those columns instead.\n",
    "\n",
    "Note: There is a special case for missing director - many TV shows in the list have no listed director (possibly due to TV shows usually only having a producer, instead of a director). Removing all of these values would make the dataset purely *movies*, so we'll replace the missing values in this case to a special note."
   ]
  },
  {
   "cell_type": "code",
   "execution_count": 5,
   "id": "99162f23",
   "metadata": {},
   "outputs": [
    {
     "data": {
      "text/plain": [
       "show_id         0\n",
       "type            0\n",
       "title           0\n",
       "director        0\n",
       "cast            0\n",
       "country         0\n",
       "date_added      0\n",
       "release_year    0\n",
       "rating          0\n",
       "duration        0\n",
       "listed_in       0\n",
       "description     0\n",
       "dtype: int64"
      ]
     },
     "execution_count": 5,
     "metadata": {},
     "output_type": "execute_result"
    }
   ],
   "source": [
    "df['country'] = df['country'].fillna('Unlisted')\n",
    "df['rating'] = df['rating'].fillna(df.rating.mode()[0])\n",
    "df['date_added'] = df['date_added'].fillna(df['date_added'].mode()[0])\n",
    "\n",
    "for index in df.index:\n",
    "    if df.type[index] == 'TV Show':\n",
    "        df.director[index] = 'No Director: TV Show'\n",
    "df.dropna(inplace=True)\n",
    "df.isna().sum()"
   ]
  },
  {
   "cell_type": "markdown",
   "id": "28d52974",
   "metadata": {},
   "source": [
    "## Initial Data Exploration\n",
    "Before we go on to building a recommender, let's take a look at some trends in the data. Some interesting features to explore trends in include (but are not limited to) country, release_year, duration, rating, and type. We will quickly look into these features to see what kind of distributions we can find."
   ]
  },
  {
   "cell_type": "markdown",
   "id": "c0a4ae2f",
   "metadata": {},
   "source": [
    "### Production Country\n",
    "Exploring the top production countries for the films/shows available in the dataset."
   ]
  },
  {
   "cell_type": "code",
   "execution_count": 6,
   "id": "0a182cb0",
   "metadata": {
    "scrolled": true
   },
   "outputs": [
    {
     "data": {
      "text/plain": [
       "United States                                                  854\n",
       "Unlisted                                                       134\n",
       "United States, Canada                                           29\n",
       "United States, United Kingdom                                   22\n",
       "United Kingdom                                                  20\n",
       "                                                              ... \n",
       "Ireland, United States                                           1\n",
       "Ireland, United Kingdom, United States, South Korea, Canada      1\n",
       "United States, South Korea, France                               1\n",
       "United States, Australia, France, Canada                         1\n",
       "United States, Ireland                                           1\n",
       "Name: country, Length: 88, dtype: int64"
      ]
     },
     "execution_count": 6,
     "metadata": {},
     "output_type": "execute_result"
    }
   ],
   "source": [
    "df.country.value_counts()"
   ]
  },
  {
   "cell_type": "markdown",
   "id": "ca594619",
   "metadata": {},
   "source": [
    "There are actually many entries with several countries listed. However, the order does matter so for the sake of analyzing the data, we'll just look at the FIRST listed country, as the main country of production."
   ]
  },
  {
   "cell_type": "code",
   "execution_count": 7,
   "id": "7e404c92",
   "metadata": {},
   "outputs": [
    {
     "data": {
      "text/plain": [
       "United States           968\n",
       "Unlisted                134\n",
       "United Kingdom           47\n",
       "Canada                   26\n",
       "France                   10\n",
       "Australia                 4\n",
       "Ireland                   3\n",
       "Argentina                 3\n",
       "Germany                   2\n",
       "China                     2\n",
       "Austria                   2\n",
       "United Arab Emirates      1\n",
       "Tanzania                  1\n",
       "Denmark                   1\n",
       "Norway                    1\n",
       "South Korea               1\n",
       "New Zealand               1\n",
       "Name: main_country, dtype: int64"
      ]
     },
     "execution_count": 7,
     "metadata": {},
     "output_type": "execute_result"
    }
   ],
   "source": [
    "df['main_country'] = df['country'].apply(lambda x: x.split(\",\")[0])\n",
    "df.main_country.value_counts()"
   ]
  },
  {
   "cell_type": "markdown",
   "id": "cb4943ba",
   "metadata": {},
   "source": [
    "A much cleaner country list, with a blank entry for unlisted production country. Visualizing:"
   ]
  },
  {
   "cell_type": "code",
   "execution_count": 8,
   "id": "f3ac5a3c",
   "metadata": {
    "scrolled": false
   },
   "outputs": [
    {
     "data": {
      "image/png": "[encoded data removed]",
      "text/plain": [
       "<Figure size 800x600 with 1 Axes>"
      ]
     },
     "metadata": {},
     "output_type": "display_data"
    }
   ],
   "source": [
    "plt.figure(figsize=(8,6))\n",
    "sns.countplot(x=\"main_country\", data= df, order=df['main_country'].value_counts().index[0:5])\n",
    "plt.xlabel('Main Production Country')\n",
    "plt.title('Movies by Production Country', size=20);"
   ]
  },
  {
   "cell_type": "markdown",
   "id": "d6fb49dc",
   "metadata": {},
   "source": [
    "### Release Year\n",
    "Exploring the release year distribution in the dataset."
   ]
  },
  {
   "cell_type": "code",
   "execution_count": 9,
   "id": "9cc0b564",
   "metadata": {
    "scrolled": false
   },
   "outputs": [
    {
     "data": {
      "image/png": "[encoded data removed]",
      "text/plain": [
       "<Figure size 1000x500 with 1 Axes>"
      ]
     },
     "metadata": {},
     "output_type": "display_data"
    }
   ],
   "source": [
    "sns.displot(data=df, x='release_year', kind='hist', kde=True, color='r', facecolor='lime', edgecolor='black',\n",
    "            line_kws={'lw': 4}, aspect=2)\n",
    "plt.xlabel('Release Year')\n",
    "plt.title('Total Released Movie by Date', size=20);"
   ]
  },
  {
   "cell_type": "markdown",
   "id": "ffbefd5a",
   "metadata": {},
   "source": [
    "It is clear that more newly released movies/shows are more common, with 2020 being the top addition year."
   ]
  },
  {
   "cell_type": "markdown",
   "id": "fef4613b",
   "metadata": {},
   "source": [
    "### Duration\n",
    "Exploring the distribution of movie and show durations."
   ]
  },
  {
   "cell_type": "code",
   "execution_count": 10,
   "id": "449ecb7c",
   "metadata": {},
   "outputs": [
    {
     "data": {
      "text/plain": [
       "1 Season     162\n",
       "2 Seasons     73\n",
       "3 Seasons     44\n",
       "94 min        27\n",
       "88 min        26\n",
       "            ... \n",
       "32 min         1\n",
       "33 min         1\n",
       "31 min         1\n",
       "8 Seasons      1\n",
       "13 min         1\n",
       "Name: duration, Length: 152, dtype: int64"
      ]
     },
     "execution_count": 10,
     "metadata": {},
     "output_type": "execute_result"
    }
   ],
   "source": [
    "df.duration.value_counts()"
   ]
  },
  {
   "cell_type": "markdown",
   "id": "1f08d741",
   "metadata": {},
   "source": [
    "There is a unique problem here where some values are in 'seasons' (TV shows), while others are in 'min' (movies). Both are meaningful to explore, so let's temporarily split the data between the two for analysis."
   ]
  },
  {
   "cell_type": "code",
   "execution_count": 11,
   "id": "431f2887",
   "metadata": {
    "scrolled": false
   },
   "outputs": [],
   "source": [
    "movies=df.loc[df.duration.str.contains(\"min\")]\n",
    "movies.duration = movies.duration.str.replace(' min', '') \n",
    "movies.duration = movies.duration.astype(str).astype(int)"
   ]
  },
  {
   "cell_type": "code",
   "execution_count": 12,
   "id": "56b5775f",
   "metadata": {},
   "outputs": [
    {
     "data": {
      "image/png": "[encoded data removed]",
      "text/plain": [
       "<Figure size 640x480 with 1 Axes>"
      ]
     },
     "metadata": {},
     "output_type": "display_data"
    }
   ],
   "source": [
    "sns.kdeplot(data=movies, x='duration' , shade=True)\n",
    "plt.title('Movie Duration Distribution', size=15);"
   ]
  },
  {
   "cell_type": "markdown",
   "id": "7d5708da",
   "metadata": {},
   "source": [
    "Here, we can see most movies are within the 80-120min range. Let's see what the TV show seasons look like as well."
   ]
  },
  {
   "cell_type": "code",
   "execution_count": 13,
   "id": "4ccc7993",
   "metadata": {},
   "outputs": [
    {
     "data": {
      "image/png": "[encoded data removed]",
      "text/plain": [
       "<Figure size 1600x800 with 1 Axes>"
      ]
     },
     "metadata": {},
     "output_type": "display_data"
    }
   ],
   "source": [
    "tv=df.loc[df.type == 'TV Show']\n",
    "plt.figure(figsize=(16,8))\n",
    "sns.countplot(x=\"duration\", data=tv, order=tv['duration'].value_counts().index[0:15])\n",
    "plt.title('Distribution of TV Show Seasons', size=15)\n",
    "plt.xlabel('Number of Seasons');"
   ]
  },
  {
   "cell_type": "markdown",
   "id": "64c832fd",
   "metadata": {},
   "source": [
    "As we can see, most shows end within the first 5 seasons, with a few extreme cases (32 seasons!!!)."
   ]
  },
  {
   "cell_type": "markdown",
   "id": "a01bd9bc",
   "metadata": {},
   "source": [
    "### Rating\n",
    "Exploring the different ratings of available TV shows and movies. Keep in mind that this is the film rating (G, PG13, etc.), not the review rating."
   ]
  },
  {
   "cell_type": "code",
   "execution_count": 14,
   "id": "a1c47911",
   "metadata": {},
   "outputs": [
    {
     "data": {
      "image/png": "[encoded data removed]",
      "text/plain": [
       "<Figure size 1200x1000 with 1 Axes>"
      ]
     },
     "metadata": {},
     "output_type": "display_data"
    }
   ],
   "source": [
    "plt.figure(figsize=(12,10))\n",
    "sns.countplot(x=\"rating\", data= df, palette=\"Set2\", order=df['rating'].value_counts().index[0:15])\n",
    "plt.xlabel('Film/Show Rating')\n",
    "plt.title('Distribution of Show and Film Ratings', size=20);"
   ]
  },
  {
   "cell_type": "markdown",
   "id": "1f6775f9",
   "metadata": {},
   "source": [
    "Here we can see that most films and shows are rated for younger or general audiences, as expected. TV-G, TV-PG, G, and PG dominate the ratings. Note: TV-G and G are different in that TV-G is a TV series rating and G is a film rating."
   ]
  },
  {
   "cell_type": "markdown",
   "id": "92eea0fa",
   "metadata": {},
   "source": [
    "### Type\n",
    "Finally, we'll explore the type of media. This has been already mentioned (TV shows and movies), but it'd still be nice to see how the data is split."
   ]
  },
  {
   "cell_type": "code",
   "execution_count": 15,
   "id": "5a66b08a",
   "metadata": {},
   "outputs": [
    {
     "data": {
      "image/png": "[encoded data removed]",
      "text/plain": [
       "<Figure size 640x480 with 1 Axes>"
      ]
     },
     "metadata": {},
     "output_type": "display_data"
    }
   ],
   "source": [
    "ax = sns.countplot(x=\"type\", data=df)\n",
    "ax.bar_label(ax.containers[0])\n",
    "plt.xlabel('Type of Media')\n",
    "plt.title('Distribution of TV Shows and Films', size=15);"
   ]
  },
  {
   "cell_type": "markdown",
   "id": "ef67f81d",
   "metadata": {},
   "source": [
    "There are over twice as many movies as there are TV Shows! \n",
    "\n",
    "Now that we've gone over the distributions of features in this dataset, let's finally get to making a recommendation system for the TV shows and movies in the Disney+ dataset!"
   ]
  },
  {
   "cell_type": "markdown",
   "id": "a8bd555e",
   "metadata": {},
   "source": [
    "# Recommendation\n",
    "The goal of this mini-project is to build a simple recommendation system, where selected movie/TV show titles will return recommended similar titles. We don't have ratings in this dataset, so hybrid or collaborative systems are out of the question. We will instead use a (mostly) content based system. We therefore need to choose some relevant features to predict based on similar content."
   ]
  },
  {
   "cell_type": "code",
   "execution_count": 18,
   "id": "676f4f7f",
   "metadata": {},
   "outputs": [
    {
     "data": {
      "text/html": [
       "<div>\n",
       "<style scoped>\n",
       "    .dataframe tbody tr th:only-of-type {\n",
       "        vertical-align: middle;\n",
       "    }\n",
       "\n",
       "    .dataframe tbody tr th {\n",
       "        vertical-align: top;\n",
       "    }\n",
       "\n",
       "    .dataframe thead th {\n",
       "        text-align: right;\n",
       "    }\n",
       "</style>\n",
       "<table border=\"1\" class=\"dataframe\">\n",
       "  <thead>\n",
       "    <tr style=\"text-align: right;\">\n",
       "      <th></th>\n",
       "      <th>show_id</th>\n",
       "      <th>type</th>\n",
       "      <th>title</th>\n",
       "      <th>director</th>\n",
       "      <th>cast</th>\n",
       "      <th>country</th>\n",
       "      <th>date_added</th>\n",
       "      <th>release_year</th>\n",
       "      <th>rating</th>\n",
       "      <th>duration</th>\n",
       "      <th>listed_in</th>\n",
       "      <th>description</th>\n",
       "      <th>main_country</th>\n",
       "    </tr>\n",
       "  </thead>\n",
       "  <tbody>\n",
       "    <tr>\n",
       "      <th>0</th>\n",
       "      <td>s1</td>\n",
       "      <td>Movie</td>\n",
       "      <td>Duck the Halls: A Mickey Mouse Christmas Special</td>\n",
       "      <td>Alonso Ramirez Ramos, Dave Wasson</td>\n",
       "      <td>Chris Diamantopoulos, Tony Anselmo, Tress MacN...</td>\n",
       "      <td>Unlisted</td>\n",
       "      <td>11/26/2021</td>\n",
       "      <td>2016</td>\n",
       "      <td>TV-G</td>\n",
       "      <td>23 min</td>\n",
       "      <td>Animation, Family</td>\n",
       "      <td>Join Mickey and the gang as they duck the halls!</td>\n",
       "      <td>Unlisted</td>\n",
       "    </tr>\n",
       "    <tr>\n",
       "      <th>1</th>\n",
       "      <td>s2</td>\n",
       "      <td>Movie</td>\n",
       "      <td>Ernest Saves Christmas</td>\n",
       "      <td>John Cherry</td>\n",
       "      <td>Jim Varney, Noelle Parker, Douglas Seale</td>\n",
       "      <td>Unlisted</td>\n",
       "      <td>11/26/2021</td>\n",
       "      <td>1988</td>\n",
       "      <td>PG</td>\n",
       "      <td>91 min</td>\n",
       "      <td>Comedy</td>\n",
       "      <td>Santa Claus passes his magic bag to a new St. ...</td>\n",
       "      <td>Unlisted</td>\n",
       "    </tr>\n",
       "    <tr>\n",
       "      <th>2</th>\n",
       "      <td>s3</td>\n",
       "      <td>Movie</td>\n",
       "      <td>Ice Age: A Mammoth Christmas</td>\n",
       "      <td>Karen Disher</td>\n",
       "      <td>Raymond Albert Romano, John Leguizamo, Denis L...</td>\n",
       "      <td>United States</td>\n",
       "      <td>11/26/2021</td>\n",
       "      <td>2011</td>\n",
       "      <td>TV-G</td>\n",
       "      <td>23 min</td>\n",
       "      <td>Animation, Comedy, Family</td>\n",
       "      <td>Sid the Sloth is on Santa's naughty list.</td>\n",
       "      <td>United States</td>\n",
       "    </tr>\n",
       "    <tr>\n",
       "      <th>3</th>\n",
       "      <td>s4</td>\n",
       "      <td>Movie</td>\n",
       "      <td>The Queen Family Singalong</td>\n",
       "      <td>Hamish Hamilton</td>\n",
       "      <td>Darren Criss, Adam Lambert, Derek Hough, Alexa...</td>\n",
       "      <td>Unlisted</td>\n",
       "      <td>11/26/2021</td>\n",
       "      <td>2021</td>\n",
       "      <td>TV-PG</td>\n",
       "      <td>41 min</td>\n",
       "      <td>Musical</td>\n",
       "      <td>This is real life, not just fantasy!</td>\n",
       "      <td>Unlisted</td>\n",
       "    </tr>\n",
       "    <tr>\n",
       "      <th>4</th>\n",
       "      <td>s5</td>\n",
       "      <td>TV Show</td>\n",
       "      <td>The Beatles: Get Back</td>\n",
       "      <td>No Director: TV Show</td>\n",
       "      <td>John Lennon, Paul McCartney, George Harrison, ...</td>\n",
       "      <td>Unlisted</td>\n",
       "      <td>11/25/2021</td>\n",
       "      <td>2021</td>\n",
       "      <td>TV-G</td>\n",
       "      <td>1 Season</td>\n",
       "      <td>Docuseries, Historical, Music</td>\n",
       "      <td>A three-part documentary from Peter Jackson ca...</td>\n",
       "      <td>Unlisted</td>\n",
       "    </tr>\n",
       "  </tbody>\n",
       "</table>\n",
       "</div>"
      ],
      "text/plain": [
       "  show_id     type                                             title  \\\n",
       "0      s1    Movie  Duck the Halls: A Mickey Mouse Christmas Special   \n",
       "1      s2    Movie                            Ernest Saves Christmas   \n",
       "2      s3    Movie                      Ice Age: A Mammoth Christmas   \n",
       "3      s4    Movie                        The Queen Family Singalong   \n",
       "4      s5  TV Show                             The Beatles: Get Back   \n",
       "\n",
       "                            director  \\\n",
       "0  Alonso Ramirez Ramos, Dave Wasson   \n",
       "1                        John Cherry   \n",
       "2                       Karen Disher   \n",
       "3                    Hamish Hamilton   \n",
       "4               No Director: TV Show   \n",
       "\n",
       "                                                cast        country  \\\n",
       "0  Chris Diamantopoulos, Tony Anselmo, Tress MacN...       Unlisted   \n",
       "1           Jim Varney, Noelle Parker, Douglas Seale       Unlisted   \n",
       "2  Raymond Albert Romano, John Leguizamo, Denis L...  United States   \n",
       "3  Darren Criss, Adam Lambert, Derek Hough, Alexa...       Unlisted   \n",
       "4  John Lennon, Paul McCartney, George Harrison, ...       Unlisted   \n",
       "\n",
       "   date_added  release_year rating  duration                      listed_in  \\\n",
       "0  11/26/2021          2016   TV-G    23 min              Animation, Family   \n",
       "1  11/26/2021          1988     PG    91 min                         Comedy   \n",
       "2  11/26/2021          2011   TV-G    23 min      Animation, Comedy, Family   \n",
       "3  11/26/2021          2021  TV-PG    41 min                        Musical   \n",
       "4  11/25/2021          2021   TV-G  1 Season  Docuseries, Historical, Music   \n",
       "\n",
       "                                         description   main_country  \n",
       "0   Join Mickey and the gang as they duck the halls!       Unlisted  \n",
       "1  Santa Claus passes his magic bag to a new St. ...       Unlisted  \n",
       "2          Sid the Sloth is on Santa's naughty list.  United States  \n",
       "3               This is real life, not just fantasy!       Unlisted  \n",
       "4  A three-part documentary from Peter Jackson ca...       Unlisted  "
      ]
     },
     "execution_count": 18,
     "metadata": {},
     "output_type": "execute_result"
    }
   ],
   "source": [
    "df.head()"
   ]
  },
  {
   "cell_type": "markdown",
   "id": "ab120fe9",
   "metadata": {},
   "source": [
    "<u>The metrics we will use for this recommender are:</u>\n",
    " - Title\n",
    " - Cast\n",
    " - listed_in (a.k.a genre)\n",
    " - Description"
   ]
  },
  {
   "cell_type": "markdown",
   "id": "d57f25fe",
   "metadata": {},
   "source": [
    "Many of these values are descriptions or lists of names/genres. We need to clean this data and create a 'bag of words' or word 'soup' to be used in the recommender."
   ]
  },
  {
   "cell_type": "markdown",
   "id": "5586e13b",
   "metadata": {},
   "source": [
    "## Clean and reformat data\n",
    "Remove spaces and capitalization for each feature and recreate the dataframe. We'll keep the title in the features dataframe to preserve readability later on after recommendation is done. This acts as an index for our data, but we don't necessarily have to use it in the recommendation itself."
   ]
  },
  {
   "cell_type": "code",
   "execution_count": 259,
   "id": "3edc39bf",
   "metadata": {},
   "outputs": [
    {
     "name": "stdout",
     "output_type": "stream",
     "text": [
      "<class 'pandas.core.frame.DataFrame'>\n",
      "Int64Index: 1207 entries, 0 to 1449\n",
      "Data columns (total 4 columns):\n",
      " #   Column       Non-Null Count  Dtype \n",
      "---  ------       --------------  ----- \n",
      " 0   title        1207 non-null   object\n",
      " 1   cast         1207 non-null   object\n",
      " 2   listed_in    1207 non-null   object\n",
      " 3   description  1207 non-null   object\n",
      "dtypes: object(4)\n",
      "memory usage: 79.4+ KB\n"
     ]
    }
   ],
   "source": [
    "# define features\n",
    "features = ['title', 'cast', 'listed_in', 'description']\n",
    "\n",
    "# new dataframe for feature data\n",
    "feature_df = df[features]\n",
    "feature_df.info()"
   ]
  },
  {
   "cell_type": "markdown",
   "id": "9dfa35c4",
   "metadata": {},
   "source": [
    "### 1. Clean the data\n",
    "Remove spaces and capitalization. We will write a small function to help with this."
   ]
  },
  {
   "cell_type": "code",
   "execution_count": 260,
   "id": "53f5517f",
   "metadata": {},
   "outputs": [],
   "source": [
    "# remove spaces, commas, and capitalization\n",
    "def clean_data(x):\n",
    "    cleaned = x.replace(',', '')\n",
    "    return str.lower(cleaned.replace(\" \", \"\"))"
   ]
  },
  {
   "cell_type": "code",
   "execution_count": 261,
   "id": "520670b4",
   "metadata": {},
   "outputs": [],
   "source": [
    "# we want to preserve the original title as a column to use for index purposes\n",
    "features.remove('title')"
   ]
  },
  {
   "cell_type": "code",
   "execution_count": 262,
   "id": "79d086a6",
   "metadata": {
    "scrolled": false
   },
   "outputs": [
    {
     "data": {
      "text/html": [
       "<div>\n",
       "<style scoped>\n",
       "    .dataframe tbody tr th:only-of-type {\n",
       "        vertical-align: middle;\n",
       "    }\n",
       "\n",
       "    .dataframe tbody tr th {\n",
       "        vertical-align: top;\n",
       "    }\n",
       "\n",
       "    .dataframe thead th {\n",
       "        text-align: right;\n",
       "    }\n",
       "</style>\n",
       "<table border=\"1\" class=\"dataframe\">\n",
       "  <thead>\n",
       "    <tr style=\"text-align: right;\">\n",
       "      <th></th>\n",
       "      <th>title</th>\n",
       "      <th>cast</th>\n",
       "      <th>listed_in</th>\n",
       "      <th>description</th>\n",
       "      <th>filtered_title</th>\n",
       "    </tr>\n",
       "  </thead>\n",
       "  <tbody>\n",
       "    <tr>\n",
       "      <th>0</th>\n",
       "      <td>Duck the Halls: A Mickey Mouse Christmas Special</td>\n",
       "      <td>chrisdiamantopoulostonyanselmotressmacneillebi...</td>\n",
       "      <td>animationfamily</td>\n",
       "      <td>joinmickeyandthegangastheyduckthehalls!</td>\n",
       "      <td>duckthehalls:amickeymousechristmasspecial</td>\n",
       "    </tr>\n",
       "    <tr>\n",
       "      <th>1</th>\n",
       "      <td>Ernest Saves Christmas</td>\n",
       "      <td>jimvarneynoelleparkerdouglasseale</td>\n",
       "      <td>comedy</td>\n",
       "      <td>santaclauspasseshismagicbagtoanewst.nic.</td>\n",
       "      <td>ernestsaveschristmas</td>\n",
       "    </tr>\n",
       "    <tr>\n",
       "      <th>2</th>\n",
       "      <td>Ice Age: A Mammoth Christmas</td>\n",
       "      <td>raymondalbertromanojohnleguizamodenislearyquee...</td>\n",
       "      <td>animationcomedyfamily</td>\n",
       "      <td>sidtheslothisonsanta'snaughtylist.</td>\n",
       "      <td>iceage:amammothchristmas</td>\n",
       "    </tr>\n",
       "    <tr>\n",
       "      <th>3</th>\n",
       "      <td>The Queen Family Singalong</td>\n",
       "      <td>darrencrissadamlambertderekhoughalexanderjeanf...</td>\n",
       "      <td>musical</td>\n",
       "      <td>thisisreallifenotjustfantasy!</td>\n",
       "      <td>thequeenfamilysingalong</td>\n",
       "    </tr>\n",
       "    <tr>\n",
       "      <th>4</th>\n",
       "      <td>The Beatles: Get Back</td>\n",
       "      <td>johnlennonpaulmccartneygeorgeharrisonringostarr</td>\n",
       "      <td>docuserieshistoricalmusic</td>\n",
       "      <td>athree-partdocumentaryfrompeterjacksoncapturin...</td>\n",
       "      <td>thebeatles:getback</td>\n",
       "    </tr>\n",
       "  </tbody>\n",
       "</table>\n",
       "</div>"
      ],
      "text/plain": [
       "                                              title  \\\n",
       "0  Duck the Halls: A Mickey Mouse Christmas Special   \n",
       "1                            Ernest Saves Christmas   \n",
       "2                      Ice Age: A Mammoth Christmas   \n",
       "3                        The Queen Family Singalong   \n",
       "4                             The Beatles: Get Back   \n",
       "\n",
       "                                                cast  \\\n",
       "0  chrisdiamantopoulostonyanselmotressmacneillebi...   \n",
       "1                  jimvarneynoelleparkerdouglasseale   \n",
       "2  raymondalbertromanojohnleguizamodenislearyquee...   \n",
       "3  darrencrissadamlambertderekhoughalexanderjeanf...   \n",
       "4    johnlennonpaulmccartneygeorgeharrisonringostarr   \n",
       "\n",
       "                   listed_in  \\\n",
       "0            animationfamily   \n",
       "1                     comedy   \n",
       "2      animationcomedyfamily   \n",
       "3                    musical   \n",
       "4  docuserieshistoricalmusic   \n",
       "\n",
       "                                         description  \\\n",
       "0            joinmickeyandthegangastheyduckthehalls!   \n",
       "1           santaclauspasseshismagicbagtoanewst.nic.   \n",
       "2                 sidtheslothisonsanta'snaughtylist.   \n",
       "3                      thisisreallifenotjustfantasy!   \n",
       "4  athree-partdocumentaryfrompeterjacksoncapturin...   \n",
       "\n",
       "                              filtered_title  \n",
       "0  duckthehalls:amickeymousechristmasspecial  \n",
       "1                       ernestsaveschristmas  \n",
       "2                   iceage:amammothchristmas  \n",
       "3                    thequeenfamilysingalong  \n",
       "4                         thebeatles:getback  "
      ]
     },
     "execution_count": 262,
     "metadata": {},
     "output_type": "execute_result"
    }
   ],
   "source": [
    "# apply filter to the dataframe\n",
    "for feature in features:\n",
    "    feature_df[feature] = feature_df[feature].apply(clean_data)\n",
    "\n",
    "# title is also considered in the features, but we want to preserve the original title. Therefore we separately filter it\n",
    "feature_df['filtered_title'] = feature_df['title'].apply(clean_data)\n",
    "feature_df.head()"
   ]
  },
  {
   "cell_type": "markdown",
   "id": "ae14f3b7",
   "metadata": {},
   "source": [
    "### 2. Create bag of words for prediction\n",
    "We will now make a bag of words that conatins all of the features for recommendation. Reformat to use title as the index."
   ]
  },
  {
   "cell_type": "code",
   "execution_count": 290,
   "id": "a2af2800",
   "metadata": {},
   "outputs": [],
   "source": [
    "# create bag of words\n",
    "feature_df['bag_of_words'] = ''\n",
    "feature_df['bag_of_words'] = feature_df[feature_df.columns[1:]].apply(lambda x: ' '.join(x), axis=1)\n",
    "feature_df.set_index('title', inplace=True)"
   ]
  },
  {
   "cell_type": "code",
   "execution_count": 291,
   "id": "45fe633d",
   "metadata": {},
   "outputs": [
    {
     "data": {
      "text/plain": [
       "title\n",
       "Duck the Halls: A Mickey Mouse Christmas Special    chrisdiamantopoulostonyanselmotressmacneillebi...\n",
       "Ernest Saves Christmas                              jimvarneynoelleparkerdouglasseale comedy santa...\n",
       "Ice Age: A Mammoth Christmas                        raymondalbertromanojohnleguizamodenislearyquee...\n",
       "The Queen Family Singalong                          darrencrissadamlambertderekhoughalexanderjeanf...\n",
       "The Beatles: Get Back                               johnlennonpaulmccartneygeorgeharrisonringostar...\n",
       "                                                                          ...                        \n",
       "X-Men Origins: Wolverine                            hughjackmanlievschreiberdannyhustonwill.i.amly...\n",
       "Night at the Museum: Battle of the Smithsonian      benstilleramyadamsowenwilsonhankazariachristop...\n",
       "Eddie the Eagle                                     tomcostellojohartleykeithallendickontolsonjack...\n",
       "Bend It Like Beckham                                parmindernagrakeiraknightleyjonathanrhys-meyer...\n",
       "Captain Sparky vs. The Flying Saucers               charlietahan action-adventureanimals&natureani...\n",
       "Name: bag_of_words, Length: 1207, dtype: object"
      ]
     },
     "execution_count": 291,
     "metadata": {},
     "output_type": "execute_result"
    }
   ],
   "source": [
    "feature_df.bag_of_words"
   ]
  },
  {
   "cell_type": "markdown",
   "id": "7c7692fe",
   "metadata": {},
   "source": [
    "## Similarity\n",
    "To find the similarity between different movies, we will use tfidf vectorizer to compare (weighted) bag of words values for each movie and cosine similarity to compare the similarity of different films based on the previous result. These are both already available in scikit-learn's feature-extraction.text and metrics."
   ]
  },
  {
   "cell_type": "code",
   "execution_count": 174,
   "id": "f123aa4f",
   "metadata": {},
   "outputs": [],
   "source": [
    "from sklearn.feature_extraction.text import TfidfVectorizer\n",
    "from sklearn.metrics.pairwise import cosine_similarity"
   ]
  },
  {
   "cell_type": "markdown",
   "id": "bb26a82d",
   "metadata": {},
   "source": [
    "### TFIDF Vectorizer\n",
    "We'll use the tfidf vectorizer to compare word frequency, taking into account the more impactful words in the descriptions and in the English language in general."
   ]
  },
  {
   "cell_type": "code",
   "execution_count": 292,
   "id": "86f769d8",
   "metadata": {},
   "outputs": [],
   "source": [
    "# initialize and fit the vectorizer to the bag of words\n",
    "tfidf = TfidfVectorizer(stop_words='english')\n",
    "tfidf_matrix = tfidf.fit_transform(feature_df['bag_of_words'])"
   ]
  },
  {
   "cell_type": "markdown",
   "id": "0c5f7565",
   "metadata": {},
   "source": [
    "### Cosine similarity\n",
    "Use cosine similarity to compare movies with the tfidf matrix from above."
   ]
  },
  {
   "cell_type": "code",
   "execution_count": 293,
   "id": "5da9418a",
   "metadata": {},
   "outputs": [],
   "source": [
    "similarity = cosine_similarity(tfidf_matrix)"
   ]
  },
  {
   "cell_type": "markdown",
   "id": "e62eec03",
   "metadata": {},
   "source": [
    "## Create Prediction\n",
    "Now that we have all the tools to create a prediction given a movie title, we can create a function to perform this prediction, and it will output relevant movies!"
   ]
  },
  {
   "cell_type": "code",
   "execution_count": 294,
   "id": "85e55e0e",
   "metadata": {},
   "outputs": [],
   "source": [
    "def predict(title, top_n=10):\n",
    "    # create a copy of the dataframe to search for the index and return later\n",
    "    data = feature_df.reset_index()\n",
    "    index_movie = data[data['title'] == title].index\n",
    "    \n",
    "    # find similarity array for this movie\n",
    "    sim_scores = similarity[index_movie]\n",
    "    \n",
    "    # add to final dataframe to return\n",
    "    data['similarity'] = sim_scores.T\n",
    "    \n",
    "    # sort values and find top N related movies \n",
    "    data = data.sort_values(by='similarity', ascending=False).iloc[1:top_n+1, :]\n",
    "    \n",
    "    data.set_index('title', inplace=True)\n",
    "\n",
    "    return data[['similarity']]"
   ]
  },
  {
   "cell_type": "markdown",
   "id": "fe4e9d1e",
   "metadata": {},
   "source": [
    "### A few predictions to test results:"
   ]
  },
  {
   "cell_type": "code",
   "execution_count": 295,
   "id": "2aeb113c",
   "metadata": {},
   "outputs": [
    {
     "data": {
      "text/html": [
       "<div>\n",
       "<style scoped>\n",
       "    .dataframe tbody tr th:only-of-type {\n",
       "        vertical-align: middle;\n",
       "    }\n",
       "\n",
       "    .dataframe tbody tr th {\n",
       "        vertical-align: top;\n",
       "    }\n",
       "\n",
       "    .dataframe thead th {\n",
       "        text-align: right;\n",
       "    }\n",
       "</style>\n",
       "<table border=\"1\" class=\"dataframe\">\n",
       "  <thead>\n",
       "    <tr style=\"text-align: right;\">\n",
       "      <th></th>\n",
       "      <th>similarity</th>\n",
       "    </tr>\n",
       "    <tr>\n",
       "      <th>title</th>\n",
       "      <th></th>\n",
       "    </tr>\n",
       "  </thead>\n",
       "  <tbody>\n",
       "    <tr>\n",
       "      <th>Tarzan &amp; Jane</th>\n",
       "      <td>0.173201</td>\n",
       "    </tr>\n",
       "    <tr>\n",
       "      <th>Iron Man Armored Adventures</th>\n",
       "      <td>0.152081</td>\n",
       "    </tr>\n",
       "    <tr>\n",
       "      <th>Tarzan II</th>\n",
       "      <td>0.152081</td>\n",
       "    </tr>\n",
       "    <tr>\n",
       "      <th>The Black Cauldron</th>\n",
       "      <td>0.152081</td>\n",
       "    </tr>\n",
       "    <tr>\n",
       "      <th>Marvel Rising: Playing With Fire</th>\n",
       "      <td>0.137540</td>\n",
       "    </tr>\n",
       "    <tr>\n",
       "      <th>Marvel Rising: Operation Shuri</th>\n",
       "      <td>0.137540</td>\n",
       "    </tr>\n",
       "    <tr>\n",
       "      <th>Marvel Rising: Secret Warriors</th>\n",
       "      <td>0.129311</td>\n",
       "    </tr>\n",
       "    <tr>\n",
       "      <th>Lady and the Tramp II: Scamp's Adventure</th>\n",
       "      <td>0.112949</td>\n",
       "    </tr>\n",
       "    <tr>\n",
       "      <th>Kim Possible Movie: So the Drama</th>\n",
       "      <td>0.105350</td>\n",
       "    </tr>\n",
       "    <tr>\n",
       "      <th>Up</th>\n",
       "      <td>0.019915</td>\n",
       "    </tr>\n",
       "  </tbody>\n",
       "</table>\n",
       "</div>"
      ],
      "text/plain": [
       "                                          similarity\n",
       "title                                               \n",
       "Tarzan & Jane                               0.173201\n",
       "Iron Man Armored Adventures                 0.152081\n",
       "Tarzan II                                   0.152081\n",
       "The Black Cauldron                          0.152081\n",
       "Marvel Rising: Playing With Fire            0.137540\n",
       "Marvel Rising: Operation Shuri              0.137540\n",
       "Marvel Rising: Secret Warriors              0.129311\n",
       "Lady and the Tramp II: Scamp's Adventure    0.112949\n",
       "Kim Possible Movie: So the Drama            0.105350\n",
       "Up                                          0.019915"
      ]
     },
     "execution_count": 295,
     "metadata": {},
     "output_type": "execute_result"
    }
   ],
   "source": [
    "predict('Tarzan', 10)"
   ]
  },
  {
   "cell_type": "code",
   "execution_count": 296,
   "id": "75c76e88",
   "metadata": {},
   "outputs": [
    {
     "data": {
      "text/html": [
       "<div>\n",
       "<style scoped>\n",
       "    .dataframe tbody tr th:only-of-type {\n",
       "        vertical-align: middle;\n",
       "    }\n",
       "\n",
       "    .dataframe tbody tr th {\n",
       "        vertical-align: top;\n",
       "    }\n",
       "\n",
       "    .dataframe thead th {\n",
       "        text-align: right;\n",
       "    }\n",
       "</style>\n",
       "<table border=\"1\" class=\"dataframe\">\n",
       "  <thead>\n",
       "    <tr style=\"text-align: right;\">\n",
       "      <th></th>\n",
       "      <th>similarity</th>\n",
       "    </tr>\n",
       "    <tr>\n",
       "      <th>title</th>\n",
       "      <th></th>\n",
       "    </tr>\n",
       "  </thead>\n",
       "  <tbody>\n",
       "    <tr>\n",
       "      <th>Toy Story: That Time Forgot</th>\n",
       "      <td>0.247363</td>\n",
       "    </tr>\n",
       "    <tr>\n",
       "      <th>Up</th>\n",
       "      <td>0.234152</td>\n",
       "    </tr>\n",
       "    <tr>\n",
       "      <th>The Good Dinosaur</th>\n",
       "      <td>0.200403</td>\n",
       "    </tr>\n",
       "    <tr>\n",
       "      <th>The Fox and the Hound</th>\n",
       "      <td>0.200403</td>\n",
       "    </tr>\n",
       "    <tr>\n",
       "      <th>The Fox and the Hound 2</th>\n",
       "      <td>0.178005</td>\n",
       "    </tr>\n",
       "    <tr>\n",
       "      <th>Goldie &amp; Bear</th>\n",
       "      <td>0.178005</td>\n",
       "    </tr>\n",
       "  </tbody>\n",
       "</table>\n",
       "</div>"
      ],
      "text/plain": [
       "                             similarity\n",
       "title                                  \n",
       "Toy Story: That Time Forgot    0.247363\n",
       "Up                             0.234152\n",
       "The Good Dinosaur              0.200403\n",
       "The Fox and the Hound          0.200403\n",
       "The Fox and the Hound 2        0.178005\n",
       "Goldie & Bear                  0.178005"
      ]
     },
     "execution_count": 296,
     "metadata": {},
     "output_type": "execute_result"
    }
   ],
   "source": [
    "predict('Toy Story', 6)"
   ]
  },
  {
   "cell_type": "code",
   "execution_count": 298,
   "id": "c254c671",
   "metadata": {},
   "outputs": [
    {
     "data": {
      "text/html": [
       "<div>\n",
       "<style scoped>\n",
       "    .dataframe tbody tr th:only-of-type {\n",
       "        vertical-align: middle;\n",
       "    }\n",
       "\n",
       "    .dataframe tbody tr th {\n",
       "        vertical-align: top;\n",
       "    }\n",
       "\n",
       "    .dataframe thead th {\n",
       "        text-align: right;\n",
       "    }\n",
       "</style>\n",
       "<table border=\"1\" class=\"dataframe\">\n",
       "  <thead>\n",
       "    <tr style=\"text-align: right;\">\n",
       "      <th></th>\n",
       "      <th>similarity</th>\n",
       "    </tr>\n",
       "    <tr>\n",
       "      <th>title</th>\n",
       "      <th></th>\n",
       "    </tr>\n",
       "  </thead>\n",
       "  <tbody>\n",
       "    <tr>\n",
       "      <th>Coco (in Spanish)</th>\n",
       "      <td>0.593773</td>\n",
       "    </tr>\n",
       "    <tr>\n",
       "      <th>A Celebration of the Music from Coco</th>\n",
       "      <td>0.211064</td>\n",
       "    </tr>\n",
       "    <tr>\n",
       "      <th>The Little Mermaid</th>\n",
       "      <td>0.132234</td>\n",
       "    </tr>\n",
       "    <tr>\n",
       "      <th>Frozen Fever</th>\n",
       "      <td>0.130162</td>\n",
       "    </tr>\n",
       "    <tr>\n",
       "      <th>Float</th>\n",
       "      <td>0.130162</td>\n",
       "    </tr>\n",
       "    <tr>\n",
       "      <th>Anastasia</th>\n",
       "      <td>0.130162</td>\n",
       "    </tr>\n",
       "    <tr>\n",
       "      <th>Pinocchio</th>\n",
       "      <td>0.130162</td>\n",
       "    </tr>\n",
       "    <tr>\n",
       "      <th>Fantasia 2000</th>\n",
       "      <td>0.130162</td>\n",
       "    </tr>\n",
       "  </tbody>\n",
       "</table>\n",
       "</div>"
      ],
      "text/plain": [
       "                                      similarity\n",
       "title                                           \n",
       "Coco (in Spanish)                       0.593773\n",
       "A Celebration of the Music from Coco    0.211064\n",
       "The Little Mermaid                      0.132234\n",
       "Frozen Fever                            0.130162\n",
       "Float                                   0.130162\n",
       "Anastasia                               0.130162\n",
       "Pinocchio                               0.130162\n",
       "Fantasia 2000                           0.130162"
      ]
     },
     "execution_count": 298,
     "metadata": {},
     "output_type": "execute_result"
    }
   ],
   "source": [
    "predict('Coco', 8)"
   ]
  },
  {
   "cell_type": "markdown",
   "id": "796acb4d",
   "metadata": {},
   "source": [
    "# Conclusion\n",
    "This project aimed to create a content-based recommendation system for Disney's streaming platform, Disney+. By using a TFIDF vectorizer and comparing cosine similarities between different entries in the data, I was able to create a model that makes recommendations based on these similarities. As shown in the example predictions above, the recommender can generate similar films/TV shows based on the descriptions, titles, and other features available for each item. \n",
    "\n",
    "Though the recommendations are relatively reliable, there is still potential work to be done in the future. A few key things can be improved:\n",
    "1. This is a content-based recommender, but real-world recommendation systems used today often have a blend of user ratings and content recommendations. Adding weights to user preferences (voting) while also implementing content similarities would create a more robust and flexible recommender.\n",
    "2. Another similar issue is that this system doesn't make recommendations for new users, and instead must take in an existing movie before it can make a recommendation. Access to more data would allow for default recommendations based on popularity among users, as well as linkage to similar users afterwards.\n",
    "3. In the dataset, there isn't data relating to _categories_ of movies (i.e. genres, series, etc.) to further group the data. If these were included as well, the model could make better, more accurate predictions. Basically, if the movies/shows were better categorized, the recommendations would follow suit.\n",
    "\n",
    "Working with the available data, this project was able to analyze trends, clean and prepare the data for modeling, and create a content-based recommendation system for Disney+ films and shows. "
   ]
  }
 ],
 "metadata": {
  "kernelspec": {
   "display_name": "Python 3 (ipykernel)",
   "language": "python",
   "name": "python3"
  },
  "language_info": {
   "codemirror_mode": {
    "name": "ipython",
    "version": 3
   },
   "file_extension": ".py",
   "mimetype": "text/x-python",
   "name": "python",
   "nbconvert_exporter": "python",
   "pygments_lexer": "ipython3",
   "version": "3.10.9"
  }
 },
 "nbformat": 4,
 "nbformat_minor": 5
}
