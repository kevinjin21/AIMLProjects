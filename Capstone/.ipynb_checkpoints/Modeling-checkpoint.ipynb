{
 "cells": [
  {
   "cell_type": "markdown",
   "id": "96b989a7",
   "metadata": {},
   "source": [
    "# Modeling"
   ]
  },
  {
   "cell_type": "markdown",
   "id": "0d7e55ab",
   "metadata": {},
   "source": [
    "From the initial EDA, we learned of a few interesting relationships:\n",
    "<br>\n",
    "<br>1. Negative linear relationship between temperature and gas usage\n",
    "<br>2. (Somewhat) Linear relationship between gas usage, temperature, and PM10 particulate occurance\n",
    "<br>3. Cyclic behaviour in generation of gas, electricity, and PM10 particulate occurance\n",
    "<br><br>\n",
    "We will explore these relationships in hopes of creating accurate models to predict behaviours in related data points."
   ]
  },
  {
   "cell_type": "markdown",
   "id": "a62f5644",
   "metadata": {},
   "source": [
    "## Temperature and Gas Usage: Linear Regression"
   ]
  },
  {
   "cell_type": "markdown",
   "id": "08cd5614",
   "metadata": {},
   "source": [
    "The first relationship we will explore is between temperature and gas usage. In the initial EDA, we saw quite a linear relationship, so we will focus on *linear regression* (and perhaps a few other simple models)."
   ]
  },
  {
   "cell_type": "code",
   "execution_count": null,
   "id": "11e0683d",
   "metadata": {},
   "outputs": [],
   "source": []
  }
 ],
 "metadata": {
  "kernelspec": {
   "display_name": "Python 3 (ipykernel)",
   "language": "python",
   "name": "python3"
  },
  "language_info": {
   "codemirror_mode": {
    "name": "ipython",
    "version": 3
   },
   "file_extension": ".py",
   "mimetype": "text/x-python",
   "name": "python",
   "nbconvert_exporter": "python",
   "pygments_lexer": "ipython3",
   "version": "3.10.9"
  }
 },
 "nbformat": 4,
 "nbformat_minor": 5
}
