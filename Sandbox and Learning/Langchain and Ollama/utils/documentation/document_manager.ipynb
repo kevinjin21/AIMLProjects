{
 "cells": [
  {
   "cell_type": "markdown",
   "id": "19692c75",
   "metadata": {},
   "source": [
    "# DocumentManager Class Documentation\n",
    "\n",
    "This documentation covers the usage of the `DocumentManager` class for handling multiple document types and performing RAG operations.\n",
    "\n",
    "## Overview\n",
    "\n",
    "The `DocumentManager` class implements a facade pattern to simplify loading and processing multiple document types (PDF, Word, Excel, PowerPoint) for use with LLMs.\n",
    "\n",
    "## Installation\n",
    "\n"
   ]
  },
  {
   "cell_type": "code",
   "execution_count": null,
   "id": "9302f334",
   "metadata": {},
   "outputs": [],
   "source": [
    "from utils.document_loaders import DocumentManager"
   ]
  },
  {
   "cell_type": "markdown",
   "id": "d54ec09c",
   "metadata": {},
   "source": [
    "\n",
    "\n",
    "## Class Methods\n",
    "\n",
    "### `__init__(self)`\n",
    "\n",
    "Initializes the document manager with default loaders and settings.\n",
    "\n"
   ]
  },
  {
   "cell_type": "code",
   "execution_count": null,
   "id": "c145f28d",
   "metadata": {},
   "outputs": [],
   "source": [
    "manager = DocumentManager()"
   ]
  },
  {
   "cell_type": "markdown",
   "id": "d7115277",
   "metadata": {},
   "source": [
    "\n",
    "\n",
    "### `load_directory(directory_path: Union[str, List[str]]) -> Tuple[List, str]`\n",
    "\n",
    "Loads and processes documents from specified paths.\n",
    "\n",
    "**Parameters:**\n",
    "- `directory_path`: Either a glob pattern (e.g., \"docs/*.pdf\") or list of file paths\n",
    "\n",
    "**Returns:**\n",
    "- `Tuple[List, str]`: Documents and formatted context\n",
    "\n",
    "**Example:**\n"
   ]
  },
  {
   "cell_type": "code",
   "execution_count": null,
   "id": "11ab5972",
   "metadata": {},
   "outputs": [],
   "source": [
    "# Using glob pattern\n",
    "docs, context = manager.load_directory('rag_pdfs/*')\n",
    "\n",
    "# Using file list\n",
    "files = ['doc1.pdf', 'presentation.pptx']\n",
    "docs, context = manager.load_directory(files)"
   ]
  },
  {
   "cell_type": "markdown",
   "id": "55439b98",
   "metadata": {},
   "source": [
    "\n",
    "\n",
    "### `chunk_documents(docs: Optional[List] = None, chunk_size: int = 1000, chunk_overlap: int = 100) -> List[str]`\n",
    "\n",
    "Splits documents into manageable chunks.\n",
    "\n",
    "**Parameters:**\n",
    "- `docs`: Optional document list (uses self.docs if None)\n",
    "- `chunk_size`: Characters per chunk\n",
    "- `chunk_overlap`: Overlap between chunks\n",
    "\n",
    "**Example:**\n"
   ]
  },
  {
   "cell_type": "code",
   "execution_count": null,
   "id": "c1f582e9",
   "metadata": {},
   "outputs": [],
   "source": [
    "chunks = manager.chunk_documents(chunk_size=500)"
   ]
  },
  {
   "cell_type": "markdown",
   "id": "917a795a",
   "metadata": {},
   "source": [
    "\n",
    "\n",
    "### `create_vector_store(chunks: List, path: str) -> None`\n",
    "\n",
    "Creates and saves a FAISS vector store.\n",
    "\n",
    "**Parameters:**\n",
    "- `chunks`: Document chunks\n",
    "- `path`: Save location\n",
    "\n",
    "**Example:**\n"
   ]
  },
  {
   "cell_type": "code",
   "execution_count": null,
   "id": "67119dfd",
   "metadata": {},
   "outputs": [],
   "source": [
    "manager.create_vector_store(chunks, 'rag_vectorstore')"
   ]
  },
  {
   "cell_type": "markdown",
   "id": "d7dd0559",
   "metadata": {},
   "source": [
    "\n",
    "\n",
    "### `retrieve(question: str, prompt: Optional[str] = None, path: Optional[str] = None) -> str`\n",
    "\n",
    "Performs RAG-based question answering.\n",
    "\n",
    "**Parameters:**\n",
    "- `question`: Query text\n",
    "- `prompt`: Custom prompt template (optional)\n",
    "- `path`: Vector store path (optional)\n",
    "\n",
    "**Example:**\n"
   ]
  },
  {
   "cell_type": "code",
   "execution_count": null,
   "id": "efc9df2a",
   "metadata": {},
   "outputs": [],
   "source": [
    "# Basic usage\n",
    "answer = manager.retrieve(\"What is a completion?\")\n",
    "\n",
    "# With custom path\n",
    "answer = manager.retrieve(\n",
    "    question=\"Summarize DevCon 2024\",\n",
    "    path=\"rag_vectorstore\"\n",
    ")"
   ]
  },
  {
   "cell_type": "markdown",
   "id": "4e9c6b9f",
   "metadata": {},
   "source": [
    "\n",
    "\n",
    "## Complete Usage Example\n",
    "\n"
   ]
  },
  {
   "cell_type": "code",
   "execution_count": null,
   "id": "54098556",
   "metadata": {},
   "outputs": [],
   "source": [
    "from utils.document_loaders import DocumentManager\n",
    "\n",
    "# Initialize\n",
    "manager = DocumentManager()\n",
    "\n",
    "# Load documents\n",
    "docs, context = manager.load_directory('rag_pdfs/*')\n",
    "\n",
    "# Create chunks\n",
    "chunks = manager.chunk_documents(chunk_size=500)\n",
    "\n",
    "# Create vector store (one-time setup)\n",
    "manager.create_vector_store(chunks, 'rag_vectorstore')\n",
    "\n",
    "# Query documents\n",
    "question = \"What are the key takeaways from DevCon 2024?\"\n",
    "response = manager.retrieve(question)\n",
    "print(response)"
   ]
  },
  {
   "cell_type": "markdown",
   "id": "23706a4d",
   "metadata": {},
   "source": [
    "\n",
    "\n",
    "## Notes\n",
    "- Vector store creation is a one-time operation unless documents change\n",
    "- The class handles PDF, Word, Excel, and PowerPoint files\n",
    "- Default embeddings and LLM can be customized using `load_embedding()` and `load_llm()`\n",
    "- Context is automatically managed and accumulated across operations"
   ]
  }
 ],
 "metadata": {
  "language_info": {
   "name": "python"
  }
 },
 "nbformat": 4,
 "nbformat_minor": 5
}
