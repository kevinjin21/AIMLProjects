{
 "cells": [
  {
   "cell_type": "markdown",
   "id": "8f206f17",
   "metadata": {},
   "source": [
    "# Modeling"
   ]
  },
  {
   "cell_type": "markdown",
   "id": "4ed79853",
   "metadata": {},
   "source": [
    "## Overview"
   ]
  },
  {
   "cell_type": "markdown",
   "id": "d5cd6785",
   "metadata": {},
   "source": [
    "From the initial EDA, we learned of a few interesting relationships:\n",
    "<br>\n",
    "<br>1. Negative linear relationship between temperature and gas usage\n",
    "<br>2. (Somewhat) Linear relationship between gas usage, temperature, and PM10 particulate occurance\n",
    "<br>3. Cyclic behaviour in generation of gas, electricity, and PM10 particulate occurance\n",
    "<br><br>\n",
    "We will explore these relationships in hopes of creating accurate models to predict behaviours in related data points."
   ]
  },
  {
   "cell_type": "markdown",
   "id": "a4e1898e",
   "metadata": {},
   "source": [
    "## Temperature and Gas Usage: Linear Regression"
   ]
  },
  {
   "cell_type": "markdown",
   "id": "5647d149",
   "metadata": {},
   "source": [
    "The first relationship we will explore is between temperature and gas usage. In the initial EDA, we saw quite a linear relationship, and the heatmap suggested that the correlation between these data is the strongest. Thus, we will focus on *linear regression* to predict gas usage based on the temperatures across the different provinces."
   ]
  },
  {
   "cell_type": "markdown",
   "id": "f53af656",
   "metadata": {},
   "source": [
    "### Import extensions and data"
   ]
  },
  {
   "cell_type": "code",
   "execution_count": 1,
   "id": "535e8d1d",
   "metadata": {},
   "outputs": [],
   "source": [
    "# Extensions\n",
    "import pandas as pd\n",
    "import numpy as np\n",
    "import matplotlib.pyplot as plt\n",
    "import seaborn as sns\n",
    "import warnings\n",
    "warnings.filterwarnings('ignore')\n",
    "from datetime import date\n",
    "%matplotlib inline"
   ]
  },
  {
   "cell_type": "code",
   "execution_count": 2,
   "id": "6f3bc952",
   "metadata": {},
   "outputs": [],
   "source": [
    "# Modeling \n",
    "from sklearn.linear_model import LinearRegression\n",
    "from sklearn.model_selection import train_test_split\n",
    "from sklearn.model_selection import cross_val_predict, cross_val_score, KFold\n",
    "from sklearn.ensemble import RandomForestRegressor\n",
    "\n",
    "from sklearn.metrics import mean_squared_error\n",
    "from sklearn.model_selection import GridSearchCV\n",
    "from sklearn.model_selection import RepeatedKFold\n",
    "\n",
    "from sklearn import metrics\n",
    "#from sklearn.metrics import precision_score, recall_score"
   ]
  },
  {
   "cell_type": "code",
   "execution_count": 3,
   "id": "b7b5e208",
   "metadata": {},
   "outputs": [
    {
     "data": {
      "text/html": [
       "<div>\n",
       "<style scoped>\n",
       "    .dataframe tbody tr th:only-of-type {\n",
       "        vertical-align: middle;\n",
       "    }\n",
       "\n",
       "    .dataframe tbody tr th {\n",
       "        vertical-align: top;\n",
       "    }\n",
       "\n",
       "    .dataframe thead th {\n",
       "        text-align: right;\n",
       "    }\n",
       "</style>\n",
       "<table border=\"1\" class=\"dataframe\">\n",
       "  <thead>\n",
       "    <tr style=\"text-align: right;\">\n",
       "      <th></th>\n",
       "      <th>Year</th>\n",
       "      <th>Month</th>\n",
       "      <th>Temperature</th>\n",
       "      <th>Gangwondo_Gas</th>\n",
       "      <th>Gyeonggido_Gas</th>\n",
       "      <th>Gyeongsangnamdo_Gas</th>\n",
       "      <th>Gyeongsangbukdo_Gas</th>\n",
       "      <th>Jeollanamdo_Gas</th>\n",
       "      <th>Jeollabukdo_Gas</th>\n",
       "      <th>Jeju_Gas</th>\n",
       "      <th>Chungcheongnamdo_Gas</th>\n",
       "      <th>Chungcheongbukdo_Gas</th>\n",
       "      <th>Seoul_Gas</th>\n",
       "      <th>Incheon_Gas</th>\n",
       "      <th>Gwangju_Gas</th>\n",
       "      <th>Daegu_Gas</th>\n",
       "      <th>Daejeon_Gas</th>\n",
       "      <th>Busan_Gas</th>\n",
       "      <th>Ulsan_Gas</th>\n",
       "    </tr>\n",
       "  </thead>\n",
       "  <tbody>\n",
       "    <tr>\n",
       "      <th>0</th>\n",
       "      <td>2000</td>\n",
       "      <td>1</td>\n",
       "      <td>-1.20</td>\n",
       "      <td>16219</td>\n",
       "      <td>363014</td>\n",
       "      <td>42129</td>\n",
       "      <td>55362</td>\n",
       "      <td>22508</td>\n",
       "      <td>34507</td>\n",
       "      <td>0</td>\n",
       "      <td>20158</td>\n",
       "      <td>27838</td>\n",
       "      <td>662424</td>\n",
       "      <td>139454</td>\n",
       "      <td>39465</td>\n",
       "      <td>86077</td>\n",
       "      <td>52992</td>\n",
       "      <td>85787</td>\n",
       "      <td>69241</td>\n",
       "    </tr>\n",
       "    <tr>\n",
       "      <th>1</th>\n",
       "      <td>2000</td>\n",
       "      <td>2</td>\n",
       "      <td>-0.99</td>\n",
       "      <td>16280</td>\n",
       "      <td>375937</td>\n",
       "      <td>42604</td>\n",
       "      <td>52863</td>\n",
       "      <td>22310</td>\n",
       "      <td>33784</td>\n",
       "      <td>0</td>\n",
       "      <td>23492</td>\n",
       "      <td>27175</td>\n",
       "      <td>689177</td>\n",
       "      <td>145834</td>\n",
       "      <td>40674</td>\n",
       "      <td>84069</td>\n",
       "      <td>53950</td>\n",
       "      <td>87282</td>\n",
       "      <td>70910</td>\n",
       "    </tr>\n",
       "    <tr>\n",
       "      <th>2</th>\n",
       "      <td>2000</td>\n",
       "      <td>3</td>\n",
       "      <td>6.64</td>\n",
       "      <td>14105</td>\n",
       "      <td>323145</td>\n",
       "      <td>35990</td>\n",
       "      <td>47282</td>\n",
       "      <td>18033</td>\n",
       "      <td>29315</td>\n",
       "      <td>0</td>\n",
       "      <td>21156</td>\n",
       "      <td>22904</td>\n",
       "      <td>566528</td>\n",
       "      <td>121324</td>\n",
       "      <td>34610</td>\n",
       "      <td>76144</td>\n",
       "      <td>41898</td>\n",
       "      <td>74476</td>\n",
       "      <td>63627</td>\n",
       "    </tr>\n",
       "    <tr>\n",
       "      <th>3</th>\n",
       "      <td>2000</td>\n",
       "      <td>4</td>\n",
       "      <td>12.11</td>\n",
       "      <td>10364</td>\n",
       "      <td>237437</td>\n",
       "      <td>28698</td>\n",
       "      <td>40393</td>\n",
       "      <td>15920</td>\n",
       "      <td>19783</td>\n",
       "      <td>0</td>\n",
       "      <td>17447</td>\n",
       "      <td>16818</td>\n",
       "      <td>396231</td>\n",
       "      <td>91421</td>\n",
       "      <td>25898</td>\n",
       "      <td>62514</td>\n",
       "      <td>28618</td>\n",
       "      <td>58316</td>\n",
       "      <td>47106</td>\n",
       "    </tr>\n",
       "    <tr>\n",
       "      <th>4</th>\n",
       "      <td>2000</td>\n",
       "      <td>5</td>\n",
       "      <td>17.59</td>\n",
       "      <td>6843</td>\n",
       "      <td>169495</td>\n",
       "      <td>21073</td>\n",
       "      <td>35083</td>\n",
       "      <td>13808</td>\n",
       "      <td>14375</td>\n",
       "      <td>0</td>\n",
       "      <td>14508</td>\n",
       "      <td>12299</td>\n",
       "      <td>262940</td>\n",
       "      <td>67239</td>\n",
       "      <td>18426</td>\n",
       "      <td>46992</td>\n",
       "      <td>17503</td>\n",
       "      <td>45915</td>\n",
       "      <td>43749</td>\n",
       "    </tr>\n",
       "    <tr>\n",
       "      <th>...</th>\n",
       "      <td>...</td>\n",
       "      <td>...</td>\n",
       "      <td>...</td>\n",
       "      <td>...</td>\n",
       "      <td>...</td>\n",
       "      <td>...</td>\n",
       "      <td>...</td>\n",
       "      <td>...</td>\n",
       "      <td>...</td>\n",
       "      <td>...</td>\n",
       "      <td>...</td>\n",
       "      <td>...</td>\n",
       "      <td>...</td>\n",
       "      <td>...</td>\n",
       "      <td>...</td>\n",
       "      <td>...</td>\n",
       "      <td>...</td>\n",
       "      <td>...</td>\n",
       "      <td>...</td>\n",
       "    </tr>\n",
       "    <tr>\n",
       "      <th>247</th>\n",
       "      <td>2020</td>\n",
       "      <td>8</td>\n",
       "      <td>27.00</td>\n",
       "      <td>19076</td>\n",
       "      <td>255222</td>\n",
       "      <td>60523</td>\n",
       "      <td>84646</td>\n",
       "      <td>49039</td>\n",
       "      <td>43885</td>\n",
       "      <td>1506</td>\n",
       "      <td>70181</td>\n",
       "      <td>49460</td>\n",
       "      <td>163032</td>\n",
       "      <td>70646</td>\n",
       "      <td>27561</td>\n",
       "      <td>45058</td>\n",
       "      <td>31906</td>\n",
       "      <td>70508</td>\n",
       "      <td>94251</td>\n",
       "    </tr>\n",
       "    <tr>\n",
       "      <th>248</th>\n",
       "      <td>2020</td>\n",
       "      <td>9</td>\n",
       "      <td>21.40</td>\n",
       "      <td>18822</td>\n",
       "      <td>243817</td>\n",
       "      <td>65264</td>\n",
       "      <td>88652</td>\n",
       "      <td>54253</td>\n",
       "      <td>48190</td>\n",
       "      <td>1179</td>\n",
       "      <td>86971</td>\n",
       "      <td>53589</td>\n",
       "      <td>147556</td>\n",
       "      <td>72542</td>\n",
       "      <td>28120</td>\n",
       "      <td>43042</td>\n",
       "      <td>30307</td>\n",
       "      <td>70849</td>\n",
       "      <td>101433</td>\n",
       "    </tr>\n",
       "    <tr>\n",
       "      <th>249</th>\n",
       "      <td>2020</td>\n",
       "      <td>10</td>\n",
       "      <td>14.90</td>\n",
       "      <td>25946</td>\n",
       "      <td>339823</td>\n",
       "      <td>75071</td>\n",
       "      <td>103757</td>\n",
       "      <td>60416</td>\n",
       "      <td>61328</td>\n",
       "      <td>1414</td>\n",
       "      <td>109095</td>\n",
       "      <td>61315</td>\n",
       "      <td>213556</td>\n",
       "      <td>78654</td>\n",
       "      <td>39428</td>\n",
       "      <td>44555</td>\n",
       "      <td>42001</td>\n",
       "      <td>85283</td>\n",
       "      <td>119332</td>\n",
       "    </tr>\n",
       "    <tr>\n",
       "      <th>250</th>\n",
       "      <td>2020</td>\n",
       "      <td>11</td>\n",
       "      <td>9.00</td>\n",
       "      <td>35632</td>\n",
       "      <td>497221</td>\n",
       "      <td>101609</td>\n",
       "      <td>135432</td>\n",
       "      <td>68793</td>\n",
       "      <td>82360</td>\n",
       "      <td>2161</td>\n",
       "      <td>142556</td>\n",
       "      <td>82499</td>\n",
       "      <td>375289</td>\n",
       "      <td>115663</td>\n",
       "      <td>58120</td>\n",
       "      <td>67054</td>\n",
       "      <td>69624</td>\n",
       "      <td>122943</td>\n",
       "      <td>147792</td>\n",
       "    </tr>\n",
       "    <tr>\n",
       "      <th>251</th>\n",
       "      <td>2020</td>\n",
       "      <td>12</td>\n",
       "      <td>0.80</td>\n",
       "      <td>57301</td>\n",
       "      <td>742863</td>\n",
       "      <td>149527</td>\n",
       "      <td>183273</td>\n",
       "      <td>97863</td>\n",
       "      <td>113880</td>\n",
       "      <td>4220</td>\n",
       "      <td>198939</td>\n",
       "      <td>114597</td>\n",
       "      <td>636178</td>\n",
       "      <td>179536</td>\n",
       "      <td>94589</td>\n",
       "      <td>101139</td>\n",
       "      <td>110897</td>\n",
       "      <td>200163</td>\n",
       "      <td>221037</td>\n",
       "    </tr>\n",
       "  </tbody>\n",
       "</table>\n",
       "<p>252 rows × 19 columns</p>\n",
       "</div>"
      ],
      "text/plain": [
       "     Year  Month  Temperature  Gangwondo_Gas  Gyeonggido_Gas  \\\n",
       "0    2000      1        -1.20          16219          363014   \n",
       "1    2000      2        -0.99          16280          375937   \n",
       "2    2000      3         6.64          14105          323145   \n",
       "3    2000      4        12.11          10364          237437   \n",
       "4    2000      5        17.59           6843          169495   \n",
       "..    ...    ...          ...            ...             ...   \n",
       "247  2020      8        27.00          19076          255222   \n",
       "248  2020      9        21.40          18822          243817   \n",
       "249  2020     10        14.90          25946          339823   \n",
       "250  2020     11         9.00          35632          497221   \n",
       "251  2020     12         0.80          57301          742863   \n",
       "\n",
       "     Gyeongsangnamdo_Gas  Gyeongsangbukdo_Gas  Jeollanamdo_Gas  \\\n",
       "0                  42129                55362            22508   \n",
       "1                  42604                52863            22310   \n",
       "2                  35990                47282            18033   \n",
       "3                  28698                40393            15920   \n",
       "4                  21073                35083            13808   \n",
       "..                   ...                  ...              ...   \n",
       "247                60523                84646            49039   \n",
       "248                65264                88652            54253   \n",
       "249                75071               103757            60416   \n",
       "250               101609               135432            68793   \n",
       "251               149527               183273            97863   \n",
       "\n",
       "     Jeollabukdo_Gas  Jeju_Gas  Chungcheongnamdo_Gas  Chungcheongbukdo_Gas  \\\n",
       "0              34507         0                 20158                 27838   \n",
       "1              33784         0                 23492                 27175   \n",
       "2              29315         0                 21156                 22904   \n",
       "3              19783         0                 17447                 16818   \n",
       "4              14375         0                 14508                 12299   \n",
       "..               ...       ...                   ...                   ...   \n",
       "247            43885      1506                 70181                 49460   \n",
       "248            48190      1179                 86971                 53589   \n",
       "249            61328      1414                109095                 61315   \n",
       "250            82360      2161                142556                 82499   \n",
       "251           113880      4220                198939                114597   \n",
       "\n",
       "     Seoul_Gas  Incheon_Gas  Gwangju_Gas  Daegu_Gas  Daejeon_Gas  Busan_Gas  \\\n",
       "0       662424       139454        39465      86077        52992      85787   \n",
       "1       689177       145834        40674      84069        53950      87282   \n",
       "2       566528       121324        34610      76144        41898      74476   \n",
       "3       396231        91421        25898      62514        28618      58316   \n",
       "4       262940        67239        18426      46992        17503      45915   \n",
       "..         ...          ...          ...        ...          ...        ...   \n",
       "247     163032        70646        27561      45058        31906      70508   \n",
       "248     147556        72542        28120      43042        30307      70849   \n",
       "249     213556        78654        39428      44555        42001      85283   \n",
       "250     375289       115663        58120      67054        69624     122943   \n",
       "251     636178       179536        94589     101139       110897     200163   \n",
       "\n",
       "     Ulsan_Gas  \n",
       "0        69241  \n",
       "1        70910  \n",
       "2        63627  \n",
       "3        47106  \n",
       "4        43749  \n",
       "..         ...  \n",
       "247      94251  \n",
       "248     101433  \n",
       "249     119332  \n",
       "250     147792  \n",
       "251     221037  \n",
       "\n",
       "[252 rows x 19 columns]"
      ]
     },
     "execution_count": 3,
     "metadata": {},
     "output_type": "execute_result"
    }
   ],
   "source": [
    "# Electricity and Gas\n",
    "df = pd.read_excel('Data/Korea_Electricity_and_Gas.xlsx')\n",
    "\n",
    "# Gas\n",
    "locs = list(range(0,3)) + list(range(19,35))\n",
    "gas = df.iloc[:,locs]\n",
    "gas"
   ]
  },
  {
   "cell_type": "code",
   "execution_count": 4,
   "id": "3191f5b1",
   "metadata": {},
   "outputs": [
    {
     "data": {
      "text/plain": [
       "0     2000-01-01\n",
       "1     2000-02-01\n",
       "2     2000-03-01\n",
       "3     2000-04-01\n",
       "4     2000-05-01\n",
       "         ...    \n",
       "247   2020-08-01\n",
       "248   2020-09-01\n",
       "249   2020-10-01\n",
       "250   2020-11-01\n",
       "251   2020-12-01\n",
       "Name: DATE, Length: 252, dtype: datetime64[ns]"
      ]
     },
     "execution_count": 4,
     "metadata": {},
     "output_type": "execute_result"
    }
   ],
   "source": [
    "gas['DATE'] = pd.to_datetime(gas[['Year', 'Month']].assign(DAY=1))\n",
    "gas.DATE"
   ]
  },
  {
   "cell_type": "code",
   "execution_count": 5,
   "id": "a43615bb",
   "metadata": {},
   "outputs": [
    {
     "data": {
      "text/html": [
       "<div>\n",
       "<style scoped>\n",
       "    .dataframe tbody tr th:only-of-type {\n",
       "        vertical-align: middle;\n",
       "    }\n",
       "\n",
       "    .dataframe tbody tr th {\n",
       "        vertical-align: top;\n",
       "    }\n",
       "\n",
       "    .dataframe thead th {\n",
       "        text-align: right;\n",
       "    }\n",
       "</style>\n",
       "<table border=\"1\" class=\"dataframe\">\n",
       "  <thead>\n",
       "    <tr style=\"text-align: right;\">\n",
       "      <th></th>\n",
       "      <th>Year</th>\n",
       "      <th>Month</th>\n",
       "      <th>Overall</th>\n",
       "      <th>Gangwondo</th>\n",
       "      <th>Gyeonggido</th>\n",
       "      <th>Gyeongsamnamdo</th>\n",
       "      <th>Gyeongsambukdo</th>\n",
       "      <th>Jeollanamdo</th>\n",
       "      <th>Jeollabukdo</th>\n",
       "      <th>Jeju</th>\n",
       "      <th>Chungcheongnamdo</th>\n",
       "      <th>Chungcheongbukdo</th>\n",
       "      <th>Seoul</th>\n",
       "      <th>Incheon</th>\n",
       "      <th>Gwangju</th>\n",
       "      <th>Daegu</th>\n",
       "      <th>Daejeon</th>\n",
       "      <th>Busan</th>\n",
       "      <th>Ulsan</th>\n",
       "    </tr>\n",
       "  </thead>\n",
       "  <tbody>\n",
       "    <tr>\n",
       "      <th>0</th>\n",
       "      <td>2000</td>\n",
       "      <td>1</td>\n",
       "      <td>-1.20</td>\n",
       "      <td>-3.0</td>\n",
       "      <td>-2.1</td>\n",
       "      <td>3.3</td>\n",
       "      <td>2.7</td>\n",
       "      <td>1.0</td>\n",
       "      <td>0.8</td>\n",
       "      <td>6</td>\n",
       "      <td>-</td>\n",
       "      <td>-1.2</td>\n",
       "      <td>-2.1</td>\n",
       "      <td>-1.5</td>\n",
       "      <td>1.0</td>\n",
       "      <td>1.1</td>\n",
       "      <td>-1.2</td>\n",
       "      <td>4.2</td>\n",
       "      <td>3.1</td>\n",
       "    </tr>\n",
       "    <tr>\n",
       "      <th>1</th>\n",
       "      <td>2000</td>\n",
       "      <td>2</td>\n",
       "      <td>-0.99</td>\n",
       "      <td>-3.2</td>\n",
       "      <td>-1.7</td>\n",
       "      <td>3.0</td>\n",
       "      <td>2.3</td>\n",
       "      <td>0.6</td>\n",
       "      <td>0.2</td>\n",
       "      <td>4.6</td>\n",
       "      <td>-</td>\n",
       "      <td>-1.6</td>\n",
       "      <td>-1.7</td>\n",
       "      <td>-1.2</td>\n",
       "      <td>0.6</td>\n",
       "      <td>1.3</td>\n",
       "      <td>-1.1</td>\n",
       "      <td>3.2</td>\n",
       "      <td>2.7</td>\n",
       "    </tr>\n",
       "    <tr>\n",
       "      <th>2</th>\n",
       "      <td>2000</td>\n",
       "      <td>3</td>\n",
       "      <td>6.64</td>\n",
       "      <td>4.9</td>\n",
       "      <td>6.3</td>\n",
       "      <td>8.9</td>\n",
       "      <td>8.9</td>\n",
       "      <td>6.9</td>\n",
       "      <td>6.9</td>\n",
       "      <td>9.4</td>\n",
       "      <td>-</td>\n",
       "      <td>5.7</td>\n",
       "      <td>6.3</td>\n",
       "      <td>6.0</td>\n",
       "      <td>6.9</td>\n",
       "      <td>7.9</td>\n",
       "      <td>6.1</td>\n",
       "      <td>9.1</td>\n",
       "      <td>8.7</td>\n",
       "    </tr>\n",
       "    <tr>\n",
       "      <th>3</th>\n",
       "      <td>2000</td>\n",
       "      <td>4</td>\n",
       "      <td>12.11</td>\n",
       "      <td>10.8</td>\n",
       "      <td>11.9</td>\n",
       "      <td>13.4</td>\n",
       "      <td>13.9</td>\n",
       "      <td>12.6</td>\n",
       "      <td>12.8</td>\n",
       "      <td>13.5</td>\n",
       "      <td>-</td>\n",
       "      <td>11.5</td>\n",
       "      <td>11.9</td>\n",
       "      <td>11.5</td>\n",
       "      <td>12.6</td>\n",
       "      <td>13.0</td>\n",
       "      <td>11.9</td>\n",
       "      <td>13.2</td>\n",
       "      <td>13.6</td>\n",
       "    </tr>\n",
       "    <tr>\n",
       "      <th>4</th>\n",
       "      <td>2000</td>\n",
       "      <td>5</td>\n",
       "      <td>17.59</td>\n",
       "      <td>16.7</td>\n",
       "      <td>17.5</td>\n",
       "      <td>17.9</td>\n",
       "      <td>18.7</td>\n",
       "      <td>17.8</td>\n",
       "      <td>18.2</td>\n",
       "      <td>17.2</td>\n",
       "      <td>-</td>\n",
       "      <td>17.2</td>\n",
       "      <td>17.5</td>\n",
       "      <td>16.5</td>\n",
       "      <td>17.8</td>\n",
       "      <td>19.5</td>\n",
       "      <td>17.2</td>\n",
       "      <td>17.3</td>\n",
       "      <td>18.1</td>\n",
       "    </tr>\n",
       "    <tr>\n",
       "      <th>...</th>\n",
       "      <td>...</td>\n",
       "      <td>...</td>\n",
       "      <td>...</td>\n",
       "      <td>...</td>\n",
       "      <td>...</td>\n",
       "      <td>...</td>\n",
       "      <td>...</td>\n",
       "      <td>...</td>\n",
       "      <td>...</td>\n",
       "      <td>...</td>\n",
       "      <td>...</td>\n",
       "      <td>...</td>\n",
       "      <td>...</td>\n",
       "      <td>...</td>\n",
       "      <td>...</td>\n",
       "      <td>...</td>\n",
       "      <td>...</td>\n",
       "      <td>...</td>\n",
       "      <td>...</td>\n",
       "    </tr>\n",
       "    <tr>\n",
       "      <th>247</th>\n",
       "      <td>2020</td>\n",
       "      <td>8</td>\n",
       "      <td>27.00</td>\n",
       "      <td>26.1</td>\n",
       "      <td>26.5</td>\n",
       "      <td>27.5</td>\n",
       "      <td>28.6</td>\n",
       "      <td>27.6</td>\n",
       "      <td>27.7</td>\n",
       "      <td>29.4</td>\n",
       "      <td>26.8</td>\n",
       "      <td>27.7</td>\n",
       "      <td>26.5</td>\n",
       "      <td>25.9</td>\n",
       "      <td>27.6</td>\n",
       "      <td>28.6</td>\n",
       "      <td>27.5</td>\n",
       "      <td>27.2</td>\n",
       "      <td>27.6</td>\n",
       "    </tr>\n",
       "    <tr>\n",
       "      <th>248</th>\n",
       "      <td>2020</td>\n",
       "      <td>9</td>\n",
       "      <td>21.40</td>\n",
       "      <td>19.7</td>\n",
       "      <td>21.4</td>\n",
       "      <td>21.5</td>\n",
       "      <td>21.6</td>\n",
       "      <td>21.3</td>\n",
       "      <td>21.3</td>\n",
       "      <td>22.9</td>\n",
       "      <td>20.7</td>\n",
       "      <td>21.5</td>\n",
       "      <td>21.4</td>\n",
       "      <td>21.3</td>\n",
       "      <td>21.3</td>\n",
       "      <td>21.2</td>\n",
       "      <td>21.2</td>\n",
       "      <td>21.9</td>\n",
       "      <td>21.1</td>\n",
       "    </tr>\n",
       "    <tr>\n",
       "      <th>249</th>\n",
       "      <td>2020</td>\n",
       "      <td>10</td>\n",
       "      <td>14.90</td>\n",
       "      <td>11.9</td>\n",
       "      <td>14.3</td>\n",
       "      <td>16.0</td>\n",
       "      <td>16.4</td>\n",
       "      <td>15.7</td>\n",
       "      <td>14.9</td>\n",
       "      <td>18.4</td>\n",
       "      <td>13.2</td>\n",
       "      <td>14.5</td>\n",
       "      <td>14.3</td>\n",
       "      <td>14.8</td>\n",
       "      <td>15.7</td>\n",
       "      <td>15.4</td>\n",
       "      <td>14.2</td>\n",
       "      <td>17.3</td>\n",
       "      <td>15.9</td>\n",
       "    </tr>\n",
       "    <tr>\n",
       "      <th>250</th>\n",
       "      <td>2020</td>\n",
       "      <td>11</td>\n",
       "      <td>9.00</td>\n",
       "      <td>6.1</td>\n",
       "      <td>8.0</td>\n",
       "      <td>10.7</td>\n",
       "      <td>11.3</td>\n",
       "      <td>10.5</td>\n",
       "      <td>9.6</td>\n",
       "      <td>14.1</td>\n",
       "      <td>8.1</td>\n",
       "      <td>8.8</td>\n",
       "      <td>8.0</td>\n",
       "      <td>8.3</td>\n",
       "      <td>10.5</td>\n",
       "      <td>9.7</td>\n",
       "      <td>8.6</td>\n",
       "      <td>12.4</td>\n",
       "      <td>11.0</td>\n",
       "    </tr>\n",
       "    <tr>\n",
       "      <th>251</th>\n",
       "      <td>2020</td>\n",
       "      <td>12</td>\n",
       "      <td>0.80</td>\n",
       "      <td>-2.7</td>\n",
       "      <td>-0.3</td>\n",
       "      <td>2.6</td>\n",
       "      <td>3.3</td>\n",
       "      <td>2.7</td>\n",
       "      <td>1.7</td>\n",
       "      <td>7.7</td>\n",
       "      <td>0.3</td>\n",
       "      <td>0.4</td>\n",
       "      <td>-0.3</td>\n",
       "      <td>0.2</td>\n",
       "      <td>2.7</td>\n",
       "      <td>1.6</td>\n",
       "      <td>0.5</td>\n",
       "      <td>4.3</td>\n",
       "      <td>3.4</td>\n",
       "    </tr>\n",
       "  </tbody>\n",
       "</table>\n",
       "<p>252 rows × 19 columns</p>\n",
       "</div>"
      ],
      "text/plain": [
       "     Year  Month  Overall  Gangwondo  Gyeonggido  Gyeongsamnamdo  \\\n",
       "0    2000      1    -1.20       -3.0        -2.1             3.3   \n",
       "1    2000      2    -0.99       -3.2        -1.7             3.0   \n",
       "2    2000      3     6.64        4.9         6.3             8.9   \n",
       "3    2000      4    12.11       10.8        11.9            13.4   \n",
       "4    2000      5    17.59       16.7        17.5            17.9   \n",
       "..    ...    ...      ...        ...         ...             ...   \n",
       "247  2020      8    27.00       26.1        26.5            27.5   \n",
       "248  2020      9    21.40       19.7        21.4            21.5   \n",
       "249  2020     10    14.90       11.9        14.3            16.0   \n",
       "250  2020     11     9.00        6.1         8.0            10.7   \n",
       "251  2020     12     0.80       -2.7        -0.3             2.6   \n",
       "\n",
       "     Gyeongsambukdo  Jeollanamdo  Jeollabukdo  Jeju Chungcheongnamdo  \\\n",
       "0               2.7          1.0          0.8     6                -   \n",
       "1               2.3          0.6          0.2   4.6                -   \n",
       "2               8.9          6.9          6.9   9.4                -   \n",
       "3              13.9         12.6         12.8  13.5                -   \n",
       "4              18.7         17.8         18.2  17.2                -   \n",
       "..              ...          ...          ...   ...              ...   \n",
       "247            28.6         27.6         27.7  29.4             26.8   \n",
       "248            21.6         21.3         21.3  22.9             20.7   \n",
       "249            16.4         15.7         14.9  18.4             13.2   \n",
       "250            11.3         10.5          9.6  14.1              8.1   \n",
       "251             3.3          2.7          1.7   7.7              0.3   \n",
       "\n",
       "     Chungcheongbukdo  Seoul  Incheon  Gwangju  Daegu  Daejeon  Busan  Ulsan  \n",
       "0                -1.2   -2.1     -1.5      1.0    1.1     -1.2    4.2    3.1  \n",
       "1                -1.6   -1.7     -1.2      0.6    1.3     -1.1    3.2    2.7  \n",
       "2                 5.7    6.3      6.0      6.9    7.9      6.1    9.1    8.7  \n",
       "3                11.5   11.9     11.5     12.6   13.0     11.9   13.2   13.6  \n",
       "4                17.2   17.5     16.5     17.8   19.5     17.2   17.3   18.1  \n",
       "..                ...    ...      ...      ...    ...      ...    ...    ...  \n",
       "247              27.7   26.5     25.9     27.6   28.6     27.5   27.2   27.6  \n",
       "248              21.5   21.4     21.3     21.3   21.2     21.2   21.9   21.1  \n",
       "249              14.5   14.3     14.8     15.7   15.4     14.2   17.3   15.9  \n",
       "250               8.8    8.0      8.3     10.5    9.7      8.6   12.4   11.0  \n",
       "251               0.4   -0.3      0.2      2.7    1.6      0.5    4.3    3.4  \n",
       "\n",
       "[252 rows x 19 columns]"
      ]
     },
     "execution_count": 5,
     "metadata": {},
     "output_type": "execute_result"
    }
   ],
   "source": [
    "# Weather (Temperature)\n",
    "weather = pd.read_excel('Data/Weather.xlsx')\n",
    "weather"
   ]
  },
  {
   "cell_type": "markdown",
   "id": "2406905f",
   "metadata": {},
   "source": [
    "Note that there are missing values in the 'Chungcheongnamdo' column of the temperature data. However, the two dataframes are the same size 252 rows x 19 columns (with an additional DATE row added to the gas dataframe)."
   ]
  },
  {
   "cell_type": "markdown",
   "id": "eb5bebbf",
   "metadata": {},
   "source": [
    "### Dealing with missing values"
   ]
  },
  {
   "cell_type": "markdown",
   "id": "7bb07af7",
   "metadata": {},
   "source": [
    "In the gas dataset, the 'Jeju' column has many 0 values, which aren't necessarily expected, but could just be a replacement for unknown values. We will leave it for now."
   ]
  },
  {
   "cell_type": "code",
   "execution_count": 6,
   "id": "a661cb2a",
   "metadata": {},
   "outputs": [
    {
     "data": {
      "text/plain": [
       "Year                    0\n",
       "Month                   0\n",
       "Temperature             0\n",
       "Gangwondo_Gas           0\n",
       "Gyeonggido_Gas          0\n",
       "Gyeongsangnamdo_Gas     0\n",
       "Gyeongsangbukdo_Gas     0\n",
       "Jeollanamdo_Gas         0\n",
       "Jeollabukdo_Gas         0\n",
       "Jeju_Gas                0\n",
       "Chungcheongnamdo_Gas    0\n",
       "Chungcheongbukdo_Gas    0\n",
       "Seoul_Gas               0\n",
       "Incheon_Gas             0\n",
       "Gwangju_Gas             0\n",
       "Daegu_Gas               0\n",
       "Daejeon_Gas             0\n",
       "Busan_Gas               0\n",
       "Ulsan_Gas               0\n",
       "DATE                    0\n",
       "dtype: int64"
      ]
     },
     "execution_count": 6,
     "metadata": {},
     "output_type": "execute_result"
    }
   ],
   "source": [
    "gas.isnull().sum()"
   ]
  },
  {
   "cell_type": "markdown",
   "id": "9c436667",
   "metadata": {},
   "source": [
    "On the other hand, the weather dataframe has several '-' values, used to represent unknown data as well! Let's see the scale of unknown values."
   ]
  },
  {
   "cell_type": "code",
   "execution_count": 7,
   "id": "a6c9d5b4",
   "metadata": {},
   "outputs": [
    {
     "data": {
      "text/plain": [
       "Year                  0\n",
       "Month                 0\n",
       "Overall               0\n",
       "Gangwondo             0\n",
       "Gyeonggido            0\n",
       "Gyeongsamnamdo        0\n",
       "Gyeongsambukdo        0\n",
       "Jeollanamdo           0\n",
       "Jeollabukdo           0\n",
       "Jeju                  2\n",
       "Chungcheongnamdo    204\n",
       "Chungcheongbukdo      0\n",
       "Seoul                 0\n",
       "Incheon               0\n",
       "Gwangju               0\n",
       "Daegu                 0\n",
       "Daejeon               0\n",
       "Busan                 0\n",
       "Ulsan                 0\n",
       "dtype: int64"
      ]
     },
     "execution_count": 7,
     "metadata": {},
     "output_type": "execute_result"
    }
   ],
   "source": [
    "(weather == '-').sum()"
   ]
  },
  {
   "cell_type": "markdown",
   "id": "e87c0127",
   "metadata": {},
   "source": [
    "Here, we can see that there are 204 unknown values in the 'Chungcheongnamdo' column (out of 252 rows). There is <b>too much missing data here</b>, so for now we will just <b>remove the province</b> from our considerations. There are also 2 unknown values for 'Jeju', but since they are so few, we can just use an *average temperature to replace these values*."
   ]
  },
  {
   "cell_type": "code",
   "execution_count": 8,
   "id": "c83fe55b",
   "metadata": {},
   "outputs": [],
   "source": [
    "# Remove the Chungcheongnamdo column from both dataframes\n",
    "weather = weather.drop(columns='Chungcheongnamdo')\n",
    "gas = gas.drop(columns='Chungcheongnamdo_Gas')"
   ]
  },
  {
   "cell_type": "code",
   "execution_count": 9,
   "id": "6cf65ab9",
   "metadata": {
    "scrolled": true
   },
   "outputs": [
    {
     "data": {
      "text/html": [
       "<div>\n",
       "<style scoped>\n",
       "    .dataframe tbody tr th:only-of-type {\n",
       "        vertical-align: middle;\n",
       "    }\n",
       "\n",
       "    .dataframe tbody tr th {\n",
       "        vertical-align: top;\n",
       "    }\n",
       "\n",
       "    .dataframe thead th {\n",
       "        text-align: right;\n",
       "    }\n",
       "</style>\n",
       "<table border=\"1\" class=\"dataframe\">\n",
       "  <thead>\n",
       "    <tr style=\"text-align: right;\">\n",
       "      <th></th>\n",
       "      <th>Year</th>\n",
       "      <th>Month</th>\n",
       "      <th>Overall</th>\n",
       "      <th>Gangwondo</th>\n",
       "      <th>Gyeonggido</th>\n",
       "      <th>Gyeongsamnamdo</th>\n",
       "      <th>Gyeongsambukdo</th>\n",
       "      <th>Jeollanamdo</th>\n",
       "      <th>Jeollabukdo</th>\n",
       "      <th>Jeju</th>\n",
       "      <th>Chungcheongbukdo</th>\n",
       "      <th>Seoul</th>\n",
       "      <th>Incheon</th>\n",
       "      <th>Gwangju</th>\n",
       "      <th>Daegu</th>\n",
       "      <th>Daejeon</th>\n",
       "      <th>Busan</th>\n",
       "      <th>Ulsan</th>\n",
       "    </tr>\n",
       "  </thead>\n",
       "  <tbody>\n",
       "    <tr>\n",
       "      <th>204</th>\n",
       "      <td>2017</td>\n",
       "      <td>1</td>\n",
       "      <td>-0.35</td>\n",
       "      <td>-3.0</td>\n",
       "      <td>-1.8</td>\n",
       "      <td>2.6</td>\n",
       "      <td>2.9</td>\n",
       "      <td>2.0</td>\n",
       "      <td>0.8</td>\n",
       "      <td>-</td>\n",
       "      <td>-0.8</td>\n",
       "      <td>-1.8</td>\n",
       "      <td>-0.9</td>\n",
       "      <td>2.0</td>\n",
       "      <td>1.1</td>\n",
       "      <td>-0.4</td>\n",
       "      <td>4.1</td>\n",
       "      <td>2.8</td>\n",
       "    </tr>\n",
       "    <tr>\n",
       "      <th>213</th>\n",
       "      <td>2017</td>\n",
       "      <td>10</td>\n",
       "      <td>16.57</td>\n",
       "      <td>13.9</td>\n",
       "      <td>16.4</td>\n",
       "      <td>17.5</td>\n",
       "      <td>17.5</td>\n",
       "      <td>17.0</td>\n",
       "      <td>16.0</td>\n",
       "      <td>-</td>\n",
       "      <td>15.9</td>\n",
       "      <td>16.4</td>\n",
       "      <td>15.7</td>\n",
       "      <td>17.0</td>\n",
       "      <td>16.2</td>\n",
       "      <td>15.4</td>\n",
       "      <td>18.1</td>\n",
       "      <td>17.0</td>\n",
       "    </tr>\n",
       "  </tbody>\n",
       "</table>\n",
       "</div>"
      ],
      "text/plain": [
       "     Year  Month  Overall  Gangwondo  Gyeonggido  Gyeongsamnamdo  \\\n",
       "204  2017      1    -0.35       -3.0        -1.8             2.6   \n",
       "213  2017     10    16.57       13.9        16.4            17.5   \n",
       "\n",
       "     Gyeongsambukdo  Jeollanamdo  Jeollabukdo Jeju  Chungcheongbukdo  Seoul  \\\n",
       "204             2.9          2.0          0.8    -              -0.8   -1.8   \n",
       "213            17.5         17.0         16.0    -              15.9   16.4   \n",
       "\n",
       "     Incheon  Gwangju  Daegu  Daejeon  Busan  Ulsan  \n",
       "204     -0.9      2.0    1.1     -0.4    4.1    2.8  \n",
       "213     15.7     17.0   16.2     15.4   18.1   17.0  "
      ]
     },
     "execution_count": 9,
     "metadata": {},
     "output_type": "execute_result"
    }
   ],
   "source": [
    "weather[weather.Jeju == '-']"
   ]
  },
  {
   "cell_type": "markdown",
   "id": "82531779",
   "metadata": {},
   "source": [
    "We can see here that the two missing values in 'Jeju' are from January and October of 2017. We'll replace these values with the average temperature in Jeju for these months."
   ]
  },
  {
   "cell_type": "code",
   "execution_count": 10,
   "id": "49e5ea5a",
   "metadata": {},
   "outputs": [
    {
     "name": "stdout",
     "output_type": "stream",
     "text": [
      "6.03 18.72\n"
     ]
    }
   ],
   "source": [
    "# Create replacement value for January and October\n",
    "january = weather[weather.Month == 1]\n",
    "jeju_january = january['Jeju'].drop(index=204)\n",
    "jeju_january_replace = jeju_january.mean()\n",
    "\n",
    "october = weather[weather.Month == 10]\n",
    "jeju_october = october['Jeju'].drop(index=213)\n",
    "jeju_october_replace = jeju_october.mean().round(2)\n",
    "\n",
    "print(jeju_january_replace, jeju_october_replace)"
   ]
  },
  {
   "cell_type": "code",
   "execution_count": 11,
   "id": "cb5f11dc",
   "metadata": {
    "scrolled": false
   },
   "outputs": [
    {
     "data": {
      "text/plain": [
       "Year                0\n",
       "Month               0\n",
       "Overall             0\n",
       "Gangwondo           0\n",
       "Gyeonggido          0\n",
       "Gyeongsamnamdo      0\n",
       "Gyeongsambukdo      0\n",
       "Jeollanamdo         0\n",
       "Jeollabukdo         0\n",
       "Jeju                0\n",
       "Chungcheongbukdo    0\n",
       "Seoul               0\n",
       "Incheon             0\n",
       "Gwangju             0\n",
       "Daegu               0\n",
       "Daejeon             0\n",
       "Busan               0\n",
       "Ulsan               0\n",
       "dtype: int64"
      ]
     },
     "execution_count": 11,
     "metadata": {},
     "output_type": "execute_result"
    }
   ],
   "source": [
    "# Replace:\n",
    "weather.loc[204,'Jeju']=jeju_january_replace\n",
    "weather.loc[213,'Jeju']=jeju_october_replace\n",
    "(weather == '-').sum()"
   ]
  },
  {
   "cell_type": "markdown",
   "id": "31c5d782",
   "metadata": {},
   "source": [
    "### Normalize Data\n",
    "Let's define a function to normalize the varying data (temperature, gas output, pollutant presence, etc). We will be using this for each region eventually, so it will be useful to have."
   ]
  },
  {
   "cell_type": "code",
   "execution_count": 12,
   "id": "cc409a49",
   "metadata": {},
   "outputs": [],
   "source": [
    "def normalize(df):\n",
    "    for column in df.columns:\n",
    "        df[column] = (df[column] - df[column].min()) / (df[column].max() - df[column].min()) \n",
    "    return df"
   ]
  },
  {
   "cell_type": "markdown",
   "id": "587bba1c",
   "metadata": {},
   "source": [
    "And we use this function to normalize values in our dataframes. This will let us see the impact and error in a more understandable way. We can also later compare the error of using this feature in Linear Regression to later error."
   ]
  },
  {
   "cell_type": "code",
   "execution_count": 13,
   "id": "df638fad",
   "metadata": {},
   "outputs": [],
   "source": [
    "weather_norm = normalize(weather)\n",
    "gas_norm = normalize(gas)"
   ]
  },
  {
   "cell_type": "markdown",
   "id": "4d15a4fe",
   "metadata": {},
   "source": [
    "### Split data to test and training sets\n",
    "Split data into training and testing data, with an 80/20 split. Since we have multiple provinces and cities, we can separately train models for each. However, let's first try to train a model using only the 'Gyeonggido' province data."
   ]
  },
  {
   "cell_type": "code",
   "execution_count": 14,
   "id": "b9215a24",
   "metadata": {},
   "outputs": [],
   "source": [
    "X_train, X_test, y_train, y_test = train_test_split(weather_norm.Gyeonggido, gas_norm.Gyeonggido_Gas, test_size=0.3)"
   ]
  },
  {
   "cell_type": "code",
   "execution_count": 15,
   "id": "bed30718",
   "metadata": {
    "scrolled": true
   },
   "outputs": [
    {
     "name": "stdout",
     "output_type": "stream",
     "text": [
      "(176,) (176,)\n"
     ]
    },
    {
     "data": {
      "text/plain": [
       "9      0.613889\n",
       "221    0.841667\n",
       "214    0.355556\n",
       "222    0.972222\n",
       "25     0.280556\n",
       "Name: Gyeonggido, dtype: float64"
      ]
     },
     "execution_count": 15,
     "metadata": {},
     "output_type": "execute_result"
    }
   ],
   "source": [
    "print(X_train.shape, y_train.shape)\n",
    "X_train.head()"
   ]
  },
  {
   "cell_type": "markdown",
   "id": "1b4bfe36",
   "metadata": {},
   "source": [
    "### Deploying and evaluating Ordinary Least Squares Linear Regression Model"
   ]
  },
  {
   "cell_type": "code",
   "execution_count": 16,
   "id": "8aef9e52",
   "metadata": {},
   "outputs": [
    {
     "data": {
      "text/html": [
       "<style>#sk-container-id-1 {color: black;background-color: white;}#sk-container-id-1 pre{padding: 0;}#sk-container-id-1 div.sk-toggleable {background-color: white;}#sk-container-id-1 label.sk-toggleable__label {cursor: pointer;display: block;width: 100%;margin-bottom: 0;padding: 0.3em;box-sizing: border-box;text-align: center;}#sk-container-id-1 label.sk-toggleable__label-arrow:before {content: \"▸\";float: left;margin-right: 0.25em;color: #696969;}#sk-container-id-1 label.sk-toggleable__label-arrow:hover:before {color: black;}#sk-container-id-1 div.sk-estimator:hover label.sk-toggleable__label-arrow:before {color: black;}#sk-container-id-1 div.sk-toggleable__content {max-height: 0;max-width: 0;overflow: hidden;text-align: left;background-color: #f0f8ff;}#sk-container-id-1 div.sk-toggleable__content pre {margin: 0.2em;color: black;border-radius: 0.25em;background-color: #f0f8ff;}#sk-container-id-1 input.sk-toggleable__control:checked~div.sk-toggleable__content {max-height: 200px;max-width: 100%;overflow: auto;}#sk-container-id-1 input.sk-toggleable__control:checked~label.sk-toggleable__label-arrow:before {content: \"▾\";}#sk-container-id-1 div.sk-estimator input.sk-toggleable__control:checked~label.sk-toggleable__label {background-color: #d4ebff;}#sk-container-id-1 div.sk-label input.sk-toggleable__control:checked~label.sk-toggleable__label {background-color: #d4ebff;}#sk-container-id-1 input.sk-hidden--visually {border: 0;clip: rect(1px 1px 1px 1px);clip: rect(1px, 1px, 1px, 1px);height: 1px;margin: -1px;overflow: hidden;padding: 0;position: absolute;width: 1px;}#sk-container-id-1 div.sk-estimator {font-family: monospace;background-color: #f0f8ff;border: 1px dotted black;border-radius: 0.25em;box-sizing: border-box;margin-bottom: 0.5em;}#sk-container-id-1 div.sk-estimator:hover {background-color: #d4ebff;}#sk-container-id-1 div.sk-parallel-item::after {content: \"\";width: 100%;border-bottom: 1px solid gray;flex-grow: 1;}#sk-container-id-1 div.sk-label:hover label.sk-toggleable__label {background-color: #d4ebff;}#sk-container-id-1 div.sk-serial::before {content: \"\";position: absolute;border-left: 1px solid gray;box-sizing: border-box;top: 0;bottom: 0;left: 50%;z-index: 0;}#sk-container-id-1 div.sk-serial {display: flex;flex-direction: column;align-items: center;background-color: white;padding-right: 0.2em;padding-left: 0.2em;position: relative;}#sk-container-id-1 div.sk-item {position: relative;z-index: 1;}#sk-container-id-1 div.sk-parallel {display: flex;align-items: stretch;justify-content: center;background-color: white;position: relative;}#sk-container-id-1 div.sk-item::before, #sk-container-id-1 div.sk-parallel-item::before {content: \"\";position: absolute;border-left: 1px solid gray;box-sizing: border-box;top: 0;bottom: 0;left: 50%;z-index: -1;}#sk-container-id-1 div.sk-parallel-item {display: flex;flex-direction: column;z-index: 1;position: relative;background-color: white;}#sk-container-id-1 div.sk-parallel-item:first-child::after {align-self: flex-end;width: 50%;}#sk-container-id-1 div.sk-parallel-item:last-child::after {align-self: flex-start;width: 50%;}#sk-container-id-1 div.sk-parallel-item:only-child::after {width: 0;}#sk-container-id-1 div.sk-dashed-wrapped {border: 1px dashed gray;margin: 0 0.4em 0.5em 0.4em;box-sizing: border-box;padding-bottom: 0.4em;background-color: white;}#sk-container-id-1 div.sk-label label {font-family: monospace;font-weight: bold;display: inline-block;line-height: 1.2em;}#sk-container-id-1 div.sk-label-container {text-align: center;}#sk-container-id-1 div.sk-container {/* jupyter's `normalize.less` sets `[hidden] { display: none; }` but bootstrap.min.css set `[hidden] { display: none !important; }` so we also need the `!important` here to be able to override the default hidden behavior on the sphinx rendered scikit-learn.org. See: https://github.com/scikit-learn/scikit-learn/issues/21755 */display: inline-block !important;position: relative;}#sk-container-id-1 div.sk-text-repr-fallback {display: none;}</style><div id=\"sk-container-id-1\" class=\"sk-top-container\"><div class=\"sk-text-repr-fallback\"><pre>LinearRegression()</pre><b>In a Jupyter environment, please rerun this cell to show the HTML representation or trust the notebook. <br />On GitHub, the HTML representation is unable to render, please try loading this page with nbviewer.org.</b></div><div class=\"sk-container\" hidden><div class=\"sk-item\"><div class=\"sk-estimator sk-toggleable\"><input class=\"sk-toggleable__control sk-hidden--visually\" id=\"sk-estimator-id-1\" type=\"checkbox\" checked><label for=\"sk-estimator-id-1\" class=\"sk-toggleable__label sk-toggleable__label-arrow\">LinearRegression</label><div class=\"sk-toggleable__content\"><pre>LinearRegression()</pre></div></div></div></div></div>"
      ],
      "text/plain": [
       "LinearRegression()"
      ]
     },
     "execution_count": 16,
     "metadata": {},
     "output_type": "execute_result"
    }
   ],
   "source": [
    "linReg = LinearRegression()\n",
    "linReg.fit(X_train.array.reshape(-1,1), y_train)"
   ]
  },
  {
   "cell_type": "code",
   "execution_count": 17,
   "id": "21aba99b",
   "metadata": {
    "scrolled": true
   },
   "outputs": [
    {
     "name": "stdout",
     "output_type": "stream",
     "text": [
      "0.7790405382759407 [-0.75511372]\n"
     ]
    }
   ],
   "source": [
    "y_pred = linReg.predict(X_test.array.reshape(-1,1))\n",
    "print(linReg.intercept_, linReg.coef_)"
   ]
  },
  {
   "cell_type": "code",
   "execution_count": 18,
   "id": "ad6972eb",
   "metadata": {},
   "outputs": [
    {
     "name": "stdout",
     "output_type": "stream",
     "text": [
      "R-Squared value for the model:  0.804\n"
     ]
    }
   ],
   "source": [
    "rss = np.sum((y_test - y_pred)**2)\n",
    "ess = np.sum((y_pred - np.mean(y_test))**2)\n",
    "r2 = (ess/(ess + rss)).round(3)\n",
    "print('R-Squared value for the model: ', r2)"
   ]
  },
  {
   "cell_type": "code",
   "execution_count": 19,
   "id": "8fba95d5",
   "metadata": {},
   "outputs": [
    {
     "name": "stdout",
     "output_type": "stream",
     "text": [
      "F-stat value for the model:  1025.5\n"
     ]
    }
   ],
   "source": [
    "fstat = ((r2/(1-r2))*250).round(1)\n",
    "print('F-stat value for the model: ', fstat)"
   ]
  },
  {
   "cell_type": "code",
   "execution_count": 20,
   "id": "719a15f8",
   "metadata": {},
   "outputs": [
    {
     "name": "stdout",
     "output_type": "stream",
     "text": [
      "RMS Error:  0.10254005226686325\n"
     ]
    }
   ],
   "source": [
    "print(\"RMS Error: \", np.sqrt(metrics.mean_squared_error(y_test, y_pred)))"
   ]
  },
  {
   "cell_type": "code",
   "execution_count": 21,
   "id": "0bed3886",
   "metadata": {},
   "outputs": [],
   "source": [
    "import statsmodels.formula.api as smf"
   ]
  },
  {
   "cell_type": "code",
   "execution_count": 22,
   "id": "3c025420",
   "metadata": {
    "scrolled": false
   },
   "outputs": [
    {
     "name": "stdout",
     "output_type": "stream",
     "text": [
      "                            OLS Regression Results                            \n",
      "==============================================================================\n",
      "Dep. Variable:            Temperature   R-squared:                       0.772\n",
      "Model:                            OLS   Adj. R-squared:                  0.771\n",
      "Method:                 Least Squares   F-statistic:                     847.9\n",
      "Date:                Sun, 02 Jul 2023   Prob (F-statistic):           2.71e-82\n",
      "Time:                        22:32:24   Log-Likelihood:                 151.81\n",
      "No. Observations:                 252   AIC:                            -299.6\n",
      "Df Residuals:                     250   BIC:                            -292.6\n",
      "Df Model:                           1                                         \n",
      "Covariance Type:            nonrobust                                         \n",
      "==================================================================================\n",
      "                     coef    std err          t      P>|t|      [0.025      0.975]\n",
      "----------------------------------------------------------------------------------\n",
      "Intercept          0.9129      0.015     61.611      0.000       0.884       0.942\n",
      "Gyeonggido_Gas    -1.0013      0.034    -29.118      0.000      -1.069      -0.934\n",
      "==============================================================================\n",
      "Omnibus:                       24.191   Durbin-Watson:                   0.337\n",
      "Prob(Omnibus):                  0.000   Jarque-Bera (JB):               29.120\n",
      "Skew:                          -0.722   Prob(JB):                     4.75e-07\n",
      "Kurtosis:                       3.830   Cond. No.                         4.65\n",
      "==============================================================================\n",
      "\n",
      "Notes:\n",
      "[1] Standard Errors assume that the covariance matrix of the errors is correctly specified.\n"
     ]
    }
   ],
   "source": [
    "smlin = smf.ols(formula='Temperature ~ Gyeonggido_Gas', data=gas).fit()\n",
    "smlin.params\n",
    "print(smlin.summary())"
   ]
  },
  {
   "cell_type": "code",
   "execution_count": 23,
   "id": "0ec676d5",
   "metadata": {},
   "outputs": [
    {
     "data": {
      "image/png": "[encoded data removed]",
      "text/plain": [
       "<Figure size 640x480 with 1 Axes>"
      ]
     },
     "metadata": {},
     "output_type": "display_data"
    }
   ],
   "source": [
    "plt.scatter(X_test, y_test, color='r')\n",
    "plt.plot(X_test, y_pred, color='b', linewidth=3)\n",
    "plt.xlabel('Temperature')\n",
    "plt.ylabel('Gas Usage(Nm3, Normalized)')\n",
    "plt.title('Linear Regression, Gyeonggido Temperature vs. Gas Usage');"
   ]
  },
  {
   "cell_type": "markdown",
   "id": "f7256042",
   "metadata": {},
   "source": [
    "Here, we see how the model fits to our data, and is able to predict with a <b>RMSE of about 0.1</b>. This isn't great, but as we can see on the graph as well, it generally does fit the data. Let's try to see if we can do better with a different Linear Regression Model!"
   ]
  },
  {
   "cell_type": "markdown",
   "id": "74bdb519",
   "metadata": {},
   "source": [
    "### Gradient Descent Linear Regression Model"
   ]
  },
  {
   "cell_type": "code",
   "execution_count": 24,
   "id": "21044cc8",
   "metadata": {},
   "outputs": [
    {
     "data": {
      "text/html": [
       "<style>#sk-container-id-2 {color: black;background-color: white;}#sk-container-id-2 pre{padding: 0;}#sk-container-id-2 div.sk-toggleable {background-color: white;}#sk-container-id-2 label.sk-toggleable__label {cursor: pointer;display: block;width: 100%;margin-bottom: 0;padding: 0.3em;box-sizing: border-box;text-align: center;}#sk-container-id-2 label.sk-toggleable__label-arrow:before {content: \"▸\";float: left;margin-right: 0.25em;color: #696969;}#sk-container-id-2 label.sk-toggleable__label-arrow:hover:before {color: black;}#sk-container-id-2 div.sk-estimator:hover label.sk-toggleable__label-arrow:before {color: black;}#sk-container-id-2 div.sk-toggleable__content {max-height: 0;max-width: 0;overflow: hidden;text-align: left;background-color: #f0f8ff;}#sk-container-id-2 div.sk-toggleable__content pre {margin: 0.2em;color: black;border-radius: 0.25em;background-color: #f0f8ff;}#sk-container-id-2 input.sk-toggleable__control:checked~div.sk-toggleable__content {max-height: 200px;max-width: 100%;overflow: auto;}#sk-container-id-2 input.sk-toggleable__control:checked~label.sk-toggleable__label-arrow:before {content: \"▾\";}#sk-container-id-2 div.sk-estimator input.sk-toggleable__control:checked~label.sk-toggleable__label {background-color: #d4ebff;}#sk-container-id-2 div.sk-label input.sk-toggleable__control:checked~label.sk-toggleable__label {background-color: #d4ebff;}#sk-container-id-2 input.sk-hidden--visually {border: 0;clip: rect(1px 1px 1px 1px);clip: rect(1px, 1px, 1px, 1px);height: 1px;margin: -1px;overflow: hidden;padding: 0;position: absolute;width: 1px;}#sk-container-id-2 div.sk-estimator {font-family: monospace;background-color: #f0f8ff;border: 1px dotted black;border-radius: 0.25em;box-sizing: border-box;margin-bottom: 0.5em;}#sk-container-id-2 div.sk-estimator:hover {background-color: #d4ebff;}#sk-container-id-2 div.sk-parallel-item::after {content: \"\";width: 100%;border-bottom: 1px solid gray;flex-grow: 1;}#sk-container-id-2 div.sk-label:hover label.sk-toggleable__label {background-color: #d4ebff;}#sk-container-id-2 div.sk-serial::before {content: \"\";position: absolute;border-left: 1px solid gray;box-sizing: border-box;top: 0;bottom: 0;left: 50%;z-index: 0;}#sk-container-id-2 div.sk-serial {display: flex;flex-direction: column;align-items: center;background-color: white;padding-right: 0.2em;padding-left: 0.2em;position: relative;}#sk-container-id-2 div.sk-item {position: relative;z-index: 1;}#sk-container-id-2 div.sk-parallel {display: flex;align-items: stretch;justify-content: center;background-color: white;position: relative;}#sk-container-id-2 div.sk-item::before, #sk-container-id-2 div.sk-parallel-item::before {content: \"\";position: absolute;border-left: 1px solid gray;box-sizing: border-box;top: 0;bottom: 0;left: 50%;z-index: -1;}#sk-container-id-2 div.sk-parallel-item {display: flex;flex-direction: column;z-index: 1;position: relative;background-color: white;}#sk-container-id-2 div.sk-parallel-item:first-child::after {align-self: flex-end;width: 50%;}#sk-container-id-2 div.sk-parallel-item:last-child::after {align-self: flex-start;width: 50%;}#sk-container-id-2 div.sk-parallel-item:only-child::after {width: 0;}#sk-container-id-2 div.sk-dashed-wrapped {border: 1px dashed gray;margin: 0 0.4em 0.5em 0.4em;box-sizing: border-box;padding-bottom: 0.4em;background-color: white;}#sk-container-id-2 div.sk-label label {font-family: monospace;font-weight: bold;display: inline-block;line-height: 1.2em;}#sk-container-id-2 div.sk-label-container {text-align: center;}#sk-container-id-2 div.sk-container {/* jupyter's `normalize.less` sets `[hidden] { display: none; }` but bootstrap.min.css set `[hidden] { display: none !important; }` so we also need the `!important` here to be able to override the default hidden behavior on the sphinx rendered scikit-learn.org. See: https://github.com/scikit-learn/scikit-learn/issues/21755 */display: inline-block !important;position: relative;}#sk-container-id-2 div.sk-text-repr-fallback {display: none;}</style><div id=\"sk-container-id-2\" class=\"sk-top-container\"><div class=\"sk-text-repr-fallback\"><pre>SGDRegressor(random_state=0, tol=1e-05)</pre><b>In a Jupyter environment, please rerun this cell to show the HTML representation or trust the notebook. <br />On GitHub, the HTML representation is unable to render, please try loading this page with nbviewer.org.</b></div><div class=\"sk-container\" hidden><div class=\"sk-item\"><div class=\"sk-estimator sk-toggleable\"><input class=\"sk-toggleable__control sk-hidden--visually\" id=\"sk-estimator-id-2\" type=\"checkbox\" checked><label for=\"sk-estimator-id-2\" class=\"sk-toggleable__label sk-toggleable__label-arrow\">SGDRegressor</label><div class=\"sk-toggleable__content\"><pre>SGDRegressor(random_state=0, tol=1e-05)</pre></div></div></div></div></div>"
      ],
      "text/plain": [
       "SGDRegressor(random_state=0, tol=1e-05)"
      ]
     },
     "execution_count": 24,
     "metadata": {},
     "output_type": "execute_result"
    }
   ],
   "source": [
    "from sklearn import linear_model\n",
    "linReg2 = linear_model.SGDRegressor(max_iter=1000, tol=1e-5, random_state=0)\n",
    "linReg2.fit(X_train.array.reshape(-1,1), y_train)"
   ]
  },
  {
   "cell_type": "code",
   "execution_count": 25,
   "id": "bfde7a52",
   "metadata": {},
   "outputs": [
    {
     "name": "stdout",
     "output_type": "stream",
     "text": [
      "[0.70468014] [-0.63027716]\n"
     ]
    }
   ],
   "source": [
    "y_pred2 = linReg2.predict(X_test.array.reshape(-1,1))\n",
    "print(linReg2.intercept_, linReg2.coef_)"
   ]
  },
  {
   "cell_type": "code",
   "execution_count": 26,
   "id": "8d0e4838",
   "metadata": {},
   "outputs": [
    {
     "name": "stdout",
     "output_type": "stream",
     "text": [
      "R-Squared value for the model:  0.696\n"
     ]
    }
   ],
   "source": [
    "rss = np.sum((y_test - y_pred2)**2)\n",
    "ess = np.sum((y_pred2 - np.mean(y_test))**2)\n",
    "r2 = (ess/(ess + rss)).round(3)\n",
    "print('R-Squared value for the model: ', r2)"
   ]
  },
  {
   "cell_type": "code",
   "execution_count": 27,
   "id": "85af6af9",
   "metadata": {
    "scrolled": true
   },
   "outputs": [
    {
     "name": "stdout",
     "output_type": "stream",
     "text": [
      "F-stat value for the model:  572.4\n"
     ]
    }
   ],
   "source": [
    "fstat = ((r2/(1-r2))*250).round(1)\n",
    "print('F-stat value for the model: ', fstat)"
   ]
  },
  {
   "cell_type": "code",
   "execution_count": 28,
   "id": "32fbcbff",
   "metadata": {},
   "outputs": [
    {
     "name": "stdout",
     "output_type": "stream",
     "text": [
      "RMS Error:  0.11429480040049524\n"
     ]
    }
   ],
   "source": [
    "print(\"RMS Error: \", np.sqrt(metrics.mean_squared_error(y_test, y_pred2)))"
   ]
  },
  {
   "cell_type": "markdown",
   "id": "f4239b26",
   "metadata": {},
   "source": [
    "We also tried using Gradient Descent to fit a linear regression to the data, but the RMSE is similar (perhaps even a little worse in this case), with a value of <b>RMSE=~0.13</b>.\n",
    "<br>\n",
    "The models are shown below:"
   ]
  },
  {
   "cell_type": "code",
   "execution_count": 29,
   "id": "d52baf88",
   "metadata": {},
   "outputs": [
    {
     "data": {
      "image/png": "[encoded data removed]",
      "text/plain": [
       "<Figure size 640x480 with 1 Axes>"
      ]
     },
     "metadata": {},
     "output_type": "display_data"
    }
   ],
   "source": [
    "plt.scatter(X_test, y_test, color='b', s=5)\n",
    "plt.plot(X_test, y_pred2, color='red', label='Gradient Descent')\n",
    "plt.plot(X_test, y_pred, color='green', label='OLS Linear Regression')\n",
    "plt.legend()\n",
    "plt.xlabel('Temperature')\n",
    "plt.ylabel('Gas Usage(Nm3)')\n",
    "plt.title('Linear Regression, Gyeonggido Temperature vs. Gas Usage');"
   ]
  },
  {
   "cell_type": "markdown",
   "id": "666e1f67",
   "metadata": {},
   "source": [
    "## Initial Takeaway\n",
    "From using these two types of linear regression (albeit without much tuning), we can see a decently useful relationship between temperature and gas usage. <b>The models both have an error of about 0.1</b>, but we can do better! Let's try with some other models.\n"
   ]
  },
  {
   "cell_type": "markdown",
   "id": "51e4aa1e",
   "metadata": {},
   "source": [
    "## Cleaned Dataset and training with other models\n",
    "As shown in the EDA, some other features may not be as suitable for a linear regression model. Let's try a different model, adding in some other potentially impactful features!\n",
    "<br><br>\n",
    "<u>The additional features we will include are:</u>\n",
    "<br>1. Carbon Monoxide\n",
    "<br>2. Nitrogen Dioxide\n",
    "<br>3. Ozone\n",
    "<br>4. Sulfuric Acid Gas\n",
    "<br>5. PM10\n",
    "<br><br>We will use these new features, along with the already present temperature, to predict gas generation in Normalized cubic meters (Nm3)."
   ]
  },
  {
   "cell_type": "markdown",
   "id": "52de5d13",
   "metadata": {},
   "source": [
    "We can read in the information from the cleaned 'Korea_Data_All' excel file, which contains all of the additional features we've discussed. It is also cleaned up (missing values, year differences, missing regional values) in the way that we've discussed prior, in both this notebook and the initial EDA."
   ]
  },
  {
   "cell_type": "code",
   "execution_count": 31,
   "id": "eee5c673",
   "metadata": {},
   "outputs": [
    {
     "data": {
      "text/html": [
       "<div>\n",
       "<style scoped>\n",
       "    .dataframe tbody tr th:only-of-type {\n",
       "        vertical-align: middle;\n",
       "    }\n",
       "\n",
       "    .dataframe tbody tr th {\n",
       "        vertical-align: top;\n",
       "    }\n",
       "\n",
       "    .dataframe thead th {\n",
       "        text-align: right;\n",
       "    }\n",
       "</style>\n",
       "<table border=\"1\" class=\"dataframe\">\n",
       "  <thead>\n",
       "    <tr style=\"text-align: right;\">\n",
       "      <th></th>\n",
       "      <th>Year</th>\n",
       "      <th>Month</th>\n",
       "      <th>Gyeonggido_Elec</th>\n",
       "      <th>Gyeonggido_Gas</th>\n",
       "      <th>Gyeonggi_PM10</th>\n",
       "      <th>Gyeonggi_Ozone</th>\n",
       "      <th>Gyeonggi_SO3</th>\n",
       "      <th>Gyeonggi_NO2</th>\n",
       "      <th>Gyeonggi_CO</th>\n",
       "      <th>Gyeonggido_Temp</th>\n",
       "    </tr>\n",
       "  </thead>\n",
       "  <tbody>\n",
       "    <tr>\n",
       "      <th>0</th>\n",
       "      <td>2010</td>\n",
       "      <td>1</td>\n",
       "      <td>744.101205</td>\n",
       "      <td>738025</td>\n",
       "      <td>68</td>\n",
       "      <td>0.011</td>\n",
       "      <td>0.008</td>\n",
       "      <td>0.040</td>\n",
       "      <td>0.9</td>\n",
       "      <td>-4.5</td>\n",
       "    </tr>\n",
       "    <tr>\n",
       "      <th>1</th>\n",
       "      <td>2010</td>\n",
       "      <td>2</td>\n",
       "      <td>713.740016</td>\n",
       "      <td>610984</td>\n",
       "      <td>56</td>\n",
       "      <td>0.015</td>\n",
       "      <td>0.007</td>\n",
       "      <td>0.034</td>\n",
       "      <td>0.7</td>\n",
       "      <td>1.4</td>\n",
       "    </tr>\n",
       "    <tr>\n",
       "      <th>2</th>\n",
       "      <td>2010</td>\n",
       "      <td>3</td>\n",
       "      <td>731.995382</td>\n",
       "      <td>500288</td>\n",
       "      <td>67</td>\n",
       "      <td>0.023</td>\n",
       "      <td>0.005</td>\n",
       "      <td>0.028</td>\n",
       "      <td>0.6</td>\n",
       "      <td>4.3</td>\n",
       "    </tr>\n",
       "    <tr>\n",
       "      <th>3</th>\n",
       "      <td>2010</td>\n",
       "      <td>4</td>\n",
       "      <td>817.928450</td>\n",
       "      <td>439879</td>\n",
       "      <td>57</td>\n",
       "      <td>0.026</td>\n",
       "      <td>0.005</td>\n",
       "      <td>0.030</td>\n",
       "      <td>0.5</td>\n",
       "      <td>9.5</td>\n",
       "    </tr>\n",
       "    <tr>\n",
       "      <th>4</th>\n",
       "      <td>2010</td>\n",
       "      <td>5</td>\n",
       "      <td>700.898429</td>\n",
       "      <td>298335</td>\n",
       "      <td>66</td>\n",
       "      <td>0.033</td>\n",
       "      <td>0.005</td>\n",
       "      <td>0.029</td>\n",
       "      <td>0.5</td>\n",
       "      <td>17.2</td>\n",
       "    </tr>\n",
       "    <tr>\n",
       "      <th>...</th>\n",
       "      <td>...</td>\n",
       "      <td>...</td>\n",
       "      <td>...</td>\n",
       "      <td>...</td>\n",
       "      <td>...</td>\n",
       "      <td>...</td>\n",
       "      <td>...</td>\n",
       "      <td>...</td>\n",
       "      <td>...</td>\n",
       "      <td>...</td>\n",
       "    </tr>\n",
       "    <tr>\n",
       "      <th>127</th>\n",
       "      <td>2020</td>\n",
       "      <td>8</td>\n",
       "      <td>6047.920142</td>\n",
       "      <td>255222</td>\n",
       "      <td>24</td>\n",
       "      <td>0.023</td>\n",
       "      <td>0.003</td>\n",
       "      <td>0.011</td>\n",
       "      <td>0.3</td>\n",
       "      <td>26.5</td>\n",
       "    </tr>\n",
       "    <tr>\n",
       "      <th>128</th>\n",
       "      <td>2020</td>\n",
       "      <td>9</td>\n",
       "      <td>6285.545956</td>\n",
       "      <td>243817</td>\n",
       "      <td>22</td>\n",
       "      <td>0.029</td>\n",
       "      <td>0.003</td>\n",
       "      <td>0.013</td>\n",
       "      <td>0.4</td>\n",
       "      <td>21.4</td>\n",
       "    </tr>\n",
       "    <tr>\n",
       "      <th>129</th>\n",
       "      <td>2020</td>\n",
       "      <td>10</td>\n",
       "      <td>5805.792953</td>\n",
       "      <td>339823</td>\n",
       "      <td>38</td>\n",
       "      <td>0.022</td>\n",
       "      <td>0.003</td>\n",
       "      <td>0.022</td>\n",
       "      <td>0.5</td>\n",
       "      <td>14.3</td>\n",
       "    </tr>\n",
       "    <tr>\n",
       "      <th>130</th>\n",
       "      <td>2020</td>\n",
       "      <td>11</td>\n",
       "      <td>5313.923434</td>\n",
       "      <td>497221</td>\n",
       "      <td>45</td>\n",
       "      <td>0.017</td>\n",
       "      <td>0.003</td>\n",
       "      <td>0.027</td>\n",
       "      <td>0.5</td>\n",
       "      <td>8.0</td>\n",
       "    </tr>\n",
       "    <tr>\n",
       "      <th>131</th>\n",
       "      <td>2020</td>\n",
       "      <td>12</td>\n",
       "      <td>4591.112244</td>\n",
       "      <td>742863</td>\n",
       "      <td>46</td>\n",
       "      <td>0.015</td>\n",
       "      <td>0.004</td>\n",
       "      <td>0.028</td>\n",
       "      <td>0.6</td>\n",
       "      <td>-0.3</td>\n",
       "    </tr>\n",
       "  </tbody>\n",
       "</table>\n",
       "<p>132 rows × 10 columns</p>\n",
       "</div>"
      ],
      "text/plain": [
       "     Year  Month  Gyeonggido_Elec  Gyeonggido_Gas  Gyeonggi_PM10  \\\n",
       "0    2010      1       744.101205          738025             68   \n",
       "1    2010      2       713.740016          610984             56   \n",
       "2    2010      3       731.995382          500288             67   \n",
       "3    2010      4       817.928450          439879             57   \n",
       "4    2010      5       700.898429          298335             66   \n",
       "..    ...    ...              ...             ...            ...   \n",
       "127  2020      8      6047.920142          255222             24   \n",
       "128  2020      9      6285.545956          243817             22   \n",
       "129  2020     10      5805.792953          339823             38   \n",
       "130  2020     11      5313.923434          497221             45   \n",
       "131  2020     12      4591.112244          742863             46   \n",
       "\n",
       "     Gyeonggi_Ozone  Gyeonggi_SO3  Gyeonggi_NO2  Gyeonggi_CO  Gyeonggido_Temp  \n",
       "0             0.011         0.008         0.040          0.9             -4.5  \n",
       "1             0.015         0.007         0.034          0.7              1.4  \n",
       "2             0.023         0.005         0.028          0.6              4.3  \n",
       "3             0.026         0.005         0.030          0.5              9.5  \n",
       "4             0.033         0.005         0.029          0.5             17.2  \n",
       "..              ...           ...           ...          ...              ...  \n",
       "127           0.023         0.003         0.011          0.3             26.5  \n",
       "128           0.029         0.003         0.013          0.4             21.4  \n",
       "129           0.022         0.003         0.022          0.5             14.3  \n",
       "130           0.017         0.003         0.027          0.5              8.0  \n",
       "131           0.015         0.004         0.028          0.6             -0.3  \n",
       "\n",
       "[132 rows x 10 columns]"
      ]
     },
     "execution_count": 31,
     "metadata": {},
     "output_type": "execute_result"
    }
   ],
   "source": [
    "gyeonggi_full = pd.read_excel('Data/Korea_Data_All.xlsx',sheet_name=2)\n",
    "gyeonggi_full"
   ]
  },
  {
   "cell_type": "code",
   "execution_count": 32,
   "id": "8831f875",
   "metadata": {
    "scrolled": false
   },
   "outputs": [
    {
     "name": "stdout",
     "output_type": "stream",
     "text": [
      "Year               0\n",
      "Month              0\n",
      "Gyeonggido_Elec    0\n",
      "Gyeonggido_Gas     0\n",
      "Gyeonggi_PM10      0\n",
      "Gyeonggi_Ozone     0\n",
      "Gyeonggi_SO3       0\n",
      "Gyeonggi_NO2       0\n",
      "Gyeonggi_CO        0\n",
      "Gyeonggido_Temp    0\n",
      "dtype: int64\n"
     ]
    },
    {
     "data": {
      "text/plain": [
       "Year               0\n",
       "Month              0\n",
       "Gyeonggido_Elec    0\n",
       "Gyeonggido_Gas     0\n",
       "Gyeonggi_PM10      0\n",
       "Gyeonggi_Ozone     0\n",
       "Gyeonggi_SO3       0\n",
       "Gyeonggi_NO2       0\n",
       "Gyeonggi_CO        0\n",
       "Gyeonggido_Temp    0\n",
       "dtype: int64"
      ]
     },
     "execution_count": 32,
     "metadata": {},
     "output_type": "execute_result"
    }
   ],
   "source": [
    "print(gyeonggi_full.isna().sum())\n",
    "(gyeonggi_full == '-').sum()"
   ]
  },
  {
   "cell_type": "markdown",
   "id": "4dce4caf",
   "metadata": {},
   "source": [
    "### Normalize full dataset data"
   ]
  },
  {
   "cell_type": "code",
   "execution_count": 33,
   "id": "14150a61",
   "metadata": {
    "scrolled": false
   },
   "outputs": [
    {
     "data": {
      "text/html": [
       "<div>\n",
       "<style scoped>\n",
       "    .dataframe tbody tr th:only-of-type {\n",
       "        vertical-align: middle;\n",
       "    }\n",
       "\n",
       "    .dataframe tbody tr th {\n",
       "        vertical-align: top;\n",
       "    }\n",
       "\n",
       "    .dataframe thead th {\n",
       "        text-align: right;\n",
       "    }\n",
       "</style>\n",
       "<table border=\"1\" class=\"dataframe\">\n",
       "  <thead>\n",
       "    <tr style=\"text-align: right;\">\n",
       "      <th></th>\n",
       "      <th>Gyeonggido_Elec</th>\n",
       "      <th>Gyeonggido_Gas</th>\n",
       "      <th>Gyeonggi_PM10</th>\n",
       "      <th>Gyeonggi_Ozone</th>\n",
       "      <th>Gyeonggi_SO3</th>\n",
       "      <th>Gyeonggi_NO2</th>\n",
       "      <th>Gyeonggi_CO</th>\n",
       "      <th>Gyeonggido_Temp</th>\n",
       "    </tr>\n",
       "  </thead>\n",
       "  <tbody>\n",
       "    <tr>\n",
       "      <th>0</th>\n",
       "      <td>0.002289</td>\n",
       "      <td>0.818530</td>\n",
       "      <td>0.696970</td>\n",
       "      <td>0.026316</td>\n",
       "      <td>1.0</td>\n",
       "      <td>0.90625</td>\n",
       "      <td>1.000000</td>\n",
       "      <td>0.075000</td>\n",
       "    </tr>\n",
       "    <tr>\n",
       "      <th>1</th>\n",
       "      <td>0.001870</td>\n",
       "      <td>0.629182</td>\n",
       "      <td>0.515152</td>\n",
       "      <td>0.131579</td>\n",
       "      <td>0.8</td>\n",
       "      <td>0.71875</td>\n",
       "      <td>0.666667</td>\n",
       "      <td>0.238889</td>\n",
       "    </tr>\n",
       "    <tr>\n",
       "      <th>2</th>\n",
       "      <td>0.002122</td>\n",
       "      <td>0.464195</td>\n",
       "      <td>0.681818</td>\n",
       "      <td>0.342105</td>\n",
       "      <td>0.4</td>\n",
       "      <td>0.53125</td>\n",
       "      <td>0.500000</td>\n",
       "      <td>0.319444</td>\n",
       "    </tr>\n",
       "    <tr>\n",
       "      <th>3</th>\n",
       "      <td>0.003309</td>\n",
       "      <td>0.374158</td>\n",
       "      <td>0.530303</td>\n",
       "      <td>0.421053</td>\n",
       "      <td>0.4</td>\n",
       "      <td>0.59375</td>\n",
       "      <td>0.333333</td>\n",
       "      <td>0.463889</td>\n",
       "    </tr>\n",
       "    <tr>\n",
       "      <th>4</th>\n",
       "      <td>0.001693</td>\n",
       "      <td>0.163194</td>\n",
       "      <td>0.666667</td>\n",
       "      <td>0.605263</td>\n",
       "      <td>0.4</td>\n",
       "      <td>0.56250</td>\n",
       "      <td>0.333333</td>\n",
       "      <td>0.677778</td>\n",
       "    </tr>\n",
       "    <tr>\n",
       "      <th>...</th>\n",
       "      <td>...</td>\n",
       "      <td>...</td>\n",
       "      <td>...</td>\n",
       "      <td>...</td>\n",
       "      <td>...</td>\n",
       "      <td>...</td>\n",
       "      <td>...</td>\n",
       "      <td>...</td>\n",
       "    </tr>\n",
       "    <tr>\n",
       "      <th>127</th>\n",
       "      <td>0.075536</td>\n",
       "      <td>0.098936</td>\n",
       "      <td>0.030303</td>\n",
       "      <td>0.342105</td>\n",
       "      <td>0.0</td>\n",
       "      <td>0.00000</td>\n",
       "      <td>0.000000</td>\n",
       "      <td>0.936111</td>\n",
       "    </tr>\n",
       "    <tr>\n",
       "      <th>128</th>\n",
       "      <td>0.078818</td>\n",
       "      <td>0.081938</td>\n",
       "      <td>0.000000</td>\n",
       "      <td>0.500000</td>\n",
       "      <td>0.0</td>\n",
       "      <td>0.06250</td>\n",
       "      <td>0.166667</td>\n",
       "      <td>0.794444</td>\n",
       "    </tr>\n",
       "    <tr>\n",
       "      <th>129</th>\n",
       "      <td>0.072193</td>\n",
       "      <td>0.225030</td>\n",
       "      <td>0.242424</td>\n",
       "      <td>0.315789</td>\n",
       "      <td>0.0</td>\n",
       "      <td>0.34375</td>\n",
       "      <td>0.333333</td>\n",
       "      <td>0.597222</td>\n",
       "    </tr>\n",
       "    <tr>\n",
       "      <th>130</th>\n",
       "      <td>0.065400</td>\n",
       "      <td>0.459624</td>\n",
       "      <td>0.348485</td>\n",
       "      <td>0.184211</td>\n",
       "      <td>0.0</td>\n",
       "      <td>0.50000</td>\n",
       "      <td>0.333333</td>\n",
       "      <td>0.422222</td>\n",
       "    </tr>\n",
       "    <tr>\n",
       "      <th>131</th>\n",
       "      <td>0.055418</td>\n",
       "      <td>0.825741</td>\n",
       "      <td>0.363636</td>\n",
       "      <td>0.131579</td>\n",
       "      <td>0.2</td>\n",
       "      <td>0.53125</td>\n",
       "      <td>0.500000</td>\n",
       "      <td>0.191667</td>\n",
       "    </tr>\n",
       "  </tbody>\n",
       "</table>\n",
       "<p>132 rows × 8 columns</p>\n",
       "</div>"
      ],
      "text/plain": [
       "     Gyeonggido_Elec  Gyeonggido_Gas  Gyeonggi_PM10  Gyeonggi_Ozone  \\\n",
       "0           0.002289        0.818530       0.696970        0.026316   \n",
       "1           0.001870        0.629182       0.515152        0.131579   \n",
       "2           0.002122        0.464195       0.681818        0.342105   \n",
       "3           0.003309        0.374158       0.530303        0.421053   \n",
       "4           0.001693        0.163194       0.666667        0.605263   \n",
       "..               ...             ...            ...             ...   \n",
       "127         0.075536        0.098936       0.030303        0.342105   \n",
       "128         0.078818        0.081938       0.000000        0.500000   \n",
       "129         0.072193        0.225030       0.242424        0.315789   \n",
       "130         0.065400        0.459624       0.348485        0.184211   \n",
       "131         0.055418        0.825741       0.363636        0.131579   \n",
       "\n",
       "     Gyeonggi_SO3  Gyeonggi_NO2  Gyeonggi_CO  Gyeonggido_Temp  \n",
       "0             1.0       0.90625     1.000000         0.075000  \n",
       "1             0.8       0.71875     0.666667         0.238889  \n",
       "2             0.4       0.53125     0.500000         0.319444  \n",
       "3             0.4       0.59375     0.333333         0.463889  \n",
       "4             0.4       0.56250     0.333333         0.677778  \n",
       "..            ...           ...          ...              ...  \n",
       "127           0.0       0.00000     0.000000         0.936111  \n",
       "128           0.0       0.06250     0.166667         0.794444  \n",
       "129           0.0       0.34375     0.333333         0.597222  \n",
       "130           0.0       0.50000     0.333333         0.422222  \n",
       "131           0.2       0.53125     0.500000         0.191667  \n",
       "\n",
       "[132 rows x 8 columns]"
      ]
     },
     "execution_count": 33,
     "metadata": {},
     "output_type": "execute_result"
    }
   ],
   "source": [
    "gyeonggi_norm = gyeonggi_full.copy()\n",
    "gyeonggi_norm = normalize(gyeonggi_norm.drop(columns=['Year', 'Month']))\n",
    "gyeonggi_norm"
   ]
  },
  {
   "cell_type": "markdown",
   "id": "649eaf72",
   "metadata": {},
   "source": [
    "Let's separate our target and features. We will try predicting the generated gas (Nm3) from the pollutants and temperature, so the gas will be the target."
   ]
  },
  {
   "cell_type": "markdown",
   "id": "2e5f66ad",
   "metadata": {},
   "source": [
    "Since we initially tried using simple linear regression with only the temperature as a feature, let's also try doing the same with random forest."
   ]
  },
  {
   "cell_type": "markdown",
   "id": "c4b07dec",
   "metadata": {},
   "source": [
    "## Random Forest Regression: Temperature\n",
    "Using a random forest model, let's first see how the model handles using a singular feature and target: temperature and gas."
   ]
  },
  {
   "cell_type": "code",
   "execution_count": 34,
   "id": "407d0234",
   "metadata": {},
   "outputs": [],
   "source": [
    "# separating training and test data with only temperature and gas\n",
    "X_train, X_test, y_train, y_test = train_test_split(gyeonggi_norm.Gyeonggido_Temp, gyeonggi_norm.Gyeonggido_Gas, test_size=.3, random_state=17)"
   ]
  },
  {
   "cell_type": "markdown",
   "id": "f0a0fb7f",
   "metadata": {},
   "source": [
    "Initialize the regressor (basic random forest). We need to reshape the X_train and X_test, as we're only using a single feature in this model."
   ]
  },
  {
   "cell_type": "code",
   "execution_count": 35,
   "id": "f95ba141",
   "metadata": {},
   "outputs": [],
   "source": [
    "# initialize regressor\n",
    "X_train = X_train.array.reshape(-1,1)\n",
    "X_test = X_test.array.reshape(-1,1)\n",
    "forest = RandomForestRegressor(random_state=42)\n",
    "forest = forest.fit(X_train, y_train)\n",
    "y_pred = forest.predict(X_test)"
   ]
  },
  {
   "cell_type": "markdown",
   "id": "701e4b8c",
   "metadata": {},
   "source": [
    "### Calculating Error\n",
    "For regression problems, we can focus on error values like Mean Squared Error and Root Mean Squared Error to see how well our model is performing in comparison to the actual target values."
   ]
  },
  {
   "cell_type": "code",
   "execution_count": 36,
   "id": "146d0bfd",
   "metadata": {},
   "outputs": [
    {
     "name": "stdout",
     "output_type": "stream",
     "text": [
      "MSE (One Feature Random Forest):  0.003728632207038477\n",
      "RMSE (One Feature Random Forest):  0.0610625270279447\n"
     ]
    }
   ],
   "source": [
    "mse = mean_squared_error(y_test, y_pred)\n",
    "rmse = mse**.5\n",
    "print('MSE (One Feature Random Forest): ', mse)\n",
    "print('RMSE (One Feature Random Forest): ', rmse)"
   ]
  },
  {
   "cell_type": "markdown",
   "id": "cb389290",
   "metadata": {},
   "source": [
    "The error is not too bad, as our values are between 0 and 1 (normalized), and the error is <1e-1 even in the RMSE case.\n",
    "<br>\n",
    "However, let's see if adding more features can help improve the results."
   ]
  },
  {
   "cell_type": "markdown",
   "id": "43e0aa92",
   "metadata": {},
   "source": [
    "## Random Forest Regression: All Features\n",
    "Now, we can compare the effectiveness of a model with all of the pollutant data included as features, instead of only using a single temperature feature."
   ]
  },
  {
   "cell_type": "code",
   "execution_count": 37,
   "id": "336929a1",
   "metadata": {},
   "outputs": [],
   "source": [
    "# Separate target and features\n",
    "target = gyeonggi_norm.Gyeonggido_Gas\n",
    "features = gyeonggi_norm.drop(columns='Gyeonggido_Gas')"
   ]
  },
  {
   "cell_type": "code",
   "execution_count": 38,
   "id": "a5f731d8",
   "metadata": {},
   "outputs": [],
   "source": [
    "# Split into training and test data\n",
    "X_train, X_test, y_train, y_test = train_test_split(features, target, test_size=.3, random_state=17)"
   ]
  },
  {
   "cell_type": "code",
   "execution_count": 39,
   "id": "772cb99e",
   "metadata": {},
   "outputs": [],
   "source": [
    "# initialize regressor\n",
    "forest = RandomForestRegressor(random_state=42)\n",
    "forest = forest.fit(X_train, y_train)\n",
    "y_pred = forest.predict(X_test)"
   ]
  },
  {
   "cell_type": "markdown",
   "id": "2786b0e3",
   "metadata": {},
   "source": [
    "### Calculating Error"
   ]
  },
  {
   "cell_type": "code",
   "execution_count": 40,
   "id": "fb5c0f6f",
   "metadata": {},
   "outputs": [
    {
     "name": "stdout",
     "output_type": "stream",
     "text": [
      "MSE (Basic Random Forest):  0.0028854058740435885\n",
      "RMSE (Basic Random Forest):  0.05371597410494935\n"
     ]
    }
   ],
   "source": [
    "mse = mean_squared_error(y_test, y_pred)\n",
    "rmse = mse**.5\n",
    "print('MSE (Basic Random Forest): ', mse)\n",
    "print('RMSE (Basic Random Forest): ', rmse)"
   ]
  },
  {
   "cell_type": "markdown",
   "id": "ed9237b0",
   "metadata": {},
   "source": [
    "We can already see some improvement! Both errors have reduced significantly."
   ]
  },
  {
   "cell_type": "code",
   "execution_count": 44,
   "id": "2bfc11ba",
   "metadata": {
    "scrolled": false
   },
   "outputs": [
    {
     "data": {
      "image/png": "[encoded data removed]",
      "text/plain": [
       "<Figure size 640x480 with 1 Axes>"
      ]
     },
     "metadata": {},
     "output_type": "display_data"
    }
   ],
   "source": [
    "# plot of residuals vs predicted values\n",
    "sns.regplot(y=np.subtract(y_test, y_pred), x=y_pred, scatter=True, color='r')\n",
    "plt.xlabel('Predicted Value')\n",
    "plt.ylabel('Residuals');"
   ]
  },
  {
   "cell_type": "code",
   "execution_count": 45,
   "id": "8aa5ed24",
   "metadata": {},
   "outputs": [
    {
     "data": {
      "image/png": "[encoded data removed]",
      "text/plain": [
       "<Figure size 640x480 with 1 Axes>"
      ]
     },
     "metadata": {},
     "output_type": "display_data"
    }
   ],
   "source": [
    "importances = pd.Series(forest.feature_importances_, index=X_train.columns)\n",
    "importances.nlargest(7).plot(kind='barh')\n",
    "plt.show()"
   ]
  },
  {
   "cell_type": "markdown",
   "id": "c9e22b5f",
   "metadata": {},
   "source": [
    "### Tuning the regressor\n",
    "Grid search to find general good parameter areas"
   ]
  },
  {
   "cell_type": "code",
   "execution_count": 46,
   "id": "43cd646c",
   "metadata": {},
   "outputs": [],
   "source": [
    "# define models and parameters\n",
    "model = RandomForestRegressor()\n",
    "grid = {\n",
    "    'n_estimators': [10,100,200,400],\n",
    "    'max_features': ['sqrt', 'log2'],\n",
    "    'max_depth': [6,7,8,9],\n",
    "    'random_state': [42]\n",
    "}\n",
    "\n",
    "# define evaluation\n",
    "cv = RepeatedKFold(n_splits=10, n_repeats=3, random_state=1)"
   ]
  },
  {
   "cell_type": "code",
   "execution_count": 167,
   "id": "52836b66",
   "metadata": {},
   "outputs": [],
   "source": [
    "# define grid search\n",
    "search = GridSearchCV(model, grid, scoring='neg_mean_squared_error', n_jobs=-1, cv=cv)\n",
    "\n",
    "# start grid search\n",
    "result = search.fit(features, target)"
   ]
  },
  {
   "cell_type": "code",
   "execution_count": 168,
   "id": "a85e8d75",
   "metadata": {
    "scrolled": true
   },
   "outputs": [
    {
     "name": "stdout",
     "output_type": "stream",
     "text": [
      "-0.005479685446876429\n",
      "{'max_depth': 8, 'max_features': 'sqrt', 'n_estimators': 100, 'random_state': 42}\n"
     ]
    }
   ],
   "source": [
    "print(result.best_score_)\n",
    "print(result.best_params_)"
   ]
  },
  {
   "cell_type": "markdown",
   "id": "32d4462a",
   "metadata": {},
   "source": [
    "Let's see how it performs on the data we previously used:"
   ]
  },
  {
   "cell_type": "code",
   "execution_count": 47,
   "id": "a9d5e243",
   "metadata": {},
   "outputs": [],
   "source": [
    "# initialize again, with tuned hyperparameters\n",
    "forest_tuned = RandomForestRegressor(max_depth=8, max_features='sqrt', n_estimators=100, random_state=42)\n",
    "forest_tuned = forest_tuned.fit(X_train, y_train)\n",
    "y_pred = forest_tuned.predict(X_test)"
   ]
  },
  {
   "cell_type": "markdown",
   "id": "4f094fd0",
   "metadata": {},
   "source": [
    "Once again calculating the error:"
   ]
  },
  {
   "cell_type": "code",
   "execution_count": 48,
   "id": "aff54c16",
   "metadata": {},
   "outputs": [
    {
     "name": "stdout",
     "output_type": "stream",
     "text": [
      "MSE (Tuned Random Forest):  0.0027270373109823678\n",
      "RMSE (Tuned Random Forest):  0.05222104279868765\n",
      "MSE (Basic Random Forest):  0.0028854058740435885\n",
      "RMSE (Basic Random Forest):  0.05371597410494935\n"
     ]
    }
   ],
   "source": [
    "mse_tuned = mean_squared_error(y_test, y_pred)\n",
    "rmse_tuned = mse_tuned**.5\n",
    "print('MSE (Tuned Random Forest): ', mse_tuned)\n",
    "print('RMSE (Tuned Random Forest): ', rmse_tuned)\n",
    "print('MSE (Basic Random Forest): ', mse)\n",
    "print('RMSE (Basic Random Forest): ', rmse)"
   ]
  },
  {
   "cell_type": "markdown",
   "id": "7d2de8d7",
   "metadata": {},
   "source": [
    "We can also use the regressor to see what features had the greatest impact."
   ]
  },
  {
   "cell_type": "code",
   "execution_count": 49,
   "id": "4eab30e1",
   "metadata": {
    "scrolled": false
   },
   "outputs": [
    {
     "data": {
      "image/png": "[encoded data removed]",
      "text/plain": [
       "<Figure size 640x480 with 1 Axes>"
      ]
     },
     "metadata": {},
     "output_type": "display_data"
    }
   ],
   "source": [
    "importances = pd.Series(forest_tuned.feature_importances_, index=X_train.columns)\n",
    "importances.nlargest(7).plot(kind='barh')\n",
    "plt.show()"
   ]
  },
  {
   "cell_type": "markdown",
   "id": "7086429a",
   "metadata": {},
   "source": [
    "### Results\n",
    "Just from this quick grid search tuning, we can see a slight decrease in error for both MSE and RMSE. Our final error values for the random forest are: \n",
    "<br>\n",
    "<b>MSE: 0.0027\n",
    "<br>\n",
    "RMSE: 0.052</b>\n",
    "<br><br>\n",
    "If we compare to the RMSE values of using linear regression models, we can already see a significant improvement (0.1 -> 0.05)!"
   ]
  },
  {
   "cell_type": "markdown",
   "id": "d7d9eadc",
   "metadata": {},
   "source": [
    "## Decision Tree: All features\n",
    "Let's try one more model type: decision tree. We'll try again with all the features and see how it compares to our tuned random forest model."
   ]
  },
  {
   "cell_type": "code",
   "execution_count": 50,
   "id": "7c2751f6",
   "metadata": {},
   "outputs": [],
   "source": [
    "# import and initialize regressor\n",
    "from sklearn.tree import DecisionTreeRegressor\n",
    "dec_tree = DecisionTreeRegressor(random_state=42)\n",
    "dec_tree.fit(X_train, y_train)\n",
    "y_pred = dec_tree.predict(X_test)"
   ]
  },
  {
   "cell_type": "code",
   "execution_count": 51,
   "id": "c26f6c52",
   "metadata": {},
   "outputs": [
    {
     "name": "stdout",
     "output_type": "stream",
     "text": [
      "MSE (Basic Decision Tree):  0.004235449530555132\n",
      "RMSE (Basic Decision Tree):  0.06508033136482275\n"
     ]
    }
   ],
   "source": [
    "mse = mean_squared_error(y_test, y_pred)\n",
    "rmse = mse**.5\n",
    "print('MSE (Basic Decision Tree): ', mse)\n",
    "print('RMSE (Basic Decision Tree): ', rmse)"
   ]
  },
  {
   "cell_type": "code",
   "execution_count": 52,
   "id": "f21c681a",
   "metadata": {},
   "outputs": [],
   "source": [
    "model2 = DecisionTreeRegressor()\n",
    "parameters={\n",
    "    'max_depth': [1,3,5,7,9],\n",
    "    'max_features': ['auto', 'log2', 'sqrt'],\n",
    "    'min_samples_leaf': [2,3,4,5,6],\n",
    "    'splitter': ['best', 'random'],\n",
    "    'random_state': [42]\n",
    "}"
   ]
  },
  {
   "cell_type": "code",
   "execution_count": 124,
   "id": "c60e0845",
   "metadata": {},
   "outputs": [],
   "source": [
    "search2 = GridSearchCV(model2, parameters, scoring='neg_mean_squared_error', cv=cv)\n",
    "\n",
    "result2 = search2.fit(features, target)"
   ]
  },
  {
   "cell_type": "code",
   "execution_count": 125,
   "id": "b8cf9112",
   "metadata": {},
   "outputs": [
    {
     "name": "stdout",
     "output_type": "stream",
     "text": [
      "-0.0031672984474570404\n",
      "{'max_depth': 5, 'max_features': 'auto', 'min_samples_leaf': 5, 'random_state': 42, 'splitter': 'best'}\n"
     ]
    }
   ],
   "source": [
    "print(result2.best_score_)\n",
    "print(result2.best_params_)"
   ]
  },
  {
   "cell_type": "code",
   "execution_count": 53,
   "id": "fba87374",
   "metadata": {},
   "outputs": [],
   "source": [
    "# initialize again, with tuned hyperparameters\n",
    "tree_tuned = DecisionTreeRegressor(max_depth=5, max_features='auto', min_samples_leaf=5, random_state=42, splitter='best')\n",
    "tree_tuned = tree_tuned.fit(X_train, y_train)\n",
    "y_pred = tree_tuned.predict(X_test)"
   ]
  },
  {
   "cell_type": "code",
   "execution_count": 54,
   "id": "ceb0d076",
   "metadata": {},
   "outputs": [
    {
     "name": "stdout",
     "output_type": "stream",
     "text": [
      "MSE (Tuned Decision Tree):  0.003135497565865103\n",
      "RMSE (Tuned Decision Tree):  0.05599551380124218\n"
     ]
    }
   ],
   "source": [
    "mse = mean_squared_error(y_test, y_pred)\n",
    "rmse = mse**.5\n",
    "print('MSE (Tuned Decision Tree): ', mse)\n",
    "print('RMSE (Tuned Decision Tree): ', rmse)"
   ]
  },
  {
   "cell_type": "markdown",
   "id": "a141a463",
   "metadata": {},
   "source": [
    "### Comparing Decision Tree to Random Forest:\n",
    "Here we can see that our random forest (both tuned and untuned) performed better than the decision tree model. Moving forward, we will thus focus on using __random forest__ as our model."
   ]
  },
  {
   "cell_type": "markdown",
   "id": "426091e3",
   "metadata": {},
   "source": [
    "## KNN Algorithm Regression"
   ]
  },
  {
   "cell_type": "code",
   "execution_count": 55,
   "id": "49108e5b",
   "metadata": {},
   "outputs": [],
   "source": [
    "from sklearn import neighbors \n",
    "from math import sqrt"
   ]
  },
  {
   "cell_type": "code",
   "execution_count": 56,
   "id": "d8c3e171",
   "metadata": {},
   "outputs": [],
   "source": [
    "rmse_val = [] #to store rmse values for different k\n",
    "for K in range(20):\n",
    "    K = K+1\n",
    "    KNN_model = neighbors.KNeighborsRegressor(n_neighbors = K)\n",
    "\n",
    "    KNN_model.fit(X_train, y_train)  #fit the model\n",
    "    y_pred=KNN_model.predict(X_test) #make prediction on test set\n",
    "    RMSE = sqrt(mean_squared_error(y_test,y_pred)) #calculate rmse\n",
    "    rmse_val.append(RMSE) #store rmse values"
   ]
  },
  {
   "cell_type": "code",
   "execution_count": 57,
   "id": "a37dbb15",
   "metadata": {
    "scrolled": false
   },
   "outputs": [
    {
     "data": {
      "image/png": "[encoded data removed]",
      "text/plain": [
       "<Figure size 640x480 with 1 Axes>"
      ]
     },
     "metadata": {},
     "output_type": "display_data"
    }
   ],
   "source": [
    "curve = pd.DataFrame(rmse_val) #elbow curve \n",
    "curve.plot(legend=None)\n",
    "plt.title('Finding best K value for KNN', size=20)\n",
    "plt.xlabel('K Values')\n",
    "plt.ylabel('RMSE')\n",
    "plt.xticks(range(1, 21));"
   ]
  },
  {
   "cell_type": "markdown",
   "id": "a19182b6",
   "metadata": {},
   "source": [
    "The elbow clearly occurs at __K = 4__, so we'll use that information for our best choice of regressor."
   ]
  },
  {
   "cell_type": "code",
   "execution_count": 59,
   "id": "f3dc0ab5",
   "metadata": {},
   "outputs": [
    {
     "name": "stdout",
     "output_type": "stream",
     "text": [
      "KNN, k=4 MSE: 0.0030750960179721206\n",
      "KNN, k=4 RMSE: 0.05545354829018717\n"
     ]
    }
   ],
   "source": [
    "mse = rmse_val[3]**2\n",
    "print('KNN, k=4 MSE:', mse)\n",
    "print('KNN, k=4 RMSE:', rmse_val[3])"
   ]
  },
  {
   "cell_type": "markdown",
   "id": "412e8276",
   "metadata": {},
   "source": [
    "## Try again with less features\n",
    "As we saw from the importances plot, electricity generation and SO3 are the least impactful here. Let's see if removing them improves performance. Random Forest was our best performer so we can try again with that."
   ]
  },
  {
   "cell_type": "code",
   "execution_count": 60,
   "id": "fc954485",
   "metadata": {},
   "outputs": [],
   "source": [
    "X_test = X_test.drop(columns=['Gyeonggido_Elec', 'Gyeonggi_SO3'])\n",
    "X_train = X_train.drop(columns=['Gyeonggido_Elec', 'Gyeonggi_SO3'])\n",
    "y_test = y_test.drop(columns=['Gyeonggido_Elec', 'Gyeonggi_SO3'])\n",
    "y_train = y_train.drop(columns=['Gyeonggido_Elec', 'Gyeonggi_SO3'])"
   ]
  },
  {
   "cell_type": "code",
   "execution_count": 61,
   "id": "507ae4d5",
   "metadata": {},
   "outputs": [],
   "source": [
    "forest_tuned = forest_tuned.fit(X_train, y_train)\n",
    "y_pred = forest_tuned.predict(X_test)"
   ]
  },
  {
   "cell_type": "code",
   "execution_count": 62,
   "id": "8b5f1c76",
   "metadata": {},
   "outputs": [
    {
     "name": "stdout",
     "output_type": "stream",
     "text": [
      "MSE (Tuned, Dropped Value Random Forest):  0.002313052443184661\n",
      "RMSE (Tuned, Dropped Value Random Forest):  0.048094203841883704\n"
     ]
    }
   ],
   "source": [
    "mse = mean_squared_error(y_test, y_pred)\n",
    "rmse = mse**.5\n",
    "print('MSE (Tuned, Dropped Value Random Forest): ', mse)\n",
    "print('RMSE (Tuned, Dropped Value Random Forest): ', rmse)"
   ]
  },
  {
   "cell_type": "markdown",
   "id": "7c3d434b",
   "metadata": {},
   "source": [
    "This actually performed better than before! Let's see if removing the next lowest importance feature continues to imporve performance. The next one is PM10."
   ]
  },
  {
   "cell_type": "code",
   "execution_count": 63,
   "id": "415811a3",
   "metadata": {},
   "outputs": [],
   "source": [
    "X_test = X_test.drop(columns=['Gyeonggi_PM10'])\n",
    "X_train = X_train.drop(columns=['Gyeonggi_PM10'])"
   ]
  },
  {
   "cell_type": "code",
   "execution_count": 64,
   "id": "97d9e26c",
   "metadata": {},
   "outputs": [],
   "source": [
    "forest_tuned = forest_tuned.fit(X_train, y_train)\n",
    "y_pred = forest_tuned.predict(X_test)"
   ]
  },
  {
   "cell_type": "code",
   "execution_count": 65,
   "id": "f657cb02",
   "metadata": {},
   "outputs": [
    {
     "name": "stdout",
     "output_type": "stream",
     "text": [
      "MSE (Tuned, Dropped Value Random Forest):  0.0019864144531770676\n",
      "RMSE (Tuned, Dropped Value Random Forest):  0.04456920969881638\n"
     ]
    }
   ],
   "source": [
    "mse = mean_squared_error(y_test, y_pred)\n",
    "rmse = mse**.5\n",
    "print('MSE (Tuned, Dropped Value Random Forest): ', mse)\n",
    "print('RMSE (Tuned, Dropped Value Random Forest): ', rmse)"
   ]
  },
  {
   "cell_type": "markdown",
   "id": "c8e74e67",
   "metadata": {},
   "source": [
    "Again, this further improved the performance! Let's try one more time:"
   ]
  },
  {
   "cell_type": "code",
   "execution_count": 66,
   "id": "f02104d1",
   "metadata": {},
   "outputs": [],
   "source": [
    "X_test = X_test.drop(columns=['Gyeonggi_Ozone'])\n",
    "X_train = X_train.drop(columns=['Gyeonggi_Ozone'])"
   ]
  },
  {
   "cell_type": "code",
   "execution_count": 67,
   "id": "f5a65f42",
   "metadata": {},
   "outputs": [],
   "source": [
    "forest_tuned = forest_tuned.fit(X_train, y_train)\n",
    "y_pred = forest_tuned.predict(X_test)"
   ]
  },
  {
   "cell_type": "code",
   "execution_count": 68,
   "id": "b310969b",
   "metadata": {
    "scrolled": true
   },
   "outputs": [
    {
     "name": "stdout",
     "output_type": "stream",
     "text": [
      "MSE (Tuned, Dropped Value Random Forest):  0.0032332469259944868\n",
      "RMSE (Tuned, Dropped Value Random Forest):  0.05686164723251066\n"
     ]
    }
   ],
   "source": [
    "mse = mean_squared_error(y_test, y_pred)\n",
    "rmse = mse**.5\n",
    "print('MSE (Tuned, Dropped Value Random Forest): ', mse)\n",
    "print('RMSE (Tuned, Dropped Value Random Forest): ', rmse)"
   ]
  },
  {
   "cell_type": "markdown",
   "id": "f446069c",
   "metadata": {},
   "source": [
    "We can see here that the performance has gone back down. Let's try to use this information and retune and build another random forest model."
   ]
  },
  {
   "cell_type": "markdown",
   "id": "fb701cce",
   "metadata": {},
   "source": [
    "### Best Features:\n",
    "We got the best results by removing Electricity generation, SO3, and PM10.\n",
    "<br> MSE: 0.00199\n",
    "<br> RMSE: 0.0446"
   ]
  },
  {
   "cell_type": "markdown",
   "id": "6a07a202",
   "metadata": {},
   "source": [
    "## Random Forest: Tuned, with removed features\n",
    "Let's tune a random forest again, this time without PM10, SO3, and electricity features."
   ]
  },
  {
   "cell_type": "code",
   "execution_count": 69,
   "id": "95fb924e",
   "metadata": {},
   "outputs": [],
   "source": [
    "# define models and parameters\n",
    "model3 = RandomForestRegressor()\n",
    "grid = {\n",
    "    'n_estimators': [200,400,500],\n",
    "    'max_features': ['sqrt', 'log2'],\n",
    "    'max_depth': [8,9,10],\n",
    "    'random_state': [42]\n",
    "}\n",
    "\n",
    "# define evaluation\n",
    "cv = RepeatedKFold(n_splits=10, n_repeats=3, random_state=1)"
   ]
  },
  {
   "cell_type": "code",
   "execution_count": 70,
   "id": "3a46da2d",
   "metadata": {},
   "outputs": [],
   "source": [
    "features_dropped = features.drop(columns=['Gyeonggido_Elec', 'Gyeonggi_SO3', 'Gyeonggi_PM10'])"
   ]
  },
  {
   "cell_type": "code",
   "execution_count": 182,
   "id": "f08a0f50",
   "metadata": {},
   "outputs": [],
   "source": [
    "# define grid search\n",
    "search3 = GridSearchCV(model3, grid, scoring='neg_mean_squared_error', n_jobs=-1, cv=cv)\n",
    "\n",
    "# start grid search\n",
    "result3 = search3.fit(features_dropped, target)"
   ]
  },
  {
   "cell_type": "code",
   "execution_count": 183,
   "id": "002397f8",
   "metadata": {
    "scrolled": true
   },
   "outputs": [
    {
     "name": "stdout",
     "output_type": "stream",
     "text": [
      "-0.0034526940943149\n",
      "{'max_depth': 9, 'max_features': 'sqrt', 'n_estimators': 400, 'random_state': 42}\n"
     ]
    }
   ],
   "source": [
    "print(result3.best_score_)\n",
    "print(result3.best_params_)"
   ]
  },
  {
   "cell_type": "markdown",
   "id": "b7c08a6b",
   "metadata": {},
   "source": [
    "We can already see that this performs better than the previous tuned model!"
   ]
  },
  {
   "cell_type": "code",
   "execution_count": 73,
   "id": "c456b2c9",
   "metadata": {},
   "outputs": [],
   "source": [
    "# reset the training and test sets\n",
    "X_train, X_test, y_train, y_test = train_test_split(features, target, test_size=.3, random_state=17)"
   ]
  },
  {
   "cell_type": "code",
   "execution_count": 74,
   "id": "89b6f452",
   "metadata": {},
   "outputs": [],
   "source": [
    "X_test = X_test.drop(columns=['Gyeonggido_Elec', 'Gyeonggi_SO3', 'Gyeonggi_PM10'])\n",
    "X_train = X_train.drop(columns=['Gyeonggido_Elec', 'Gyeonggi_SO3', 'Gyeonggi_PM10'])"
   ]
  },
  {
   "cell_type": "code",
   "execution_count": 75,
   "id": "e7936f47",
   "metadata": {},
   "outputs": [],
   "source": [
    "# initialize again, with tuned hyperparameters\n",
    "forest_tuned2 = RandomForestRegressor(max_depth=9, max_features='sqrt', n_estimators=400, random_state=42)\n",
    "forest_tuned2 = forest_tuned2.fit(X_train, y_train)\n",
    "y_pred = forest_tuned2.predict(X_test)"
   ]
  },
  {
   "cell_type": "code",
   "execution_count": 76,
   "id": "78547866",
   "metadata": {},
   "outputs": [
    {
     "name": "stdout",
     "output_type": "stream",
     "text": [
      "MSE (Tuned, Feature Dropped Random Forest):  0.002107480006400584\n",
      "RMSE (Tuned, Feature Dropped Random Forest):  0.04590729796449127\n"
     ]
    }
   ],
   "source": [
    "mse = mean_squared_error(y_test, y_pred)\n",
    "rmse = mse**.5\n",
    "print('MSE (Tuned, Feature Dropped Random Forest): ', mse)\n",
    "print('RMSE (Tuned, Feature Dropped Random Forest): ', rmse)"
   ]
  },
  {
   "cell_type": "markdown",
   "id": "a53b23f0",
   "metadata": {},
   "source": [
    "## Final results after removing features and tuning again:\n",
    "Features: Ozone, NO2, CO, Temperature\n",
    "<br> Model: Random Forest\n",
    "<br> Hyperparams: 'max_depth': 9, 'max_features': 'sqrt', 'n_estimators': 400, 'random_state': 42\n",
    "<br> __MSE: 0.0021\n",
    "<br> RMSE: 0.046__"
   ]
  },
  {
   "cell_type": "markdown",
   "id": "00127458",
   "metadata": {},
   "source": [
    "# Selecting features with recursive feature elimination"
   ]
  },
  {
   "cell_type": "code",
   "execution_count": 77,
   "id": "1dd2aa3c",
   "metadata": {},
   "outputs": [],
   "source": [
    "from sklearn.feature_selection import RFECV\n",
    "from sklearn.pipeline import Pipeline\n",
    "from numpy import mean\n",
    "from numpy import std"
   ]
  },
  {
   "cell_type": "code",
   "execution_count": 78,
   "id": "3baaa3fc",
   "metadata": {},
   "outputs": [],
   "source": [
    "# create pipeline\n",
    "rfe = RFECV(estimator=RandomForestRegressor())\n",
    "model = RandomForestRegressor()\n",
    "pipeline = Pipeline(steps=[('s',rfe),('m',model)])\n",
    "# evaluate model\n",
    "cv = RepeatedKFold(n_splits=10, n_repeats=3, random_state=1)\n",
    "n_scores = cross_val_score(pipeline, features, target, scoring='neg_mean_squared_error', cv=cv, n_jobs=-1, error_score='raise')"
   ]
  },
  {
   "cell_type": "code",
   "execution_count": 79,
   "id": "14943162",
   "metadata": {},
   "outputs": [
    {
     "name": "stdout",
     "output_type": "stream",
     "text": [
      "MSE: -0.003 (0.002)\n"
     ]
    }
   ],
   "source": [
    "# report performance\n",
    "print('MSE: %.3f (%.3f)' % (mean(n_scores), std(n_scores)))"
   ]
  },
  {
   "cell_type": "code",
   "execution_count": 80,
   "id": "cd17cd07",
   "metadata": {
    "scrolled": true
   },
   "outputs": [
    {
     "data": {
      "text/html": [
       "<style>#sk-container-id-3 {color: black;background-color: white;}#sk-container-id-3 pre{padding: 0;}#sk-container-id-3 div.sk-toggleable {background-color: white;}#sk-container-id-3 label.sk-toggleable__label {cursor: pointer;display: block;width: 100%;margin-bottom: 0;padding: 0.3em;box-sizing: border-box;text-align: center;}#sk-container-id-3 label.sk-toggleable__label-arrow:before {content: \"▸\";float: left;margin-right: 0.25em;color: #696969;}#sk-container-id-3 label.sk-toggleable__label-arrow:hover:before {color: black;}#sk-container-id-3 div.sk-estimator:hover label.sk-toggleable__label-arrow:before {color: black;}#sk-container-id-3 div.sk-toggleable__content {max-height: 0;max-width: 0;overflow: hidden;text-align: left;background-color: #f0f8ff;}#sk-container-id-3 div.sk-toggleable__content pre {margin: 0.2em;color: black;border-radius: 0.25em;background-color: #f0f8ff;}#sk-container-id-3 input.sk-toggleable__control:checked~div.sk-toggleable__content {max-height: 200px;max-width: 100%;overflow: auto;}#sk-container-id-3 input.sk-toggleable__control:checked~label.sk-toggleable__label-arrow:before {content: \"▾\";}#sk-container-id-3 div.sk-estimator input.sk-toggleable__control:checked~label.sk-toggleable__label {background-color: #d4ebff;}#sk-container-id-3 div.sk-label input.sk-toggleable__control:checked~label.sk-toggleable__label {background-color: #d4ebff;}#sk-container-id-3 input.sk-hidden--visually {border: 0;clip: rect(1px 1px 1px 1px);clip: rect(1px, 1px, 1px, 1px);height: 1px;margin: -1px;overflow: hidden;padding: 0;position: absolute;width: 1px;}#sk-container-id-3 div.sk-estimator {font-family: monospace;background-color: #f0f8ff;border: 1px dotted black;border-radius: 0.25em;box-sizing: border-box;margin-bottom: 0.5em;}#sk-container-id-3 div.sk-estimator:hover {background-color: #d4ebff;}#sk-container-id-3 div.sk-parallel-item::after {content: \"\";width: 100%;border-bottom: 1px solid gray;flex-grow: 1;}#sk-container-id-3 div.sk-label:hover label.sk-toggleable__label {background-color: #d4ebff;}#sk-container-id-3 div.sk-serial::before {content: \"\";position: absolute;border-left: 1px solid gray;box-sizing: border-box;top: 0;bottom: 0;left: 50%;z-index: 0;}#sk-container-id-3 div.sk-serial {display: flex;flex-direction: column;align-items: center;background-color: white;padding-right: 0.2em;padding-left: 0.2em;position: relative;}#sk-container-id-3 div.sk-item {position: relative;z-index: 1;}#sk-container-id-3 div.sk-parallel {display: flex;align-items: stretch;justify-content: center;background-color: white;position: relative;}#sk-container-id-3 div.sk-item::before, #sk-container-id-3 div.sk-parallel-item::before {content: \"\";position: absolute;border-left: 1px solid gray;box-sizing: border-box;top: 0;bottom: 0;left: 50%;z-index: -1;}#sk-container-id-3 div.sk-parallel-item {display: flex;flex-direction: column;z-index: 1;position: relative;background-color: white;}#sk-container-id-3 div.sk-parallel-item:first-child::after {align-self: flex-end;width: 50%;}#sk-container-id-3 div.sk-parallel-item:last-child::after {align-self: flex-start;width: 50%;}#sk-container-id-3 div.sk-parallel-item:only-child::after {width: 0;}#sk-container-id-3 div.sk-dashed-wrapped {border: 1px dashed gray;margin: 0 0.4em 0.5em 0.4em;box-sizing: border-box;padding-bottom: 0.4em;background-color: white;}#sk-container-id-3 div.sk-label label {font-family: monospace;font-weight: bold;display: inline-block;line-height: 1.2em;}#sk-container-id-3 div.sk-label-container {text-align: center;}#sk-container-id-3 div.sk-container {/* jupyter's `normalize.less` sets `[hidden] { display: none; }` but bootstrap.min.css set `[hidden] { display: none !important; }` so we also need the `!important` here to be able to override the default hidden behavior on the sphinx rendered scikit-learn.org. See: https://github.com/scikit-learn/scikit-learn/issues/21755 */display: inline-block !important;position: relative;}#sk-container-id-3 div.sk-text-repr-fallback {display: none;}</style><div id=\"sk-container-id-3\" class=\"sk-top-container\"><div class=\"sk-text-repr-fallback\"><pre>RFECV(estimator=RandomForestRegressor())</pre><b>In a Jupyter environment, please rerun this cell to show the HTML representation or trust the notebook. <br />On GitHub, the HTML representation is unable to render, please try loading this page with nbviewer.org.</b></div><div class=\"sk-container\" hidden><div class=\"sk-item sk-dashed-wrapped\"><div class=\"sk-label-container\"><div class=\"sk-label sk-toggleable\"><input class=\"sk-toggleable__control sk-hidden--visually\" id=\"sk-estimator-id-3\" type=\"checkbox\" ><label for=\"sk-estimator-id-3\" class=\"sk-toggleable__label sk-toggleable__label-arrow\">RFECV</label><div class=\"sk-toggleable__content\"><pre>RFECV(estimator=RandomForestRegressor())</pre></div></div></div><div class=\"sk-parallel\"><div class=\"sk-parallel-item\"><div class=\"sk-item\"><div class=\"sk-label-container\"><div class=\"sk-label sk-toggleable\"><input class=\"sk-toggleable__control sk-hidden--visually\" id=\"sk-estimator-id-4\" type=\"checkbox\" ><label for=\"sk-estimator-id-4\" class=\"sk-toggleable__label sk-toggleable__label-arrow\">estimator: RandomForestRegressor</label><div class=\"sk-toggleable__content\"><pre>RandomForestRegressor()</pre></div></div></div><div class=\"sk-serial\"><div class=\"sk-item\"><div class=\"sk-estimator sk-toggleable\"><input class=\"sk-toggleable__control sk-hidden--visually\" id=\"sk-estimator-id-5\" type=\"checkbox\" ><label for=\"sk-estimator-id-5\" class=\"sk-toggleable__label sk-toggleable__label-arrow\">RandomForestRegressor</label><div class=\"sk-toggleable__content\"><pre>RandomForestRegressor()</pre></div></div></div></div></div></div></div></div></div></div>"
      ],
      "text/plain": [
       "RFECV(estimator=RandomForestRegressor())"
      ]
     },
     "execution_count": 80,
     "metadata": {},
     "output_type": "execute_result"
    }
   ],
   "source": [
    "rfe.fit(features, target)"
   ]
  },
  {
   "cell_type": "code",
   "execution_count": 81,
   "id": "2fca70a1",
   "metadata": {},
   "outputs": [
    {
     "name": "stdout",
     "output_type": "stream",
     "text": [
      "Column: 0, Selected True, Rank: 1.000\n",
      "Column: 1, Selected True, Rank: 1.000\n",
      "Column: 2, Selected True, Rank: 1.000\n",
      "Column: 3, Selected True, Rank: 1.000\n",
      "Column: 4, Selected True, Rank: 1.000\n",
      "Column: 5, Selected False, Rank: 2.000\n",
      "Column: 6, Selected True, Rank: 1.000\n"
     ]
    }
   ],
   "source": [
    "for i in range(features.shape[1]):\n",
    " print('Column: %d, Selected %s, Rank: %.3f' % (i, rfe.support_[i], rfe.ranking_[i]))"
   ]
  },
  {
   "cell_type": "code",
   "execution_count": 82,
   "id": "450d3327",
   "metadata": {},
   "outputs": [
    {
     "name": "stdout",
     "output_type": "stream",
     "text": [
      "Selected features: \n",
      "Gyeonggido_Elec\n",
      "Gyeonggi_PM10\n",
      "Gyeonggi_Ozone\n",
      "Gyeonggi_SO3\n",
      "Gyeonggi_NO2\n",
      "Gyeonggido_Temp\n"
     ]
    }
   ],
   "source": [
    "selected = list(range(0,5)) + [6]\n",
    "print('Selected features: ', *features.iloc[:,selected].columns, sep='\\n')"
   ]
  },
  {
   "cell_type": "markdown",
   "id": "e2a22146",
   "metadata": {},
   "source": [
    "According to the recursive selection, only CO should be removed."
   ]
  },
  {
   "cell_type": "code",
   "execution_count": 83,
   "id": "3e2adf4c",
   "metadata": {},
   "outputs": [],
   "source": [
    "from sklearn.feature_selection import RFE"
   ]
  },
  {
   "cell_type": "code",
   "execution_count": 84,
   "id": "302f190b",
   "metadata": {
    "scrolled": true
   },
   "outputs": [
    {
     "name": "stdout",
     "output_type": "stream",
     "text": [
      "Column: 0, Selected True, Rank: 1.000\n",
      "Column: 1, Selected True, Rank: 1.000\n",
      "Column: 2, Selected True, Rank: 1.000\n",
      "Column: 3, Selected True, Rank: 1.000\n",
      "Column: 4, Selected True, Rank: 1.000\n",
      "Column: 5, Selected False, Rank: 2.000\n",
      "Column: 6, Selected True, Rank: 1.000\n"
     ]
    }
   ],
   "source": [
    "rfe2 = RFE(estimator=RandomForestRegressor(), n_features_to_select=4)\n",
    "# fit RFE\n",
    "rfe2.fit(features, target)\n",
    "# summarize all features\n",
    "for i in range(features.shape[1]):\n",
    " print('Column: %d, Selected %s, Rank: %.3f' % (i, rfe.support_[i], rfe.ranking_[i]))"
   ]
  },
  {
   "cell_type": "markdown",
   "id": "729c1e17",
   "metadata": {},
   "source": [
    "This is confirmed by manually specifying features to select, using an RFE."
   ]
  },
  {
   "cell_type": "code",
   "execution_count": 102,
   "id": "a4b2fa00",
   "metadata": {},
   "outputs": [],
   "source": [
    "# reset the training and test sets again\n",
    "X_train, X_test, y_train, y_test = train_test_split(features, target, test_size=.3, random_state=17)"
   ]
  },
  {
   "cell_type": "code",
   "execution_count": 103,
   "id": "7b76b7bb",
   "metadata": {},
   "outputs": [],
   "source": [
    "forest_tuned3 = RandomForestRegressor()\n",
    "forest_tuned3 = forest_tuned3.fit(X_train.drop(columns='Gyeonggi_CO'), y_train)\n",
    "y_pred = forest_tuned3.predict(X_test.drop(columns='Gyeonggi_CO'))"
   ]
  },
  {
   "cell_type": "code",
   "execution_count": 104,
   "id": "2889b4a8",
   "metadata": {},
   "outputs": [
    {
     "name": "stdout",
     "output_type": "stream",
     "text": [
      "MSE (Untuned, RFE Random Forest):  0.0030742358026645306\n",
      "RMSE (Untuned, RFE Random Forest):  0.05544579156856299\n"
     ]
    }
   ],
   "source": [
    "mse = mean_squared_error(y_test, y_pred)\n",
    "rmse = mse**.5\n",
    "print('MSE (Untuned, RFE Random Forest): ', mse)\n",
    "print('RMSE (Untuned, RFE Random Forest): ', rmse)"
   ]
  },
  {
   "cell_type": "code",
   "execution_count": 97,
   "id": "3a550fab",
   "metadata": {},
   "outputs": [],
   "source": [
    "# define models and parameters\n",
    "model3 = RandomForestRegressor()\n",
    "grid = {\n",
    "    'n_estimators': [100,200,400],\n",
    "    'max_features': ['sqrt', 'log2'],\n",
    "    'max_depth': [9,10,11],\n",
    "    'random_state': [42]\n",
    "}\n",
    "\n",
    "# define evaluation\n",
    "cv = RepeatedKFold(n_splits=10, n_repeats=3, random_state=1)"
   ]
  },
  {
   "cell_type": "code",
   "execution_count": 98,
   "id": "81f60750",
   "metadata": {},
   "outputs": [],
   "source": [
    "# define grid search\n",
    "search4 = GridSearchCV(model3, grid, scoring='neg_mean_squared_error', n_jobs=-1, cv=cv)\n",
    "\n",
    "# start grid search\n",
    "result4 = search4.fit(features.drop(columns='Gyeonggi_CO'), target)"
   ]
  },
  {
   "cell_type": "code",
   "execution_count": 99,
   "id": "cc0bbe1a",
   "metadata": {},
   "outputs": [
    {
     "name": "stdout",
     "output_type": "stream",
     "text": [
      "-0.005030221023739017\n",
      "{'max_depth': 10, 'max_features': 'sqrt', 'n_estimators': 200, 'random_state': 42}\n"
     ]
    }
   ],
   "source": [
    "print(result4.best_score_)\n",
    "print(result4.best_params_)"
   ]
  },
  {
   "cell_type": "code",
   "execution_count": 105,
   "id": "6703972a",
   "metadata": {},
   "outputs": [
    {
     "name": "stdout",
     "output_type": "stream",
     "text": [
      "MSE (Tuned RFE Random Forest):  0.0023617172973290365\n",
      "RMSE (Tuned RFE Random Forest):  0.048597502994794255\n"
     ]
    }
   ],
   "source": [
    "forest_tuned4 = RandomForestRegressor(max_depth=10, max_features='sqrt', n_estimators=200, random_state=42)\n",
    "forest_tuned4 = forest_tuned4.fit(X_train.drop(columns='Gyeonggi_CO'), y_train)\n",
    "y_pred = forest_tuned4.predict(X_test.drop(columns='Gyeonggi_CO'))\n",
    "\n",
    "mse = mean_squared_error(y_test, y_pred)\n",
    "rmse = mse**.5\n",
    "print('MSE (Tuned RFE Random Forest): ', mse)\n",
    "print('RMSE (Tuned RFE Random Forest): ', rmse)"
   ]
  },
  {
   "cell_type": "markdown",
   "id": "df7572e3",
   "metadata": {},
   "source": [
    "## Final Result after recursively eliminating features and re-tuning hyperparameters:\n",
    "Features: Electricity Generation, PM10, Ozone, NO2, Temperature\n",
    "<br> Model: Random Forest\n",
    "<br> Hyperparams: 'max_depth': 10, 'max_features': 'sqrt', 'n_estimators': 200, 'random_state': 42\n",
    "<br> __MSE: 0.0024\n",
    "<br> RMSE: 0.049__\n",
    "<br><br>\n",
    "### Compared to the previous, manually eliminated features:\n",
    "Features: Ozone, NO2, CO, Temperature\n",
    "<br> Model: Random Forest\n",
    "<br> Hyperparams: 'max_depth': 9, 'max_features': 'sqrt', 'n_estimators': 400, 'random_state': 42\n",
    "<br> __MSE: 0.0021\n",
    "<br> RMSE: 0.046__"
   ]
  },
  {
   "cell_type": "markdown",
   "id": "470cce98",
   "metadata": {},
   "source": [
    "# Even more features... \n",
    "Let's introduce more potentially impactful features! This is explored in the EDA, but we will include additional weather data (precipitation, wind speed, etc.), travel data (international flights), and housing information (construction building use/material). "
   ]
  },
  {
   "cell_type": "code",
   "execution_count": 107,
   "id": "b245f715",
   "metadata": {},
   "outputs": [
    {
     "data": {
      "text/html": [
       "<div>\n",
       "<style scoped>\n",
       "    .dataframe tbody tr th:only-of-type {\n",
       "        vertical-align: middle;\n",
       "    }\n",
       "\n",
       "    .dataframe tbody tr th {\n",
       "        vertical-align: top;\n",
       "    }\n",
       "\n",
       "    .dataframe thead th {\n",
       "        text-align: right;\n",
       "    }\n",
       "</style>\n",
       "<table border=\"1\" class=\"dataframe\">\n",
       "  <thead>\n",
       "    <tr style=\"text-align: right;\">\n",
       "      <th></th>\n",
       "      <th>Year</th>\n",
       "      <th>Month</th>\n",
       "      <th>Gyeonggido_Elec</th>\n",
       "      <th>Gyeonggido_Gas</th>\n",
       "      <th>Gyeonggi_PM10</th>\n",
       "      <th>Gyeonggi_Ozone</th>\n",
       "      <th>Gyeonggi_SO3</th>\n",
       "      <th>Gyeonggi_NO2</th>\n",
       "      <th>Gyeonggi_CO</th>\n",
       "      <th>Gyeonggido_Temp</th>\n",
       "      <th>Seoul_Total_Precip_mm</th>\n",
       "      <th>Seoul_Mean_Wind_Speed</th>\n",
       "      <th>Seoul_Mean_Rel_Humidity</th>\n",
       "      <th>Seoul_Surgery_Cases</th>\n",
       "      <th>Nat_Total_New_Buildings</th>\n",
       "      <th>Nat_Masonry_Buildings</th>\n",
       "      <th>Nat_Industrial_Use_Buildings</th>\n",
       "      <th>Nat_Edu_Social_Use_Buildings</th>\n",
       "      <th>Nat_Other_Use_Buildings</th>\n",
       "    </tr>\n",
       "  </thead>\n",
       "  <tbody>\n",
       "    <tr>\n",
       "      <th>0</th>\n",
       "      <td>2010</td>\n",
       "      <td>1</td>\n",
       "      <td>744.101205</td>\n",
       "      <td>738025</td>\n",
       "      <td>68</td>\n",
       "      <td>0.011</td>\n",
       "      <td>0.008</td>\n",
       "      <td>0.040</td>\n",
       "      <td>0.9</td>\n",
       "      <td>-4.5</td>\n",
       "      <td>29.3</td>\n",
       "      <td>2.3</td>\n",
       "      <td>65</td>\n",
       "      <td>164364</td>\n",
       "      <td>9528</td>\n",
       "      <td>627</td>\n",
       "      <td>1290</td>\n",
       "      <td>502</td>\n",
       "      <td>1964</td>\n",
       "    </tr>\n",
       "    <tr>\n",
       "      <th>1</th>\n",
       "      <td>2010</td>\n",
       "      <td>2</td>\n",
       "      <td>713.740016</td>\n",
       "      <td>610984</td>\n",
       "      <td>56</td>\n",
       "      <td>0.015</td>\n",
       "      <td>0.007</td>\n",
       "      <td>0.034</td>\n",
       "      <td>0.7</td>\n",
       "      <td>1.4</td>\n",
       "      <td>55.3</td>\n",
       "      <td>2.4</td>\n",
       "      <td>59</td>\n",
       "      <td>137825</td>\n",
       "      <td>10241</td>\n",
       "      <td>719</td>\n",
       "      <td>1196</td>\n",
       "      <td>422</td>\n",
       "      <td>2067</td>\n",
       "    </tr>\n",
       "    <tr>\n",
       "      <th>2</th>\n",
       "      <td>2010</td>\n",
       "      <td>3</td>\n",
       "      <td>731.995382</td>\n",
       "      <td>500288</td>\n",
       "      <td>67</td>\n",
       "      <td>0.023</td>\n",
       "      <td>0.005</td>\n",
       "      <td>0.028</td>\n",
       "      <td>0.6</td>\n",
       "      <td>4.3</td>\n",
       "      <td>82.5</td>\n",
       "      <td>2.9</td>\n",
       "      <td>59</td>\n",
       "      <td>164433</td>\n",
       "      <td>17168</td>\n",
       "      <td>1469</td>\n",
       "      <td>1771</td>\n",
       "      <td>769</td>\n",
       "      <td>3399</td>\n",
       "    </tr>\n",
       "    <tr>\n",
       "      <th>3</th>\n",
       "      <td>2010</td>\n",
       "      <td>4</td>\n",
       "      <td>817.928450</td>\n",
       "      <td>439879</td>\n",
       "      <td>57</td>\n",
       "      <td>0.026</td>\n",
       "      <td>0.005</td>\n",
       "      <td>0.030</td>\n",
       "      <td>0.5</td>\n",
       "      <td>9.5</td>\n",
       "      <td>62.8</td>\n",
       "      <td>2.9</td>\n",
       "      <td>54</td>\n",
       "      <td>148010</td>\n",
       "      <td>21082</td>\n",
       "      <td>1957</td>\n",
       "      <td>2200</td>\n",
       "      <td>920</td>\n",
       "      <td>4677</td>\n",
       "    </tr>\n",
       "    <tr>\n",
       "      <th>4</th>\n",
       "      <td>2010</td>\n",
       "      <td>5</td>\n",
       "      <td>700.898429</td>\n",
       "      <td>298335</td>\n",
       "      <td>66</td>\n",
       "      <td>0.033</td>\n",
       "      <td>0.005</td>\n",
       "      <td>0.029</td>\n",
       "      <td>0.5</td>\n",
       "      <td>17.2</td>\n",
       "      <td>124.0</td>\n",
       "      <td>2.6</td>\n",
       "      <td>62</td>\n",
       "      <td>140411</td>\n",
       "      <td>18084</td>\n",
       "      <td>1625</td>\n",
       "      <td>1726</td>\n",
       "      <td>856</td>\n",
       "      <td>3908</td>\n",
       "    </tr>\n",
       "    <tr>\n",
       "      <th>...</th>\n",
       "      <td>...</td>\n",
       "      <td>...</td>\n",
       "      <td>...</td>\n",
       "      <td>...</td>\n",
       "      <td>...</td>\n",
       "      <td>...</td>\n",
       "      <td>...</td>\n",
       "      <td>...</td>\n",
       "      <td>...</td>\n",
       "      <td>...</td>\n",
       "      <td>...</td>\n",
       "      <td>...</td>\n",
       "      <td>...</td>\n",
       "      <td>...</td>\n",
       "      <td>...</td>\n",
       "      <td>...</td>\n",
       "      <td>...</td>\n",
       "      <td>...</td>\n",
       "      <td>...</td>\n",
       "    </tr>\n",
       "    <tr>\n",
       "      <th>127</th>\n",
       "      <td>2020</td>\n",
       "      <td>8</td>\n",
       "      <td>6047.920142</td>\n",
       "      <td>255222</td>\n",
       "      <td>24</td>\n",
       "      <td>0.023</td>\n",
       "      <td>0.003</td>\n",
       "      <td>0.011</td>\n",
       "      <td>0.3</td>\n",
       "      <td>26.5</td>\n",
       "      <td>675.7</td>\n",
       "      <td>2.3</td>\n",
       "      <td>85</td>\n",
       "      <td>147117</td>\n",
       "      <td>13575</td>\n",
       "      <td>250</td>\n",
       "      <td>1277</td>\n",
       "      <td>437</td>\n",
       "      <td>3281</td>\n",
       "    </tr>\n",
       "    <tr>\n",
       "      <th>128</th>\n",
       "      <td>2020</td>\n",
       "      <td>9</td>\n",
       "      <td>6285.545956</td>\n",
       "      <td>243817</td>\n",
       "      <td>22</td>\n",
       "      <td>0.029</td>\n",
       "      <td>0.003</td>\n",
       "      <td>0.013</td>\n",
       "      <td>0.4</td>\n",
       "      <td>21.4</td>\n",
       "      <td>181.5</td>\n",
       "      <td>2.5</td>\n",
       "      <td>71</td>\n",
       "      <td>145354</td>\n",
       "      <td>16906</td>\n",
       "      <td>368</td>\n",
       "      <td>1364</td>\n",
       "      <td>478</td>\n",
       "      <td>4260</td>\n",
       "    </tr>\n",
       "    <tr>\n",
       "      <th>129</th>\n",
       "      <td>2020</td>\n",
       "      <td>10</td>\n",
       "      <td>5805.792953</td>\n",
       "      <td>339823</td>\n",
       "      <td>38</td>\n",
       "      <td>0.022</td>\n",
       "      <td>0.003</td>\n",
       "      <td>0.022</td>\n",
       "      <td>0.5</td>\n",
       "      <td>14.3</td>\n",
       "      <td>0.0</td>\n",
       "      <td>2.1</td>\n",
       "      <td>60</td>\n",
       "      <td>160605</td>\n",
       "      <td>16080</td>\n",
       "      <td>344</td>\n",
       "      <td>1201</td>\n",
       "      <td>531</td>\n",
       "      <td>4049</td>\n",
       "    </tr>\n",
       "    <tr>\n",
       "      <th>130</th>\n",
       "      <td>2020</td>\n",
       "      <td>11</td>\n",
       "      <td>5313.923434</td>\n",
       "      <td>497221</td>\n",
       "      <td>45</td>\n",
       "      <td>0.017</td>\n",
       "      <td>0.003</td>\n",
       "      <td>0.027</td>\n",
       "      <td>0.5</td>\n",
       "      <td>8.0</td>\n",
       "      <td>120.1</td>\n",
       "      <td>2.2</td>\n",
       "      <td>64</td>\n",
       "      <td>166500</td>\n",
       "      <td>16709</td>\n",
       "      <td>309</td>\n",
       "      <td>1315</td>\n",
       "      <td>501</td>\n",
       "      <td>4342</td>\n",
       "    </tr>\n",
       "    <tr>\n",
       "      <th>131</th>\n",
       "      <td>2020</td>\n",
       "      <td>12</td>\n",
       "      <td>4591.112244</td>\n",
       "      <td>742863</td>\n",
       "      <td>46</td>\n",
       "      <td>0.015</td>\n",
       "      <td>0.004</td>\n",
       "      <td>0.028</td>\n",
       "      <td>0.6</td>\n",
       "      <td>-0.3</td>\n",
       "      <td>4.6</td>\n",
       "      <td>2.2</td>\n",
       "      <td>58</td>\n",
       "      <td>184824</td>\n",
       "      <td>14802</td>\n",
       "      <td>263</td>\n",
       "      <td>1188</td>\n",
       "      <td>583</td>\n",
       "      <td>3555</td>\n",
       "    </tr>\n",
       "  </tbody>\n",
       "</table>\n",
       "<p>132 rows × 19 columns</p>\n",
       "</div>"
      ],
      "text/plain": [
       "     Year  Month  Gyeonggido_Elec  Gyeonggido_Gas  Gyeonggi_PM10  \\\n",
       "0    2010      1       744.101205          738025             68   \n",
       "1    2010      2       713.740016          610984             56   \n",
       "2    2010      3       731.995382          500288             67   \n",
       "3    2010      4       817.928450          439879             57   \n",
       "4    2010      5       700.898429          298335             66   \n",
       "..    ...    ...              ...             ...            ...   \n",
       "127  2020      8      6047.920142          255222             24   \n",
       "128  2020      9      6285.545956          243817             22   \n",
       "129  2020     10      5805.792953          339823             38   \n",
       "130  2020     11      5313.923434          497221             45   \n",
       "131  2020     12      4591.112244          742863             46   \n",
       "\n",
       "     Gyeonggi_Ozone  Gyeonggi_SO3  Gyeonggi_NO2  Gyeonggi_CO  Gyeonggido_Temp  \\\n",
       "0             0.011         0.008         0.040          0.9             -4.5   \n",
       "1             0.015         0.007         0.034          0.7              1.4   \n",
       "2             0.023         0.005         0.028          0.6              4.3   \n",
       "3             0.026         0.005         0.030          0.5              9.5   \n",
       "4             0.033         0.005         0.029          0.5             17.2   \n",
       "..              ...           ...           ...          ...              ...   \n",
       "127           0.023         0.003         0.011          0.3             26.5   \n",
       "128           0.029         0.003         0.013          0.4             21.4   \n",
       "129           0.022         0.003         0.022          0.5             14.3   \n",
       "130           0.017         0.003         0.027          0.5              8.0   \n",
       "131           0.015         0.004         0.028          0.6             -0.3   \n",
       "\n",
       "     Seoul_Total_Precip_mm  Seoul_Mean_Wind_Speed  Seoul_Mean_Rel_Humidity  \\\n",
       "0                     29.3                    2.3                       65   \n",
       "1                     55.3                    2.4                       59   \n",
       "2                     82.5                    2.9                       59   \n",
       "3                     62.8                    2.9                       54   \n",
       "4                    124.0                    2.6                       62   \n",
       "..                     ...                    ...                      ...   \n",
       "127                  675.7                    2.3                       85   \n",
       "128                  181.5                    2.5                       71   \n",
       "129                    0.0                    2.1                       60   \n",
       "130                  120.1                    2.2                       64   \n",
       "131                    4.6                    2.2                       58   \n",
       "\n",
       "     Seoul_Surgery_Cases  Nat_Total_New_Buildings  Nat_Masonry_Buildings  \\\n",
       "0                 164364                     9528                    627   \n",
       "1                 137825                    10241                    719   \n",
       "2                 164433                    17168                   1469   \n",
       "3                 148010                    21082                   1957   \n",
       "4                 140411                    18084                   1625   \n",
       "..                   ...                      ...                    ...   \n",
       "127               147117                    13575                    250   \n",
       "128               145354                    16906                    368   \n",
       "129               160605                    16080                    344   \n",
       "130               166500                    16709                    309   \n",
       "131               184824                    14802                    263   \n",
       "\n",
       "     Nat_Industrial_Use_Buildings  Nat_Edu_Social_Use_Buildings  \\\n",
       "0                            1290                           502   \n",
       "1                            1196                           422   \n",
       "2                            1771                           769   \n",
       "3                            2200                           920   \n",
       "4                            1726                           856   \n",
       "..                            ...                           ...   \n",
       "127                          1277                           437   \n",
       "128                          1364                           478   \n",
       "129                          1201                           531   \n",
       "130                          1315                           501   \n",
       "131                          1188                           583   \n",
       "\n",
       "     Nat_Other_Use_Buildings  \n",
       "0                       1964  \n",
       "1                       2067  \n",
       "2                       3399  \n",
       "3                       4677  \n",
       "4                       3908  \n",
       "..                       ...  \n",
       "127                     3281  \n",
       "128                     4260  \n",
       "129                     4049  \n",
       "130                     4342  \n",
       "131                     3555  \n",
       "\n",
       "[132 rows x 19 columns]"
      ]
     },
     "execution_count": 107,
     "metadata": {},
     "output_type": "execute_result"
    }
   ],
   "source": [
    "gas_mega_df = pd.read_excel('Data/Korea_Data_All.xlsx', sheet_name='GAS_RELEVANT_GGDO')\n",
    "gas_mega_df"
   ]
  },
  {
   "cell_type": "markdown",
   "id": "4cf28b44",
   "metadata": {},
   "source": [
    "As we can see, there are a lot more features here with potential implications or benefits on building an even more accurate model. To reference the correlation heatmap from the EDA:\n",
    "\n",
    "<div>\n",
    "<img src=\"Data/feature_correlation_gas.png\" width=\"800\" height=\"400\">\n",
    "</div>\n",
    "\n",
    "Let's try to run a simple Random Forest Regressor to see how it performs with all of these new features."
   ]
  },
  {
   "cell_type": "code",
   "execution_count": 129,
   "id": "09fe94bc",
   "metadata": {},
   "outputs": [],
   "source": [
    "# define features and target (gas generation)\n",
    "gas_norm_mega_df = normalize(gas_mega_df)\n",
    "features = gas_norm_mega_df.drop(columns=['Gyeonggido_Gas', 'Month', 'Year'])\n",
    "target = gas_norm_mega_df.Gyeonggido_Gas"
   ]
  },
  {
   "cell_type": "code",
   "execution_count": 130,
   "id": "04f64678",
   "metadata": {},
   "outputs": [],
   "source": [
    "# Split into training and test data\n",
    "X_train, X_test, y_train, y_test = train_test_split(features, target, test_size=.3, random_state=17)"
   ]
  },
  {
   "cell_type": "code",
   "execution_count": 131,
   "id": "64f88623",
   "metadata": {},
   "outputs": [],
   "source": [
    "# initialize regressor\n",
    "final_forest = RandomForestRegressor(random_state=42)\n",
    "final_forest = forest.fit(X_train, y_train)\n",
    "y_pred = forest.predict(X_test)"
   ]
  },
  {
   "cell_type": "code",
   "execution_count": 132,
   "id": "ed910236",
   "metadata": {},
   "outputs": [
    {
     "name": "stdout",
     "output_type": "stream",
     "text": [
      "MSE (Many Features Untuned Random Forest):  0.0022937211715045452\n",
      "RMSE (Many Features Untuned Random Forest):  0.04789280918368169\n"
     ]
    }
   ],
   "source": [
    "mse = mean_squared_error(y_test, y_pred)\n",
    "rmse = mse**.5\n",
    "print('MSE (Many Features Untuned Random Forest): ', mse)\n",
    "print('RMSE (Many Features Untuned Random Forest): ', rmse)"
   ]
  },
  {
   "cell_type": "markdown",
   "id": "8c917f8c",
   "metadata": {},
   "source": [
    "This actually performs better than the initial untuned model from before with less features! Let's try to see if any features can be eliminated to better improve the performance. We can use another recursive feature elimination:"
   ]
  },
  {
   "cell_type": "code",
   "execution_count": 133,
   "id": "7877ca59",
   "metadata": {},
   "outputs": [],
   "source": [
    "# create pipeline\n",
    "rfe = RFECV(estimator=RandomForestRegressor())\n",
    "model = RandomForestRegressor()\n",
    "pipeline = Pipeline(steps=[('s',rfe),('m',model)])\n",
    "# evaluate model\n",
    "cv = RepeatedKFold(n_splits=10, n_repeats=3, random_state=1)\n",
    "n_scores = cross_val_score(pipeline, features, target, scoring='neg_mean_squared_error', cv=cv, n_jobs=-1, error_score='raise')"
   ]
  },
  {
   "cell_type": "code",
   "execution_count": 134,
   "id": "5246fde7",
   "metadata": {},
   "outputs": [
    {
     "data": {
      "text/html": [
       "<style>#sk-container-id-5 {color: black;background-color: white;}#sk-container-id-5 pre{padding: 0;}#sk-container-id-5 div.sk-toggleable {background-color: white;}#sk-container-id-5 label.sk-toggleable__label {cursor: pointer;display: block;width: 100%;margin-bottom: 0;padding: 0.3em;box-sizing: border-box;text-align: center;}#sk-container-id-5 label.sk-toggleable__label-arrow:before {content: \"▸\";float: left;margin-right: 0.25em;color: #696969;}#sk-container-id-5 label.sk-toggleable__label-arrow:hover:before {color: black;}#sk-container-id-5 div.sk-estimator:hover label.sk-toggleable__label-arrow:before {color: black;}#sk-container-id-5 div.sk-toggleable__content {max-height: 0;max-width: 0;overflow: hidden;text-align: left;background-color: #f0f8ff;}#sk-container-id-5 div.sk-toggleable__content pre {margin: 0.2em;color: black;border-radius: 0.25em;background-color: #f0f8ff;}#sk-container-id-5 input.sk-toggleable__control:checked~div.sk-toggleable__content {max-height: 200px;max-width: 100%;overflow: auto;}#sk-container-id-5 input.sk-toggleable__control:checked~label.sk-toggleable__label-arrow:before {content: \"▾\";}#sk-container-id-5 div.sk-estimator input.sk-toggleable__control:checked~label.sk-toggleable__label {background-color: #d4ebff;}#sk-container-id-5 div.sk-label input.sk-toggleable__control:checked~label.sk-toggleable__label {background-color: #d4ebff;}#sk-container-id-5 input.sk-hidden--visually {border: 0;clip: rect(1px 1px 1px 1px);clip: rect(1px, 1px, 1px, 1px);height: 1px;margin: -1px;overflow: hidden;padding: 0;position: absolute;width: 1px;}#sk-container-id-5 div.sk-estimator {font-family: monospace;background-color: #f0f8ff;border: 1px dotted black;border-radius: 0.25em;box-sizing: border-box;margin-bottom: 0.5em;}#sk-container-id-5 div.sk-estimator:hover {background-color: #d4ebff;}#sk-container-id-5 div.sk-parallel-item::after {content: \"\";width: 100%;border-bottom: 1px solid gray;flex-grow: 1;}#sk-container-id-5 div.sk-label:hover label.sk-toggleable__label {background-color: #d4ebff;}#sk-container-id-5 div.sk-serial::before {content: \"\";position: absolute;border-left: 1px solid gray;box-sizing: border-box;top: 0;bottom: 0;left: 50%;z-index: 0;}#sk-container-id-5 div.sk-serial {display: flex;flex-direction: column;align-items: center;background-color: white;padding-right: 0.2em;padding-left: 0.2em;position: relative;}#sk-container-id-5 div.sk-item {position: relative;z-index: 1;}#sk-container-id-5 div.sk-parallel {display: flex;align-items: stretch;justify-content: center;background-color: white;position: relative;}#sk-container-id-5 div.sk-item::before, #sk-container-id-5 div.sk-parallel-item::before {content: \"\";position: absolute;border-left: 1px solid gray;box-sizing: border-box;top: 0;bottom: 0;left: 50%;z-index: -1;}#sk-container-id-5 div.sk-parallel-item {display: flex;flex-direction: column;z-index: 1;position: relative;background-color: white;}#sk-container-id-5 div.sk-parallel-item:first-child::after {align-self: flex-end;width: 50%;}#sk-container-id-5 div.sk-parallel-item:last-child::after {align-self: flex-start;width: 50%;}#sk-container-id-5 div.sk-parallel-item:only-child::after {width: 0;}#sk-container-id-5 div.sk-dashed-wrapped {border: 1px dashed gray;margin: 0 0.4em 0.5em 0.4em;box-sizing: border-box;padding-bottom: 0.4em;background-color: white;}#sk-container-id-5 div.sk-label label {font-family: monospace;font-weight: bold;display: inline-block;line-height: 1.2em;}#sk-container-id-5 div.sk-label-container {text-align: center;}#sk-container-id-5 div.sk-container {/* jupyter's `normalize.less` sets `[hidden] { display: none; }` but bootstrap.min.css set `[hidden] { display: none !important; }` so we also need the `!important` here to be able to override the default hidden behavior on the sphinx rendered scikit-learn.org. See: https://github.com/scikit-learn/scikit-learn/issues/21755 */display: inline-block !important;position: relative;}#sk-container-id-5 div.sk-text-repr-fallback {display: none;}</style><div id=\"sk-container-id-5\" class=\"sk-top-container\"><div class=\"sk-text-repr-fallback\"><pre>RFECV(estimator=RandomForestRegressor())</pre><b>In a Jupyter environment, please rerun this cell to show the HTML representation or trust the notebook. <br />On GitHub, the HTML representation is unable to render, please try loading this page with nbviewer.org.</b></div><div class=\"sk-container\" hidden><div class=\"sk-item sk-dashed-wrapped\"><div class=\"sk-label-container\"><div class=\"sk-label sk-toggleable\"><input class=\"sk-toggleable__control sk-hidden--visually\" id=\"sk-estimator-id-9\" type=\"checkbox\" ><label for=\"sk-estimator-id-9\" class=\"sk-toggleable__label sk-toggleable__label-arrow\">RFECV</label><div class=\"sk-toggleable__content\"><pre>RFECV(estimator=RandomForestRegressor())</pre></div></div></div><div class=\"sk-parallel\"><div class=\"sk-parallel-item\"><div class=\"sk-item\"><div class=\"sk-label-container\"><div class=\"sk-label sk-toggleable\"><input class=\"sk-toggleable__control sk-hidden--visually\" id=\"sk-estimator-id-10\" type=\"checkbox\" ><label for=\"sk-estimator-id-10\" class=\"sk-toggleable__label sk-toggleable__label-arrow\">estimator: RandomForestRegressor</label><div class=\"sk-toggleable__content\"><pre>RandomForestRegressor()</pre></div></div></div><div class=\"sk-serial\"><div class=\"sk-item\"><div class=\"sk-estimator sk-toggleable\"><input class=\"sk-toggleable__control sk-hidden--visually\" id=\"sk-estimator-id-11\" type=\"checkbox\" ><label for=\"sk-estimator-id-11\" class=\"sk-toggleable__label sk-toggleable__label-arrow\">RandomForestRegressor</label><div class=\"sk-toggleable__content\"><pre>RandomForestRegressor()</pre></div></div></div></div></div></div></div></div></div></div>"
      ],
      "text/plain": [
       "RFECV(estimator=RandomForestRegressor())"
      ]
     },
     "execution_count": 134,
     "metadata": {},
     "output_type": "execute_result"
    }
   ],
   "source": [
    "rfe.fit(features, target)"
   ]
  },
  {
   "cell_type": "code",
   "execution_count": 135,
   "id": "69124ac9",
   "metadata": {},
   "outputs": [
    {
     "name": "stdout",
     "output_type": "stream",
     "text": [
      "Column: 0, Selected False, Rank: 7.000\n",
      "Column: 1, Selected False, Rank: 4.000\n",
      "Column: 2, Selected True, Rank: 1.000\n",
      "Column: 3, Selected False, Rank: 9.000\n",
      "Column: 4, Selected False, Rank: 8.000\n",
      "Column: 5, Selected False, Rank: 10.000\n",
      "Column: 6, Selected True, Rank: 1.000\n",
      "Column: 7, Selected False, Rank: 3.000\n",
      "Column: 8, Selected False, Rank: 2.000\n",
      "Column: 9, Selected True, Rank: 1.000\n",
      "Column: 10, Selected True, Rank: 1.000\n",
      "Column: 11, Selected True, Rank: 1.000\n",
      "Column: 12, Selected True, Rank: 1.000\n",
      "Column: 13, Selected False, Rank: 6.000\n",
      "Column: 14, Selected False, Rank: 5.000\n",
      "Column: 15, Selected True, Rank: 1.000\n"
     ]
    }
   ],
   "source": [
    "for i in range(features.shape[1]):\n",
    " print('Column: %d, Selected %s, Rank: %.3f' % (i, rfe.support_[i], rfe.ranking_[i]))"
   ]
  },
  {
   "cell_type": "code",
   "execution_count": 137,
   "id": "438d40cc",
   "metadata": {},
   "outputs": [
    {
     "name": "stdout",
     "output_type": "stream",
     "text": [
      "Selected features: \n",
      "Gyeonggi_Ozone\n",
      "Gyeonggido_Temp\n",
      "Nat_Other_Use_Buildings\n",
      "Seoul_Mean_Rel_Humidity\n",
      "Seoul_Surgery_Cases\n",
      "Nat_Total_New_Buildings\n",
      "Nat_Masonry_Buildings\n"
     ]
    }
   ],
   "source": [
    "selected = [2, 6, 15] + list(range(9,13))\n",
    "print('Selected features: ', *features.iloc[:,selected].columns, sep='\\n')"
   ]
  },
  {
   "cell_type": "code",
   "execution_count": 141,
   "id": "90fe03f8",
   "metadata": {},
   "outputs": [],
   "source": [
    "features_dropped = features.iloc[:,selected]\n",
    "\n",
    "# Split into training and test data\n",
    "X_train, X_test, y_train, y_test = train_test_split(features_dropped, target, test_size=.3, random_state=17)"
   ]
  },
  {
   "cell_type": "code",
   "execution_count": 142,
   "id": "2c30c5f1",
   "metadata": {},
   "outputs": [],
   "source": [
    "# initialize regressor\n",
    "final_forest_dropped = RandomForestRegressor(random_state=42)\n",
    "final_forest_dropped = forest.fit(X_train, y_train)\n",
    "y_pred = forest.predict(X_test)"
   ]
  },
  {
   "cell_type": "code",
   "execution_count": null,
   "id": "af9d8df7",
   "metadata": {},
   "outputs": [],
   "source": [
    "mse = mean_squared_error(y_test, y_pred)\n",
    "rmse = mse**.5\n",
    "print('MSE (Less Features Untuned Random Forest): ', mse)\n",
    "print('RMSE (Less Features Untuned Random Forest): ', rmse)"
   ]
  },
  {
   "cell_type": "markdown",
   "id": "c0ee55cc",
   "metadata": {},
   "source": [
    "# Initial Modeling: Conclusion\n",
    "### Target pivot: Pharmaceutical Sales\n",
    "This notebook aimed to work with several algorithms/methods to find potential connections and make a model to predict electricity and/or gas generation in Korea based on the variety of data collected and discussed above. However, while working with the data and exploring correlations, it was found that there are convincing and interesting relationships to be explored with a different target in mind: _Predicting total pharmaceutical sales_. \n",
    "\n",
    "Therefore, this portion of data exploration and modeling will be put on pause, and these techniques will instead be used to find relationships in the data with regards to this new target. This will be continued in a new notebook file (Pharm_Modeling.ipynb) for clarity, and will also summarize previous findings and motivations for changing the target. \n",
    "\n",
    "This capstone project is very similar to a research project in nature, so the conclusions often shift depending on new findings in the data. Thank you for your interest thus far, and please continue in Pharm_Modeling to see the final conclusions of this project."
   ]
  }
 ],
 "metadata": {
  "kernelspec": {
   "display_name": "Python 3 (ipykernel)",
   "language": "python",
   "name": "python3"
  },
  "language_info": {
   "codemirror_mode": {
    "name": "ipython",
    "version": 3
   },
   "file_extension": ".py",
   "mimetype": "text/x-python",
   "name": "python",
   "nbconvert_exporter": "python",
   "pygments_lexer": "ipython3",
   "version": "3.10.9"
  }
 },
 "nbformat": 4,
 "nbformat_minor": 5
}
